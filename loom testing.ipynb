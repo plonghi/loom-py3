{
 "cells": [
  {
   "cell_type": "code",
   "execution_count": 1,
   "metadata": {},
   "outputs": [
    {
     "data": {
      "text/plain": [
       "'/home/pietro/loom'"
      ]
     },
     "execution_count": 1,
     "metadata": {},
     "output_type": "execute_result"
    }
   ],
   "source": [
    "pwd"
   ]
  },
  {
   "cell_type": "code",
   "execution_count": 2,
   "metadata": {},
   "outputs": [
    {
     "name": "stdout",
     "output_type": "stream",
     "text": [
      "3.6.9 (default, Nov  7 2019, 10:44:02) \n",
      "[GCC 8.3.0]\n"
     ]
    }
   ],
   "source": [
    "import sys\n",
    "print(sys.version)"
   ]
  },
  {
   "cell_type": "code",
   "execution_count": 6,
   "metadata": {},
   "outputs": [
    {
     "name": "stdout",
     "output_type": "stream",
     "text": [
      "Loading configuration from /home/pietro/loom/config/test.ini...\n",
      "Finished loading configuration from /home/pietro/loom/config/test.ini.\n"
     ]
    },
    {
     "data": {
      "text/plain": [
       "{'description': 'Pure SU(2) at the origin of the Coulomb branch',\n",
       " 'casimir_differentials': '{2: (1/z + u_2 + z)*(1/z^2)}',\n",
       " 'root_system': 'A1',\n",
       " 'representation': '1',\n",
       " 'irregular_punctures': '[0, oo]',\n",
       " 'differential_parameters': '{u_2 = 0}',\n",
       " 'ramification_point_finding_method': 'discriminant',\n",
       " 'mt_params': None,\n",
       " 'regular_punctures': None,\n",
       " 'ramification_points': None,\n",
       " 'branch_points': None,\n",
       " 'accuracy': 1e-06,\n",
       " 'plot_range': [[-5, 5], [-5, 5]],\n",
       " 'num_of_steps': 500,\n",
       " 'num_of_iterations': 1,\n",
       " 'mass_limit': 10.0,\n",
       " 'phase': 1.0,\n",
       " 'size_of_small_step': None,\n",
       " 'size_of_large_step': None,\n",
       " 'size_of_puncture_cutoff': None,\n",
       " 'size_of_bp_neighborhood': None}"
      ]
     },
     "execution_count": 6,
     "metadata": {},
     "output_type": "execute_result"
    }
   ],
   "source": [
    "from loom.api import generate_spectral_network, load_config\n",
    "import os\n",
    "path = os.path.abspath(os.path.join(os.getcwd(), os.pardir))  # parent directory\n",
    "config_file_path = path + '/loom/config/test.ini'\n",
    "config = load_config(config_file_path)\n",
    "config.data"
   ]
  },
  {
   "cell_type": "code",
   "execution_count": 7,
   "metadata": {
    "scrolled": true
   },
   "outputs": [
    {
     "name": "stdout",
     "output_type": "stream",
     "text": [
      "Started @ 2020-03-17 17:55:15\n",
      "Ramification point finding method: discriminant\n",
      "Calculating ramification points of the Seiberg-Witten curve in the first fundamental rep.\n",
      "The z-plane has not been rotated.\n",
      "Some branch points or punctures are vertically aligned.\n",
      "Need to rotate the z-plane.\n",
      "\n",
      "Will try rotating z-plane in increments of pi/2\n",
      "The z-plane has been rotated 1 times.\n",
      "Current rotation of the z-plane: I\n",
      "\n",
      "All branch points and punctures are sufficiently separated horizontally.\n",
      "Will not rotate z-plane any more.\n",
      "\n",
      "Analyzing a ramification point at z = (-1-2.77555756156e-17j), x=(-7.45058059692e-09+2.06795153138e-25j).\n",
      "Analyzing a ramification point at z = (1+0j), x=0j.\n",
      "size_of_small_step = 0.01\n",
      "size_of_large_step = 0.1\n",
      "size_of_bp_neighborhood = 0.5\n",
      "size_of_puncture_cutoff = 0.01\n",
      "Seiberg-Witten curve in the 1st fundamental representation:\n",
      "(note: \\lambda = x dz)\n",
      "x^{2} + \\frac{1}{z^{2}} \\left(u_{2} + z + \\frac{1}{z}\\right) = 0\n",
      "(numerically\n",
      "x^{2} - \\frac{1}{z^{2}} \\left(i z - \\frac{i}{z}\\right)=0\n",
      ")\n",
      "Seiberg-Witten differential:\n",
      "x dz\n",
      "(numerically\n",
      "i x dz\n",
      ")\n",
      "ramification point #0: z = (-1-2.77555756156e-17j), x = (-7.45058059692e-09+2.06795153138e-25j), i = 2.\n",
      "ramification point #1: z = (1+0j), x = 0j, i = 2.\n",
      "irregular puncture #0 at z=0j\n",
      "irregular puncture #1 at z=oo\n",
      "Ramification points arrange into 2 branch points at positions [(-1-2.77555756156e-17j), (1+0j)]\n",
      "Getting aligned x's at the base point z = -2j.\n",
      "Analyzing a branch point at z = (-1-2.77555756156e-17j).\n",
      "Analyzing a branch point at z = (1+0j).\n",
      "Analyzing an irregular singularity at z = 0j.\n",
      "Doing global checks on monodromies...\n",
      "Generate a single spectral network at theta = 1.0.\n",
      "CGAL not available; use interpolation to find intersections.\n",
      "Start iteration #1...\n",
      "Seed S-walls at branch points...\n",
      "Growing S-wall #0...\n",
      "Determining the root type of S-wall #0...\n",
      "Growing S-wall #1...\n",
      "Determining the root type of S-wall #1...\n",
      "Growing S-wall #2...\n",
      "Determining the root type of S-wall #2...\n",
      "Growing S-wall #3...\n",
      "Determining the root type of S-wall #3...\n",
      "Growing S-wall #4...\n",
      "Determining the root type of S-wall #4...\n",
      "Growing S-wall #5...\n",
      "Determining the root type of S-wall #5...\n",
      "Growing S-walls in iteration #1 finished.\n",
      "Iteration #1 finished.\n",
      "Finished growing a spectral network at phase = 1.0\n",
      "Finished @ 2020-03-17 17:55:44\n",
      "elapsed cpu time: 28.964\n"
     ]
    }
   ],
   "source": [
    "sn = generate_spectral_network(config)"
   ]
  },
  {
   "cell_type": "code",
   "execution_count": 9,
   "metadata": {},
   "outputs": [
    {
     "data": {
      "text/plain": [
       "<loom.spectral_network.SpectralNetwork at 0x7fe7f0cabbe0>"
      ]
     },
     "execution_count": 9,
     "metadata": {},
     "output_type": "execute_result"
    }
   ],
   "source": [
    "W = sn.spectral_networks[0]\n",
    "W"
   ]
  },
  {
   "cell_type": "code",
   "execution_count": 10,
   "metadata": {},
   "outputs": [
    {
     "data": {
      "text/plain": [
       "[<loom.s_wall.SWall at 0x7fe7ee861e48>,\n",
       " <loom.s_wall.SWall at 0x7fe7ee861390>,\n",
       " <loom.s_wall.SWall at 0x7fe7ee521898>,\n",
       " <loom.s_wall.SWall at 0x7fe7ee51a8d0>,\n",
       " <loom.s_wall.SWall at 0x7fe7ee51a908>,\n",
       " <loom.s_wall.SWall at 0x7fe7ee51e080>]"
      ]
     },
     "execution_count": 10,
     "metadata": {},
     "output_type": "execute_result"
    }
   ],
   "source": [
    "walls = W.s_walls; walls"
   ]
  },
  {
   "cell_type": "code",
   "execution_count": null,
   "metadata": {},
   "outputs": [],
   "source": [
    "sn.plot_s_walls(walls)"
   ]
  },
  {
   "cell_type": "code",
   "execution_count": null,
   "metadata": {},
   "outputs": [],
   "source": []
  }
 ],
 "metadata": {
  "kernelspec": {
   "display_name": "Python 3",
   "language": "python",
   "name": "python3"
  },
  "language_info": {
   "codemirror_mode": {
    "name": "ipython",
    "version": 3
   },
   "file_extension": ".py",
   "mimetype": "text/x-python",
   "name": "python",
   "nbconvert_exporter": "python",
   "pygments_lexer": "ipython3",
   "version": "3.6.9"
  }
 },
 "nbformat": 4,
 "nbformat_minor": 4
}
