{
 "cells": [
  {
   "cell_type": "code",
   "execution_count": 22,
   "metadata": {},
   "outputs": [
    {
     "data": {
      "text/plain": [
       "'/home/pietro/loom/loom'"
      ]
     },
     "execution_count": 22,
     "metadata": {},
     "output_type": "execute_result"
    }
   ],
   "source": [
    "pwd"
   ]
  },
  {
   "cell_type": "code",
   "execution_count": 23,
   "metadata": {},
   "outputs": [
    {
     "name": "stdout",
     "output_type": "stream",
     "text": [
      "3.6.9 (default, Nov  7 2019, 10:44:02) \n",
      "[GCC 8.3.0]\n"
     ]
    }
   ],
   "source": [
    "import sys\n",
    "print(sys.version)"
   ]
  },
  {
   "cell_type": "code",
   "execution_count": 3,
   "metadata": {},
   "outputs": [],
   "source": [
    "from api import generate_spectral_network, load_config\n",
    "import os\n",
    "path = os.path.abspath(os.path.join(os.getcwd(), os.pardir))  # parent directory\n",
    "config_file_path = path + '/config/test.ini'\n",
    "config = load_config(config_file_path)\n",
    "config.data"
   ]
  },
  {
   "cell_type": "code",
   "execution_count": 6,
   "metadata": {
    "scrolled": true
   },
   "outputs": [
    {
     "name": "stdout",
     "output_type": "stream",
     "text": [
      "this is num_v:  I*x\n",
      "this is dx_dz sqrt(dz*(6.56392173352542e-16 + 2.0*I))\n",
      "this is rp.x (-7.45058059692e-09+2.06795153138e-25j)\n",
      "this is rp.z (-1-2.77555756156e-17j)\n",
      "this is the local differential:  I*sqrt(dz)*sqrt(6.56392173352542e-16 + 2.0*I) - 2.06795153138e-25 - 7.45058059692e-9*I\n",
      "this is the substitution into num_v:  I*(sqrt(dz*(6.56392173352542e-16 + 2.0*I)) - 7.45058059692e-9 + 2.06795153138e-25*I)\n",
      "this is num_v:  I*x\n",
      "this is dx_dz 1.4142135623731*sqrt(I*dz)\n",
      "this is rp.x 0j\n",
      "this is rp.z (1+0j)\n",
      "this is the local differential:  1.4142135623731*(-1)**(3/4)*sqrt(dz)\n",
      "this is the substitution into num_v:  1.4142135623731*I*sqrt(I*dz)\n"
     ]
    },
    {
     "name": "stderr",
     "output_type": "stream",
     "text": [
      "CGAL not available; use interpolation to find intersections.\n"
     ]
    }
   ],
   "source": [
    "sn = generate_spectral_network(config)"
   ]
  },
  {
   "cell_type": "code",
   "execution_count": 14,
   "metadata": {},
   "outputs": [
    {
     "data": {
      "text/plain": [
       "<spectral_network.SpectralNetwork at 0x7f452804fa90>"
      ]
     },
     "execution_count": 14,
     "metadata": {},
     "output_type": "execute_result"
    }
   ],
   "source": [
    "W = sn.spectral_networks[0]\n",
    "W"
   ]
  },
  {
   "cell_type": "code",
   "execution_count": 17,
   "metadata": {},
   "outputs": [
    {
     "data": {
      "text/plain": [
       "[<s_wall.SWall at 0x7f450e1a2f28>,\n",
       " <s_wall.SWall at 0x7f450e1a2da0>,\n",
       " <s_wall.SWall at 0x7f450e13d2e8>,\n",
       " <s_wall.SWall at 0x7f450de66e48>,\n",
       " <s_wall.SWall at 0x7f450de664e0>,\n",
       " <s_wall.SWall at 0x7f450e13d5f8>]"
      ]
     },
     "execution_count": 17,
     "metadata": {},
     "output_type": "execute_result"
    }
   ],
   "source": [
    "walls = W.s_walls; walls"
   ]
  },
  {
   "cell_type": "code",
   "execution_count": 18,
   "metadata": {},
   "outputs": [
    {
     "data": {
      "image/png": "[encoded data removed]",
      "text/plain": [
       "<matplotlib.figure.Figure at 0x7f450c8ca6a0>"
      ]
     },
     "metadata": {
      "needs_background": "light"
     },
     "output_type": "display_data"
    }
   ],
   "source": [
    "sn.plot_s_walls(walls)"
   ]
  }
 ],
 "metadata": {
  "kernelspec": {
   "display_name": "Python 3",
   "language": "python",
   "name": "python3"
  },
  "language_info": {
   "codemirror_mode": {
    "name": "ipython",
    "version": 3
   },
   "file_extension": ".py",
   "mimetype": "text/x-python",
   "name": "python",
   "nbconvert_exporter": "python",
   "pygments_lexer": "ipython3",
   "version": "3.6.9"
  }
 },
 "nbformat": 4,
 "nbformat_minor": 4
}
