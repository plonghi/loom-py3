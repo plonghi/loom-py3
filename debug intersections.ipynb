{
 "cells": [
  {
   "cell_type": "markdown",
   "metadata": {},
   "source": [
    "add path to the directory containing modules"
   ]
  },
  {
   "cell_type": "code",
   "execution_count": 1,
   "metadata": {},
   "outputs": [],
   "source": [
    "import sys\n",
    "import os\n",
    "module_dir = os.getcwd()+'/loom';\n",
    "sys.path.append(module_dir)"
   ]
  },
  {
   "cell_type": "code",
   "execution_count": 2,
   "metadata": {},
   "outputs": [
    {
     "name": "stdout",
     "output_type": "stream",
     "text": [
      "Use TkAgg backend for matplotlib.\n"
     ]
    },
    {
     "data": {
      "text/html": [
       "\n",
       "    <div class=\"bk-root\">\n",
       "        <a href=\"https://bokeh.org\" target=\"_blank\" class=\"bk-logo bk-logo-small bk-logo-notebook\"></a>\n",
       "        <span id=\"1001\">Loading BokehJS ...</span>\n",
       "    </div>"
      ]
     },
     "metadata": {},
     "output_type": "display_data"
    },
    {
     "data": {
      "application/javascript": [
       "\n",
       "(function(root) {\n",
       "  function now() {\n",
       "    return new Date();\n",
       "  }\n",
       "\n",
       "  var force = true;\n",
       "\n",
       "  if (typeof root._bokeh_onload_callbacks === \"undefined\" || force === true) {\n",
       "    root._bokeh_onload_callbacks = [];\n",
       "    root._bokeh_is_loading = undefined;\n",
       "  }\n",
       "\n",
       "  var JS_MIME_TYPE = 'application/javascript';\n",
       "  var HTML_MIME_TYPE = 'text/html';\n",
       "  var EXEC_MIME_TYPE = 'application/vnd.bokehjs_exec.v0+json';\n",
       "  var CLASS_NAME = 'output_bokeh rendered_html';\n",
       "\n",
       "  /**\n",
       "   * Render data to the DOM node\n",
       "   */\n",
       "  function render(props, node) {\n",
       "    var script = document.createElement(\"script\");\n",
       "    node.appendChild(script);\n",
       "  }\n",
       "\n",
       "  /**\n",
       "   * Handle when an output is cleared or removed\n",
       "   */\n",
       "  function handleClearOutput(event, handle) {\n",
       "    var cell = handle.cell;\n",
       "\n",
       "    var id = cell.output_area._bokeh_element_id;\n",
       "    var server_id = cell.output_area._bokeh_server_id;\n",
       "    // Clean up Bokeh references\n",
       "    if (id != null && id in Bokeh.index) {\n",
       "      Bokeh.index[id].model.document.clear();\n",
       "      delete Bokeh.index[id];\n",
       "    }\n",
       "\n",
       "    if (server_id !== undefined) {\n",
       "      // Clean up Bokeh references\n",
       "      var cmd = \"from bokeh.io.state import curstate; print(curstate().uuid_to_server['\" + server_id + \"'].get_sessions()[0].document.roots[0]._id)\";\n",
       "      cell.notebook.kernel.execute(cmd, {\n",
       "        iopub: {\n",
       "          output: function(msg) {\n",
       "            var id = msg.content.text.trim();\n",
       "            if (id in Bokeh.index) {\n",
       "              Bokeh.index[id].model.document.clear();\n",
       "              delete Bokeh.index[id];\n",
       "            }\n",
       "          }\n",
       "        }\n",
       "      });\n",
       "      // Destroy server and session\n",
       "      var cmd = \"import bokeh.io.notebook as ion; ion.destroy_server('\" + server_id + \"')\";\n",
       "      cell.notebook.kernel.execute(cmd);\n",
       "    }\n",
       "  }\n",
       "\n",
       "  /**\n",
       "   * Handle when a new output is added\n",
       "   */\n",
       "  function handleAddOutput(event, handle) {\n",
       "    var output_area = handle.output_area;\n",
       "    var output = handle.output;\n",
       "\n",
       "    // limit handleAddOutput to display_data with EXEC_MIME_TYPE content only\n",
       "    if ((output.output_type != \"display_data\") || (!output.data.hasOwnProperty(EXEC_MIME_TYPE))) {\n",
       "      return\n",
       "    }\n",
       "\n",
       "    var toinsert = output_area.element.find(\".\" + CLASS_NAME.split(' ')[0]);\n",
       "\n",
       "    if (output.metadata[EXEC_MIME_TYPE][\"id\"] !== undefined) {\n",
       "      toinsert[toinsert.length - 1].firstChild.textContent = output.data[JS_MIME_TYPE];\n",
       "      // store reference to embed id on output_area\n",
       "      output_area._bokeh_element_id = output.metadata[EXEC_MIME_TYPE][\"id\"];\n",
       "    }\n",
       "    if (output.metadata[EXEC_MIME_TYPE][\"server_id\"] !== undefined) {\n",
       "      var bk_div = document.createElement(\"div\");\n",
       "      bk_div.innerHTML = output.data[HTML_MIME_TYPE];\n",
       "      var script_attrs = bk_div.children[0].attributes;\n",
       "      for (var i = 0; i < script_attrs.length; i++) {\n",
       "        toinsert[toinsert.length - 1].firstChild.setAttribute(script_attrs[i].name, script_attrs[i].value);\n",
       "        toinsert[toinsert.length - 1].firstChild.textContent = bk_div.children[0].textContent\n",
       "      }\n",
       "      // store reference to server id on output_area\n",
       "      output_area._bokeh_server_id = output.metadata[EXEC_MIME_TYPE][\"server_id\"];\n",
       "    }\n",
       "  }\n",
       "\n",
       "  function register_renderer(events, OutputArea) {\n",
       "\n",
       "    function append_mime(data, metadata, element) {\n",
       "      // create a DOM node to render to\n",
       "      var toinsert = this.create_output_subarea(\n",
       "        metadata,\n",
       "        CLASS_NAME,\n",
       "        EXEC_MIME_TYPE\n",
       "      );\n",
       "      this.keyboard_manager.register_events(toinsert);\n",
       "      // Render to node\n",
       "      var props = {data: data, metadata: metadata[EXEC_MIME_TYPE]};\n",
       "      render(props, toinsert[toinsert.length - 1]);\n",
       "      element.append(toinsert);\n",
       "      return toinsert\n",
       "    }\n",
       "\n",
       "    /* Handle when an output is cleared or removed */\n",
       "    events.on('clear_output.CodeCell', handleClearOutput);\n",
       "    events.on('delete.Cell', handleClearOutput);\n",
       "\n",
       "    /* Handle when a new output is added */\n",
       "    events.on('output_added.OutputArea', handleAddOutput);\n",
       "\n",
       "    /**\n",
       "     * Register the mime type and append_mime function with output_area\n",
       "     */\n",
       "    OutputArea.prototype.register_mime_type(EXEC_MIME_TYPE, append_mime, {\n",
       "      /* Is output safe? */\n",
       "      safe: true,\n",
       "      /* Index of renderer in `output_area.display_order` */\n",
       "      index: 0\n",
       "    });\n",
       "  }\n",
       "\n",
       "  // register the mime type if in Jupyter Notebook environment and previously unregistered\n",
       "  if (root.Jupyter !== undefined) {\n",
       "    var events = require('base/js/events');\n",
       "    var OutputArea = require('notebook/js/outputarea').OutputArea;\n",
       "\n",
       "    if (OutputArea.prototype.mime_types().indexOf(EXEC_MIME_TYPE) == -1) {\n",
       "      register_renderer(events, OutputArea);\n",
       "    }\n",
       "  }\n",
       "\n",
       "  \n",
       "  if (typeof (root._bokeh_timeout) === \"undefined\" || force === true) {\n",
       "    root._bokeh_timeout = Date.now() + 5000;\n",
       "    root._bokeh_failed_load = false;\n",
       "  }\n",
       "\n",
       "  var NB_LOAD_WARNING = {'data': {'text/html':\n",
       "     \"<div style='background-color: #fdd'>\\n\"+\n",
       "     \"<p>\\n\"+\n",
       "     \"BokehJS does not appear to have successfully loaded. If loading BokehJS from CDN, this \\n\"+\n",
       "     \"may be due to a slow or bad network connection. Possible fixes:\\n\"+\n",
       "     \"</p>\\n\"+\n",
       "     \"<ul>\\n\"+\n",
       "     \"<li>re-rerun `output_notebook()` to attempt to load from CDN again, or</li>\\n\"+\n",
       "     \"<li>use INLINE resources instead, as so:</li>\\n\"+\n",
       "     \"</ul>\\n\"+\n",
       "     \"<code>\\n\"+\n",
       "     \"from bokeh.resources import INLINE\\n\"+\n",
       "     \"output_notebook(resources=INLINE)\\n\"+\n",
       "     \"</code>\\n\"+\n",
       "     \"</div>\"}};\n",
       "\n",
       "  function display_loaded() {\n",
       "    var el = document.getElementById(\"1001\");\n",
       "    if (el != null) {\n",
       "      el.textContent = \"BokehJS is loading...\";\n",
       "    }\n",
       "    if (root.Bokeh !== undefined) {\n",
       "      if (el != null) {\n",
       "        el.textContent = \"BokehJS \" + root.Bokeh.version + \" successfully loaded.\";\n",
       "      }\n",
       "    } else if (Date.now() < root._bokeh_timeout) {\n",
       "      setTimeout(display_loaded, 100)\n",
       "    }\n",
       "  }\n",
       "\n",
       "\n",
       "  function run_callbacks() {\n",
       "    try {\n",
       "      root._bokeh_onload_callbacks.forEach(function(callback) {\n",
       "        if (callback != null)\n",
       "          callback();\n",
       "      });\n",
       "    } finally {\n",
       "      delete root._bokeh_onload_callbacks\n",
       "    }\n",
       "    console.debug(\"Bokeh: all callbacks have finished\");\n",
       "  }\n",
       "\n",
       "  function load_libs(css_urls, js_urls, callback) {\n",
       "    if (css_urls == null) css_urls = [];\n",
       "    if (js_urls == null) js_urls = [];\n",
       "\n",
       "    root._bokeh_onload_callbacks.push(callback);\n",
       "    if (root._bokeh_is_loading > 0) {\n",
       "      console.debug(\"Bokeh: BokehJS is being loaded, scheduling callback at\", now());\n",
       "      return null;\n",
       "    }\n",
       "    if (js_urls == null || js_urls.length === 0) {\n",
       "      run_callbacks();\n",
       "      return null;\n",
       "    }\n",
       "    console.debug(\"Bokeh: BokehJS not loaded, scheduling load and callback at\", now());\n",
       "    root._bokeh_is_loading = css_urls.length + js_urls.length;\n",
       "\n",
       "    function on_load() {\n",
       "      root._bokeh_is_loading--;\n",
       "      if (root._bokeh_is_loading === 0) {\n",
       "        console.debug(\"Bokeh: all BokehJS libraries/stylesheets loaded\");\n",
       "        run_callbacks()\n",
       "      }\n",
       "    }\n",
       "\n",
       "    function on_error() {\n",
       "      console.error(\"failed to load \" + url);\n",
       "    }\n",
       "\n",
       "    for (var i = 0; i < css_urls.length; i++) {\n",
       "      var url = css_urls[i];\n",
       "      const element = document.createElement(\"link\");\n",
       "      element.onload = on_load;\n",
       "      element.onerror = on_error;\n",
       "      element.rel = \"stylesheet\";\n",
       "      element.type = \"text/css\";\n",
       "      element.href = url;\n",
       "      console.debug(\"Bokeh: injecting link tag for BokehJS stylesheet: \", url);\n",
       "      document.body.appendChild(element);\n",
       "    }\n",
       "\n",
       "    for (var i = 0; i < js_urls.length; i++) {\n",
       "      var url = js_urls[i];\n",
       "      var element = document.createElement('script');\n",
       "      element.onload = on_load;\n",
       "      element.onerror = on_error;\n",
       "      element.async = false;\n",
       "      element.src = url;\n",
       "      \n",
       "      console.debug(\"Bokeh: injecting script tag for BokehJS library: \", url);\n",
       "      document.head.appendChild(element);\n",
       "    }\n",
       "  };var element = document.getElementById(\"1001\");\n",
       "  if (element == null) {\n",
       "    console.error(\"Bokeh: ERROR: autoload.js configured with elementid '1001' but no matching script tag was found. \")\n",
       "    return false;\n",
       "  }\n",
       "\n",
       "  function inject_raw_css(css) {\n",
       "    const element = document.createElement(\"style\");\n",
       "    element.appendChild(document.createTextNode(css));\n",
       "    document.body.appendChild(element);\n",
       "  }\n",
       "\n",
       "  \n",
       "  var js_urls = [\"https://cdn.bokeh.org/bokeh/release/bokeh-2.0.0.min.js\", \"https://cdn.bokeh.org/bokeh/release/bokeh-widgets-2.0.0.min.js\", \"https://cdn.bokeh.org/bokeh/release/bokeh-tables-2.0.0.min.js\", \"https://cdn.bokeh.org/bokeh/release/bokeh-gl-2.0.0.min.js\"];\n",
       "  var css_urls = [];\n",
       "  \n",
       "\n",
       "  var inline_js = [\n",
       "    function(Bokeh) {\n",
       "      Bokeh.set_log_level(\"info\");\n",
       "    },\n",
       "    function(Bokeh) {\n",
       "    \n",
       "    \n",
       "    }\n",
       "  ];\n",
       "\n",
       "  function run_inline_js() {\n",
       "    \n",
       "    if (root.Bokeh !== undefined || force === true) {\n",
       "      \n",
       "    for (var i = 0; i < inline_js.length; i++) {\n",
       "      inline_js[i].call(root, root.Bokeh);\n",
       "    }\n",
       "    if (force === true) {\n",
       "        display_loaded();\n",
       "      }} else if (Date.now() < root._bokeh_timeout) {\n",
       "      setTimeout(run_inline_js, 100);\n",
       "    } else if (!root._bokeh_failed_load) {\n",
       "      console.log(\"Bokeh: BokehJS failed to load within specified timeout.\");\n",
       "      root._bokeh_failed_load = true;\n",
       "    } else if (force !== true) {\n",
       "      var cell = $(document.getElementById(\"1001\")).parents('.cell').data().cell;\n",
       "      cell.output_area.append_execute_result(NB_LOAD_WARNING)\n",
       "    }\n",
       "\n",
       "  }\n",
       "\n",
       "  if (root._bokeh_is_loading === 0) {\n",
       "    console.debug(\"Bokeh: BokehJS loaded, going straight to plotting\");\n",
       "    run_inline_js();\n",
       "  } else {\n",
       "    load_libs(css_urls, js_urls, function() {\n",
       "      console.debug(\"Bokeh: BokehJS plotting callback run at\", now());\n",
       "      run_inline_js();\n",
       "    });\n",
       "  }\n",
       "}(window));"
      ],
      "application/vnd.bokehjs_load.v0+json": "\n(function(root) {\n  function now() {\n    return new Date();\n  }\n\n  var force = true;\n\n  if (typeof root._bokeh_onload_callbacks === \"undefined\" || force === true) {\n    root._bokeh_onload_callbacks = [];\n    root._bokeh_is_loading = undefined;\n  }\n\n  \n\n  \n  if (typeof (root._bokeh_timeout) === \"undefined\" || force === true) {\n    root._bokeh_timeout = Date.now() + 5000;\n    root._bokeh_failed_load = false;\n  }\n\n  var NB_LOAD_WARNING = {'data': {'text/html':\n     \"<div style='background-color: #fdd'>\\n\"+\n     \"<p>\\n\"+\n     \"BokehJS does not appear to have successfully loaded. If loading BokehJS from CDN, this \\n\"+\n     \"may be due to a slow or bad network connection. Possible fixes:\\n\"+\n     \"</p>\\n\"+\n     \"<ul>\\n\"+\n     \"<li>re-rerun `output_notebook()` to attempt to load from CDN again, or</li>\\n\"+\n     \"<li>use INLINE resources instead, as so:</li>\\n\"+\n     \"</ul>\\n\"+\n     \"<code>\\n\"+\n     \"from bokeh.resources import INLINE\\n\"+\n     \"output_notebook(resources=INLINE)\\n\"+\n     \"</code>\\n\"+\n     \"</div>\"}};\n\n  function display_loaded() {\n    var el = document.getElementById(\"1001\");\n    if (el != null) {\n      el.textContent = \"BokehJS is loading...\";\n    }\n    if (root.Bokeh !== undefined) {\n      if (el != null) {\n        el.textContent = \"BokehJS \" + root.Bokeh.version + \" successfully loaded.\";\n      }\n    } else if (Date.now() < root._bokeh_timeout) {\n      setTimeout(display_loaded, 100)\n    }\n  }\n\n\n  function run_callbacks() {\n    try {\n      root._bokeh_onload_callbacks.forEach(function(callback) {\n        if (callback != null)\n          callback();\n      });\n    } finally {\n      delete root._bokeh_onload_callbacks\n    }\n    console.debug(\"Bokeh: all callbacks have finished\");\n  }\n\n  function load_libs(css_urls, js_urls, callback) {\n    if (css_urls == null) css_urls = [];\n    if (js_urls == null) js_urls = [];\n\n    root._bokeh_onload_callbacks.push(callback);\n    if (root._bokeh_is_loading > 0) {\n      console.debug(\"Bokeh: BokehJS is being loaded, scheduling callback at\", now());\n      return null;\n    }\n    if (js_urls == null || js_urls.length === 0) {\n      run_callbacks();\n      return null;\n    }\n    console.debug(\"Bokeh: BokehJS not loaded, scheduling load and callback at\", now());\n    root._bokeh_is_loading = css_urls.length + js_urls.length;\n\n    function on_load() {\n      root._bokeh_is_loading--;\n      if (root._bokeh_is_loading === 0) {\n        console.debug(\"Bokeh: all BokehJS libraries/stylesheets loaded\");\n        run_callbacks()\n      }\n    }\n\n    function on_error() {\n      console.error(\"failed to load \" + url);\n    }\n\n    for (var i = 0; i < css_urls.length; i++) {\n      var url = css_urls[i];\n      const element = document.createElement(\"link\");\n      element.onload = on_load;\n      element.onerror = on_error;\n      element.rel = \"stylesheet\";\n      element.type = \"text/css\";\n      element.href = url;\n      console.debug(\"Bokeh: injecting link tag for BokehJS stylesheet: \", url);\n      document.body.appendChild(element);\n    }\n\n    for (var i = 0; i < js_urls.length; i++) {\n      var url = js_urls[i];\n      var element = document.createElement('script');\n      element.onload = on_load;\n      element.onerror = on_error;\n      element.async = false;\n      element.src = url;\n      \n      console.debug(\"Bokeh: injecting script tag for BokehJS library: \", url);\n      document.head.appendChild(element);\n    }\n  };var element = document.getElementById(\"1001\");\n  if (element == null) {\n    console.error(\"Bokeh: ERROR: autoload.js configured with elementid '1001' but no matching script tag was found. \")\n    return false;\n  }\n\n  function inject_raw_css(css) {\n    const element = document.createElement(\"style\");\n    element.appendChild(document.createTextNode(css));\n    document.body.appendChild(element);\n  }\n\n  \n  var js_urls = [\"https://cdn.bokeh.org/bokeh/release/bokeh-2.0.0.min.js\", \"https://cdn.bokeh.org/bokeh/release/bokeh-widgets-2.0.0.min.js\", \"https://cdn.bokeh.org/bokeh/release/bokeh-tables-2.0.0.min.js\", \"https://cdn.bokeh.org/bokeh/release/bokeh-gl-2.0.0.min.js\"];\n  var css_urls = [];\n  \n\n  var inline_js = [\n    function(Bokeh) {\n      Bokeh.set_log_level(\"info\");\n    },\n    function(Bokeh) {\n    \n    \n    }\n  ];\n\n  function run_inline_js() {\n    \n    if (root.Bokeh !== undefined || force === true) {\n      \n    for (var i = 0; i < inline_js.length; i++) {\n      inline_js[i].call(root, root.Bokeh);\n    }\n    if (force === true) {\n        display_loaded();\n      }} else if (Date.now() < root._bokeh_timeout) {\n      setTimeout(run_inline_js, 100);\n    } else if (!root._bokeh_failed_load) {\n      console.log(\"Bokeh: BokehJS failed to load within specified timeout.\");\n      root._bokeh_failed_load = true;\n    } else if (force !== true) {\n      var cell = $(document.getElementById(\"1001\")).parents('.cell').data().cell;\n      cell.output_area.append_execute_result(NB_LOAD_WARNING)\n    }\n\n  }\n\n  if (root._bokeh_is_loading === 0) {\n    console.debug(\"Bokeh: BokehJS loaded, going straight to plotting\");\n    run_inline_js();\n  } else {\n    load_libs(css_urls, js_urls, function() {\n      console.debug(\"Bokeh: BokehJS plotting callback run at\", now());\n      run_inline_js();\n    });\n  }\n}(window));"
     },
     "metadata": {},
     "output_type": "display_data"
    }
   ],
   "source": [
    "import api\n",
    "import loom\n",
    "import logging\n",
    "loom.set_logging(\n",
    "    logger_name='loom',\n",
    "    logging_level=logging.INFO,\n",
    "    logging_stream=None,\n",
    "    logging_file_name='logs/loom_test.log'\n",
    ")\n",
    "\n",
    "from bokeh.plotting import show\n",
    "from bokeh.io import save\n",
    "from bokeh.io import output_notebook\n",
    "from loom.bokeh_plot import get_spectral_network_bokeh_plot\n",
    "output_notebook()"
   ]
  },
  {
   "cell_type": "markdown",
   "metadata": {},
   "source": [
    "Load a configuration file."
   ]
  },
  {
   "cell_type": "code",
   "execution_count": 3,
   "metadata": {},
   "outputs": [],
   "source": [
    "d = api.SpectralNetworkData(config_file_path='config/AD1_lvl3.ini')"
   ]
  },
  {
   "cell_type": "markdown",
   "metadata": {},
   "source": [
    "Shows the loaded configuration."
   ]
  },
  {
   "cell_type": "code",
   "execution_count": 5,
   "metadata": {},
   "outputs": [
    {
     "data": {
      "text/plain": [
       "{'description': 'level 3 lift of AD1',\n",
       " 'root_system': 'A2',\n",
       " 'representation': '1',\n",
       " 'casimir_differentials': '{2: z, 3: u}',\n",
       " 'differential_parameters': '{u: 1}',\n",
       " 'regular_punctures': '[]',\n",
       " 'irregular_punctures': '[oo]',\n",
       " 'ramification_point_finding_method': 'discriminant',\n",
       " 'ramification_points': None,\n",
       " 'branch_points': None,\n",
       " 'mt_params': None,\n",
       " 'accuracy': 1e-06,\n",
       " 'plot_range': [[-5, 5], [-5, 5]],\n",
       " 'num_of_steps': 5000,\n",
       " 'num_of_iterations': 3,\n",
       " 'mass_limit': 10.0,\n",
       " 'phase': [0.01, 3.14, 40],\n",
       " 'size_of_small_step': None,\n",
       " 'size_of_large_step': None,\n",
       " 'size_of_puncture_cutoff': None,\n",
       " 'size_of_bp_neighborhood': None}"
      ]
     },
     "execution_count": 5,
     "metadata": {},
     "output_type": "execute_result"
    }
   ],
   "source": [
    "d.config.data"
   ]
  },
  {
   "cell_type": "markdown",
   "metadata": {},
   "source": [
    "How to change the current configuration."
   ]
  },
  {
   "cell_type": "code",
   "execution_count": 24,
   "metadata": {},
   "outputs": [],
   "source": [
    "d.config['num_of_steps'] = 500\n",
    "d.config['num_of_iterations'] = 2\n",
    "d.config['phase'] = 0.6\n",
    "d.config['mass_limit'] = 4\n",
    "# d.config['ramification_point_finding_method'] = 'from_branch_points'\n",
    "# d.config['branch_points'] = '[-sqrt(1/3*(-3+(2*I)/sqrt(3))), sqrt(1/3*(-3+(2*I)/sqrt(3))), -sqrt(1/3*(-3-(2*I)/sqrt(3))), sqrt(1/3*(-3-(2*I)/sqrt(3)))]'"
   ]
  },
  {
   "cell_type": "markdown",
   "metadata": {},
   "source": [
    "Generate spectral networks according to the configuration."
   ]
  },
  {
   "cell_type": "code",
   "execution_count": null,
   "metadata": {},
   "outputs": [
    {
     "name": "stderr",
     "output_type": "stream",
     "text": [
      "INFO:loom:Started @ 2020-03-21 10:09:26\n",
      "INFO:loom:Ramification point finding method: discriminant\n",
      "INFO:loom:Calculating ramification points of the Seiberg-Witten curve in the first fundamental rep.\n",
      "INFO:loom:The z-plane has not been rotated.\n",
      "INFO:loom:Some branch points or punctures are vertically aligned.\n",
      "Need to rotate the z-plane.\n",
      "\n",
      "INFO:loom:Will try rotating z-plane in increments of pi/2\n",
      "INFO:loom:The z-plane has been rotated 1 times.\n",
      "Current rotation of the z-plane: I\n",
      "\n",
      "INFO:loom:All branch points and punctures are sufficiently separated horizontally.\n",
      "Will not rotate z-plane any more.\n",
      "\n",
      "INFO:loom:Analyzing a ramification point at z = (3.33066907388e-16+1.88988157484j), x=(0.79370052592+8.77468605241e-07j).\n",
      "INFO:loom:Analyzing a ramification point at z = (-1.63668545396-0.944940787421j), x=(-0.396850918389-0.687365433295j).\n",
      "INFO:loom:Analyzing a ramification point at z = (1.63668545396-0.944940787421j), x=(-0.396850918389+0.687365433295j).\n"
     ]
    }
   ],
   "source": [
    "d.generate()"
   ]
  },
  {
   "cell_type": "code",
   "execution_count": 7,
   "metadata": {},
   "outputs": [
    {
     "data": {
      "text/html": [
       "\n",
       "\n",
       "\n",
       "\n",
       "\n",
       "\n",
       "  <div class=\"bk-root\" id=\"910254b2-034a-4673-b4e8-17e56f002b3d\" data-root-id=\"1085\"></div>\n"
      ]
     },
     "metadata": {},
     "output_type": "display_data"
    },
    {
     "data": {
      "application/javascript": [
       "(function(root) {\n",
       "  function embed_document(root) {\n",
       "    \n",
       "  var docs_json = {\"effa2fc9-18f5-472a-ac84-0b03fdbb37c2\":{\"roots\":{\"references\":[{\"attributes\":{\"children\":[{\"id\":\"1004\"},{\"id\":\"1082\"}]},\"id\":\"1085\",\"type\":\"Column\"},{\"attributes\":{},\"id\":\"1023\",\"type\":\"WheelZoomTool\"},{\"attributes\":{\"fill_alpha\":{\"value\":0.1},\"fill_color\":{\"field\":\"color\"},\"line_alpha\":{\"value\":0.1},\"line_color\":{\"field\":\"color\"},\"size\":{\"units\":\"screen\",\"value\":5},\"x\":{\"field\":\"x\"},\"y\":{\"field\":\"y\"}},\"id\":\"1040\",\"type\":\"Circle\"},{\"attributes\":{\"overlay\":{\"id\":\"1105\"}},\"id\":\"1024\",\"type\":\"BoxZoomTool\"},{\"attributes\":{\"data\":{\"label\":[\"irregular puncture #0\"],\"root\":[\"\"],\"x\":[0.0],\"y\":[0.0]},\"selected\":{\"id\":\"1094\"},\"selection_policy\":{\"id\":\"1093\"}},\"id\":\"1043\",\"type\":\"ColumnDataSource\"},{\"attributes\":{\"data_source\":{\"id\":\"1037\"},\"glyph\":{\"id\":\"1039\"},\"hover_glyph\":null,\"muted_glyph\":null,\"nonselection_glyph\":{\"id\":\"1040\"},\"selection_glyph\":null,\"view\":{\"id\":\"1042\"}},\"id\":\"1041\",\"type\":\"GlyphRenderer\"},{\"attributes\":{\"fill_alpha\":{\"value\":0.1},\"fill_color\":{\"value\":\"#1f77b4\"},\"line_alpha\":{\"value\":0.1},\"line_color\":{\"value\":\"#1f77b4\"},\"x\":{\"field\":\"x\"},\"y\":{\"field\":\"y\"}},\"id\":\"1067\",\"type\":\"Scatter\"},{\"attributes\":{\"fill_alpha\":{\"value\":0.1},\"fill_color\":{\"value\":null},\"line_alpha\":{\"value\":0.1},\"line_color\":{\"value\":\"#e6550D\"},\"line_width\":{\"value\":3},\"size\":{\"units\":\"screen\",\"value\":10},\"x\":{\"field\":\"x\"},\"y\":{\"field\":\"y\"}},\"id\":\"1046\",\"type\":\"Circle\"},{\"attributes\":{\"source\":{\"id\":\"1043\"}},\"id\":\"1048\",\"type\":\"CDSView\"},{\"attributes\":{\"fill_color\":{\"value\":null},\"line_color\":{\"value\":\"#e6550D\"},\"line_width\":{\"value\":3},\"size\":{\"units\":\"screen\",\"value\":10},\"x\":{\"field\":\"x\"},\"y\":{\"field\":\"y\"}},\"id\":\"1045\",\"type\":\"Circle\"},{\"attributes\":{},\"id\":\"1025\",\"type\":\"ResetTool\"},{\"attributes\":{\"data\":{\"phase\":[\"0.000\",\"0.159\"]},\"selected\":{\"id\":\"1109\"},\"selection_policy\":{\"id\":\"1108\"}},\"id\":\"1003\",\"type\":\"ColumnDataSource\"},{\"attributes\":{},\"id\":\"1088\",\"type\":\"BasicTickFormatter\"},{\"attributes\":{\"fill_color\":{\"field\":\"color\"},\"line_color\":{\"field\":\"color\"},\"size\":{\"units\":\"screen\",\"value\":5},\"x\":{\"field\":\"x\"},\"y\":{\"field\":\"y\"}},\"id\":\"1039\",\"type\":\"Circle\"},{\"attributes\":{},\"id\":\"1026\",\"type\":\"SaveTool\"},{\"attributes\":{\"callback\":null},\"id\":\"1027\",\"type\":\"HoverTool\"},{\"attributes\":{\"data_source\":{\"id\":\"1043\"},\"glyph\":{\"id\":\"1045\"},\"hover_glyph\":null,\"muted_glyph\":null,\"nonselection_glyph\":{\"id\":\"1046\"},\"selection_glyph\":null,\"view\":{\"id\":\"1048\"}},\"id\":\"1047\",\"type\":\"GlyphRenderer\"},{\"attributes\":{\"data\":{\"label\":[\"branch point #0\",\"branch point #1\"],\"root\":[\"[1, -1]\",\"[1, -1]\"],\"x\":[-1.0,1.0],\"y\":[-2.77555756156e-17,0.0]},\"selected\":{\"id\":\"1096\"},\"selection_policy\":{\"id\":\"1095\"}},\"id\":\"1049\",\"type\":\"ColumnDataSource\"},{\"attributes\":{\"axis\":{\"id\":\"1018\"},\"dimension\":1,\"grid_line_color\":null,\"ticker\":null},\"id\":\"1021\",\"type\":\"Grid\"},{\"attributes\":{\"data\":{\"xs\":[[-1.0,-1.0],[1.0,1.0],[0.0,0.0]],\"ys\":[[-2.77555756156e-17,6.0],[0.0,6.0],[0.0,6.0]]},\"selected\":{\"id\":\"1098\"},\"selection_policy\":{\"id\":\"1097\"}},\"id\":\"1050\",\"type\":\"ColumnDataSource\"},{\"attributes\":{\"formatter\":{\"id\":\"1090\"},\"ticker\":{\"id\":\"1019\"}},\"id\":\"1018\",\"type\":\"LinearAxis\"},{\"attributes\":{},\"id\":\"1090\",\"type\":\"BasicTickFormatter\"},{\"attributes\":{\"data_source\":{\"id\":\"1062\"},\"glyph\":{\"id\":\"1066\"},\"hover_glyph\":null,\"muted_glyph\":null,\"nonselection_glyph\":{\"id\":\"1067\"},\"selection_glyph\":null,\"view\":{\"id\":\"1069\"}},\"id\":\"1068\",\"type\":\"GlyphRenderer\"},{\"attributes\":{\"source\":{\"id\":\"1049\"}},\"id\":\"1055\",\"type\":\"CDSView\"},{\"attributes\":{\"fill_alpha\":{\"value\":0.1},\"fill_color\":{\"value\":\"#e6550D\"},\"line_alpha\":{\"value\":0.1},\"line_color\":{\"value\":\"#e6550D\"},\"line_width\":{\"value\":3},\"size\":{\"units\":\"screen\",\"value\":10},\"x\":{\"field\":\"x\"},\"y\":{\"field\":\"y\"}},\"id\":\"1053\",\"type\":\"X\"},{\"attributes\":{},\"id\":\"1019\",\"type\":\"BasicTicker\"},{\"attributes\":{\"data_source\":{\"id\":\"1049\"},\"glyph\":{\"id\":\"1052\"},\"hover_glyph\":null,\"muted_glyph\":null,\"nonselection_glyph\":{\"id\":\"1053\"},\"selection_glyph\":null,\"view\":{\"id\":\"1055\"}},\"id\":\"1054\",\"type\":\"GlyphRenderer\"},{\"attributes\":{\"active_drag\":\"auto\",\"active_inspect\":\"auto\",\"active_multi\":null,\"active_scroll\":\"auto\",\"active_tap\":\"auto\",\"tools\":[{\"id\":\"1022\"},{\"id\":\"1023\"},{\"id\":\"1024\"},{\"id\":\"1025\"},{\"id\":\"1026\"},{\"id\":\"1027\"},{\"id\":\"1028\"}]},\"id\":\"1029\",\"type\":\"Toolbar\"},{\"attributes\":{\"fill_alpha\":{\"value\":0.5},\"fill_color\":{\"value\":\"#1f77b4\"},\"line_alpha\":{\"value\":0.5},\"line_color\":{\"value\":\"#1f77b4\"},\"x\":{\"field\":\"x\"},\"y\":{\"field\":\"y\"}},\"id\":\"1066\",\"type\":\"Scatter\"},{\"attributes\":{\"fill_color\":{\"value\":\"#e6550D\"},\"line_color\":{\"value\":\"#e6550D\"},\"line_width\":{\"value\":3},\"size\":{\"units\":\"screen\",\"value\":10},\"x\":{\"field\":\"x\"},\"y\":{\"field\":\"y\"}},\"id\":\"1052\",\"type\":\"X\"},{\"attributes\":{},\"id\":\"1103\",\"type\":\"UnionRenderers\"},{\"attributes\":{\"data\":{\"color\":[],\"label\":[],\"root\":[],\"x\":[],\"y\":[]},\"selected\":{\"id\":\"1092\"},\"selection_policy\":{\"id\":\"1091\"}},\"id\":\"1037\",\"type\":\"ColumnDataSource\"},{\"attributes\":{\"data\":{\"x\":[],\"y\":[]},\"selected\":{\"id\":\"1100\"},\"selection_policy\":{\"id\":\"1099\"}},\"id\":\"1062\",\"type\":\"ColumnDataSource\"},{\"attributes\":{\"data_source\":{\"id\":\"1050\"},\"glyph\":{\"id\":\"1057\"},\"hover_glyph\":null,\"muted_glyph\":null,\"nonselection_glyph\":{\"id\":\"1058\"},\"selection_glyph\":null,\"view\":{\"id\":\"1060\"}},\"id\":\"1059\",\"type\":\"GlyphRenderer\"},{\"attributes\":{\"source\":{\"id\":\"1050\"}},\"id\":\"1060\",\"type\":\"CDSView\"},{\"attributes\":{\"line_alpha\":{\"value\":0.1},\"line_color\":{\"value\":\"gray\"},\"line_dash\":[6],\"line_width\":{\"value\":2},\"xs\":{\"field\":\"xs\"},\"ys\":{\"field\":\"ys\"}},\"id\":\"1058\",\"type\":\"MultiLine\"},{\"attributes\":{\"line_color\":{\"value\":\"gray\"},\"line_dash\":[6],\"line_width\":{\"value\":2},\"xs\":{\"field\":\"xs\"},\"ys\":{\"field\":\"ys\"}},\"id\":\"1057\",\"type\":\"MultiLine\"},{\"attributes\":{\"callback\":null},\"id\":\"1028\",\"type\":\"TapTool\"},{\"attributes\":{\"data\":{\"color\":[\"#440154\",\"#440154\",\"#440154\",\"#440154\",\"#440154\",\"#440154\"],\"label\":[\"S-wall #0\",\"S-wall #1\",\"S-wall #2\",\"S-wall #3\",\"S-wall #4\",\"S-wall #5\"],\"root\":[\"[1, -1]\",\"[-1, 1]\",\"[-1, 1]\",\"[-1, 1]\",\"[1, -1]\",\"[1, -1]\"],\"xs\":[{\"__ndarray__\":\"AAAAAAAA8L/02fOR9//vv8tVUxqe/++/6SAjh6r+778FXssHA/3vv3jQSIid+u+/AyvsA3X3779AOb1ihvPvvxdgRfvP7u+/mOYcYFDp77/54iucBuPvv9iGxw7y2++/vLs3OBLU778rprW+ZsvvvwaOAXHvwe+/t3QuK6y3778l7zp08Kzvv2FYRwPZoe+/6y66IWqW7787M/y/q4rvv42mqUShfu+/Oxb94k1y779tDdDttGXvv2U1nV3ZWO+/3gU35b1L77+J1vX2ZD7vv3V5ysnQMO+/bB87aQMj77/JRyW+/hTvvyXZOYvEBu+/9NQpbFb47r/FDtTetenuv3oStU3k2u6/pDr4CuPL7r83hstWs7zuv8WpL2FWre6/BNrsRM2d7r/25CkKGY7uv3RPOa46fu6/nCe7IjNu7r9oDA5MA17uvyTuxAKsTe6/3/HzFC497r/oDfhGiizuvw2lgVfBG+6/9kh5/dMK7r/5dKrpwvntv+QS1sSO6O2/wsoHLzjX7b9fzEvCv8XtvwZVgREmtO2/wwNErGui7b+nCv0bkZDtvzmj1uOWfu2/Sj+9gn1s7b+zQ4N2RVrtvyMEyzjvR+2/TnDcQHs17b8NDB4A6iLtvx2FReM7EO2/mOsbVHH97L+vJq+4iursv4qyIXaI1+y/23oH7mrE7L/Oyf5+MrHsv3tNH4Xfney/JkIuWnKK7L9Kt6dV63bsv1sq6cxKY+y/GR3OEpFP7L+z7wt4vjvsv8dqT0vTJ+y/NhVk2c8T7L8/G+httP/rvw19n+e3Meu/FfB5SXZb6r/dKvYuwn3pv6yT0sdMmei/\",\"dtype\":\"float64\",\"shape\":[78]},{\"__ndarray__\":\"kZbsF4wD8L96HqiQjBbwvxQRjPebMvC/O7Dpcq5R8L/AtiCvBHLwvxLXxzL/kvC/D+Ze9lW08L9IAI7x4tXwv04U+sOP9/C/xq1gQ04Z8b98P5EMFTvxv8wl0x3dXPG/x1nfuqF+8b+hvupJX6Dxv7wCk/MSwvG/r/pwobrj8b8l3Y6XVAXyvya9fGvfJvK/1y3/BVpI8r9ClTaCw2nyv5eyYSEbi/K/M6/XzM+r8r/gJcOy7Mvyvw9WoEF/6/K/fiO6+ZIK878CHsPcMSnzv7uYHa9kR/O/DSl+KjNl87+EXOcjpILzv7IR9ba9n/O/32hSVYW8878AiYPo/9jzv6/wfOMx9fO/jVNOTR8R9L+crEDTyyz0v5UGJNI6SPS/48eoXm9j9L+W0ahNbH70v4Nc2D00mfS/p6w/mcmz9L9PN8ihLs70v6c7Km9l6PS/x57V7m8C9b9ytgbyTxz1v3rjgSkHNvW/lpgGLJdP9b+zuz15AWn1v96FhHRHgvW/5mFvbmqb9b/DBGWka7T1v4Q6ukFMzfW/SqoYYw3m9b/Q8mYTsP71v1JLK081F/a/W4CqBp4v9r9EFZMe60f2vyPOS28dYPa/jeU+xzV49r8giWUeLmT3v7j5hqmZSPi/fkj3MhAn+b/Y5GLnrwD6v+oHOUBK1vq/\",\"dtype\":\"float64\",\"shape\":[63]},{\"__ndarray__\":\"3tIm0Of477+ADe0fAdPvvzhJZ3UEm++/q3lksstc77+P3jaSvBvvv+eIQtIM2e6/RJ4VfUaV7r8qrdKOs1Duv32fcCZ/C+6//qrKf8TF7b9J64seln/tvx6rWukAOe2/J2tOOg7y7L+I6xbNW67sv1+ZxVrAbey/8sQVHs8v7L95kuqHM/TrvwB5Uxmquuu/xOlzFvyC678dJ9T++0zrv640ysaDGOu/YyS80HLl6r+VThdhrbPqv6oH7lwbg+q/i7dnTKdT6r/DrtXLPiXqv7ocgEDR9+m/bc+Jpk/L6b9oRtv9rJ/pv2WnXy3ddOm/QDBDP9VK6b+uwrKDiyHpv1cDGNb2+Oi/u3vs6w7R6L/Y9As+zKnov1Na+Lsng+i/Xa5W5Rpd6L/bnWy3nzfov9pqYKGwEui/VQg2Xkju578tCBkQYsrnv/AZiDn5pue/pr4DewmE579kF+DajmHnv7A675+FP+e/OcM3Huod579RSlQMufzmv/HT4kDv2+a/V1f9oom75r93ND6GhZvmv80VFtjge+a/1Yg35pdc5r8MHYNfqD3mvxPUVOMPH+a/cce0f8wA5r8Pt3QW3OLlv2eaw6E8xeW/OMrRMOyn5b/ij7vn6IrlvyKLpP8wbuW/D8mNxMJR5b/ldoCUnDXlv9Xeed68GeW/519SISL+5L/6YKXqyuLkv9eMiNa1x+S/VLYkjuGs5L84ywvGTJLkv8Yzij32d+S/QYCYvdxd5L9nFs0X/0Pkv0ttwSZcKuS/CBU03vIQ5L+vgHk1wvfjvyAiNCjJ3uO/RvpFuQbG47+Xhxryea3jv4K08OEhleO/IKUzof1847/pWLtbDGXjv931SztNTeO/cmJObr8147/9AFooYh7jv1I0uaE0B+O/XuTtFjbw4r9CKazOZdnivyJTEBrDwuK/F734SE2s4r+yy4mvA5biv88A5qXlf+K/4Y/dh/Jp4r9DN8a0KVTiv/4/pZSKPuK/auzIkhQp4r/kuBQcxxPivw9Rp6Ch/uG/bIyhk6Pp4b/nau1qzNThvyEo1Z8bwOG/4rKhs5Cr4b9vMzooK5fhvw==\",\"dtype\":\"float64\",\"shape\":[101]},{\"__ndarray__\":\"AAAAAAAA8D/y2fOR9//vP8ZVUxqe/+8/5CAjh6r+7z/wXcsHA/3vP63QSIid+u8/TSvsA3X37z9QOr1ihvPvPyFhRfvP7u8/q+ccYFDp7z/c4yucBuPvPzeIxw7y2+8/Pr03OBLU7z8+p7W+ZsvvPwGPAXHvwe8/F3cuK6y37z8X7zp08KzvPwSNRwPZoe8/ZCO7IWqW7z8/df2/q4rvPzTxqkShfu8/wWj+4k1y7z82ZtHttGXvP9SWnl3ZWO8/tXA45b1L7z8YR/f2ZD7vP8Tty8nQMO8/AZs8aQMj7z+PzSa+/hTvP1VoO4vEBu8/2GkrbFb47j8mqdXetenuPyaytk3k2u4/YuH5CuPL7j80N81Ws7zuP2tmMWFWre4/a5/uRM2d7j+osCsKGY7uP+cjO646fu4/ugS9IjNu7j847w9MA17uP3DUxgKsTe4/7Nn1FC497j/z+vlGiizuP0ebg1fBG+4/ekt7/dMK7j+phazpwvntP2kq2MSO6O0/9uYJLzjX7T8i603Cv8XtP8N4gxEmtO0/FTFGrGui7T/TPv8bkZDtP+TV2OOWfu0/FGy/gn1s7T/2a4V2RVrtP6stzTjvR+0/AajeQHs17T94UiAA6iLtP27bR+M7EO0/AkweVHH97D+qh7G4iursP9cRJHaI1+w/FNcJ7mrE7D8FKAF/MrHsP7y2IYXfnew/qrkwWnKK7D83PKpV63bsP5Gz68xKY+w/Q6LQEpFP7D/JbQ54vjvsP4PkUUvTJ+w/B5Zm2c8T7D8rqepttP/rP3ozoue3Mes/L7R8SXZb6j8aGfkuwn3pPxpv1cdMmeg/\",\"dtype\":\"float64\",\"shape\":[78]},{\"__ndarray__\":\"3tIm0Of47z+CDe0fAdPvPz5JZ3UEm+8/snlksstc7z+U3jaSvBvvP+yIQtIM2e4/SZ4VfUaV7j8vrdKOs1DuP4CfcCZ/C+4/AavKf8TF7T9K64seln/tPyCrWukAOe0/KmtOOg7y7D+H6xbNW67sP1yZxVrAbew/8cQVHs8v7D92kuqHM/TrPwB5Uxmquus/wulzFvyC6z8dJ9T++0zrP600ysaDGOs/XiS80HLl6j+VThdhrbPqP6cH7lwbg+o/h7dnTKdT6j/DrtXLPiXqP7YcgEDR9+k/as+Jpk/L6T9lRtv9rJ/pP2GnXy3ddOk/PTBDP9VK6T+rwrKDiyHpP1QDGNb2+Og/uHvs6w7R6D/V9As+zKnoP1Ba+Lsng+g/W65W5Rpd6D/ZnWy3nzfoP9hqYKGwEug/VAg2Xkju5z8rCBkQYsrnP+8ZiDn5puc/pr4DewmE5z9kF+DajmHnP68675+FP+c/OsM3Huod5z9SSlQMufzmP/PT4kDv2+Y/WVf9oom75j9vND6GhZvmP7MVFtjge+Y/1Yg35pdc5j8RHYNfqD3mPxnUVOMPH+Y/eMe0f8wA5j8Wt3QW3OLlP26aw6E8xeU/P8rRMOyn5T/pj7vn6IrlPyiLpP8wbuU/FsmNxMJR5T/sdoCUnDXlP9zeed68GeU/7l9SISL+5D8CYaXqyuLkP96MiNa1x+Q/WrYkjuGs5D89ywvGTJLkP8szij32d+Q/R4CYvdxd5D9vFs0X/0PkP1ZtwSZcKuQ/ERU03vIQ5D+3gHk1wvfjPyciNCjJ3uM/TvpFuQbG4z+ghxryea3jP4+08OEhleM/LqUzof184z/2WLtbDGXjP+j1SztNTeM/fGJObr814z8IAVooYh7jP180uaE0B+M/buTtFjbw4j9RKazOZdniPzFTEBrDwuI/JL34SE2s4j+/y4mvA5biP9sA5qXlf+I/7o/dh/Jp4j9SN8a0KVTiPwxApZSKPuI/d+zIkhQp4j/wuBQcxxPiPxxRp6Ch/uE/eoyhk6Pp4T/3au1qzNThPzQo1Z8bwOE/9LKhs5Cr4T+BMzooK5fhPw==\",\"dtype\":\"float64\",\"shape\":[101]},{\"__ndarray__\":\"kZbsF4wD8D99HqiQjBbwPxURjPebMvA/O7Dpcq5R8D/CtiCvBHLwPxPXxzL/kvA/D+Ze9lW08D9JAI7x4tXwP08U+sOP9/A/wq1gQ04Z8T+aP5EMFTvxP+kl0x3dXPE/5VnfuqF+8T/AvupJX6DxP9wCk/MSwvE/0Ppwobrj8T9G3Y6XVAXyP0a9fGvfJvI/9y3/BVpI8j9hlTaCw2nyP7eyYSEbi/I/UK/XzM+r8j/7JcOy7MvyPyhWoEF/6/I/liO6+ZIK8z8XHsPcMSnzP86YHa9kR/M/Hil+KjNl8z+UXOcjpILzP8IR9ba9n/M/7WhSVYW88z8NiYPo/9jzP7rwfOMx9fM/mFNOTR8R9D+lrEDTyyz0P5wGJNI6SPQ/6ceoXm9j9D+b0ahNbH70P4hc2D00mfQ/qqw/mcmz9D9SN8ihLs70P6g7Km9l6PQ/yJ7V7m8C9T9ztgbyTxz1P3njgSkHNvU/lZgGLJdP9T+yuz15AWn1P9yFhHRHgvU/5GFvbmqb9T/ABGWka7T1P4A6ukFMzfU/RqoYYw3m9T/M8mYTsP71P01LK081F/Y/VYCqBp4v9j88FZMe60f2PxvOS28dYPY/hOU+xzV49j8TiWUeLmT3P6b5hqmZSPg/aEj3MhAn+T++5GLnrwD6P80HOUBK1vo/\",\"dtype\":\"float64\",\"shape\":[63]}],\"ys\":[{\"__ndarray__\":\"Lksc6+I2Gr/0vU/Cxzpnv8DnmhuyyYO/TSxmDmZ6kr+Ksq4m3aebvxLLwRSRj6K/RP2YoGBgp7+EbU+Pnj6svznnG0v7krC/6AavRtgJs79pKz1CAYO1vzwaJ6/P/be/6yTFFcl5ur9CwlVxj/a8v7h+ypzVc7+/UMYSdq74wL8VtolcYC7Cv6giw36yWcO/1IqmZeJ7xL8ENE6rz5XFv3jLqsxNqMa/otbS4gu0x7/6k2y/mrnIv/eyf6h2ucm/zlr06Aq0yr8j+GxHtanLv5SgVgHImsy/9Oa4/IuHzb/wxdbUQXDOvx1crV4jVc+/BvopizIb0L8YgpEaG4rQv8aK8dZg99C/QB9dLxdj0b8a+JAKUM3Rvy0ClbMbNtK/7E5aRImd0r9N2/uppgPTv6tBgcWAaNO/zqBfgSPM079NzMb5mS7Uvx6m+JDuj9S/lmbr9yrw1L+1jy4/WE/Vv1crI+N+rdW/ccksz6YK1r+1uE5g12bWv8VBspgXwta//99JNm4c17+gptCK4XXXv93JmZd3zte/OJBl/TUm2L/QGnoPIn3Yv8WbENVA09i/wA5rFZco2b/IQzd3KX3Zv5qveFz80Nm/XXem8hMk2r8W4u4zdHbavwLnhekgyNq/mnefrR0Z278WL0LvbWnbv5hxtgkVudu/2psSMxYI3L9c3gSDdFbcvxwbAO4ypNy/1fRDP1Tx3L/+otYm2z3dv7SqiTTKid2/aoxN7yPV3b8TI7PJ6h/ev6peAyEhat6/U6l6Pcmz3r96N2NA5fzev7dyfTTG3eC/2IVY03kl4r+zoIFOFljjvyaEvkeId+S/\",\"dtype\":\"float64\",\"shape\":[78]},{\"__ndarray__\":\"AKnx0k1iQD9DxZX3yiFqP/S5JeGXdX0/U++/IWXkhz/sWqC6/cKQP5W4TeQauZU/eg9/sELKmj+fzFNaAPGfP39zz1MHlaI/cAKS0Ko5pT8NBuDiwOWnP+jQy/uXmKo/fTVEWOBRrT90rV31owiwP+/EVe5Fa7E/1oFtkbvQsj8ZP20n7Ti0P3jFRN7Fo7U/OIKsDDQRtz8sOATMJ4G4PyRN4JCS87k/HdvDPg1iuz+opqc758y8P2OUSOaONL4/oCni02GZvz/vR06j2H3AP2VFpQjiLcE/pJz1KOzcwT93pc9YEovCP48BueZsOMM/9qa8TxHlwz+7W0nkEpHEP4nNLBiDPMU/9E0RmHHnxT/8vyCh7JHGPxbZSTABPMc/beOcGbvlxz8+IDAqJY/IP2UzmVNJOMk/IY8LvTDhyT9xPF3w44nKP/B1J8xqMss/yIgpfszayz9ZH2HGD4PMP45YZOc6K80/U46GvlPTzT8Jn0POX3vOPzf8jyZkI88/sblwjmXLzz/mKWhBtDnQP75+0p24jdA/TVg83MHh0D+nPR7Z0TXRP4d26FTqidE/Knpn+Aze0T+JqPJVOzLSPwk1Hup2htI/Jok5H8Ha0j+Fgi+u1SnWP44V31ISg9k/+zdz+xbp3D8FPEhH1S7gPxkR1WUH8eE/\",\"dtype\":\"float64\",\"shape\":[63]},{\"__ndarray__\":\"9ajx0k1iQD8SDl+qTOJpPwz8NOZf6Xw/0p8foT8+hz/Q6V1+rCqQP+ewl0cDxpQ/Ml72mr1mmT/LV7CgMAeePzyDWVH7UaE/pEGK/mqdoz8tukOYHeWlP0238aB+KKg/Rqzz+Rpnqj9/V+OwGoSsPzoIST/Cga4/wtrjjyIysD8gVir1dRexPzMeW+Mr8rE/k7gaJVfDsj/xEuAb3IuzP2wWJrl7TLQ/qWae1dkFtT8d6BLmhLi1P0Y8a4/4ZLY/cutW1Z8Ltz80rFpW3Ky3PyE5KRIDSbg/aqdq+V7guD9gI6pMN3O5P/GKs/bIAbo/6FeopEuMuj8mjxGN9RK7P7pOGsLzlbs/DWccy3EVvD/+8Zi6mZG8PwxwoCaOCr0/SYEBXHKAvT/v1dVVZ/O9P0wGar2IY74/wlUCufPQvj9z9AR0wju/Pw1+o/cLpL8/4JWOMvQEwD90O3V6tjbAP771+a1WZ8A/88SGyN6WwD8m0pqmV8XAP0YGLcnJ8sA/DYYagD0fwT/au0I/ukrBP7hWBU9GdcE/iqEwbuqewT+dpG4RrcfBP66PpbOU78E/r0iV7KYWwj+cSraE6TzCP6LroQJiYsI/TRweshWHwj9PyiemCavCPy2I27pCzsI/pxWumsXwwj9PVK7BlhLDPyTEI4G6M8M/MGg0AzVUwz84GnJOCnTDP0YDITU+k8M/PbaAYNSxwz/oqqFi0M/DP1iIoq817cM/dtlJoAcKxD+dwZ90SSbEP88tg1P+QcQ/SqKGKSldxD/IDSvWzHfEP+2ryCrskcQ/WO/X5ImrxD98uNOvqMTEP42MGydL3cQ/TDQnzXP1xD/58ozwJA3FP2dfnuRgJMU/ZUK67yk7xT9HAOVJglHFP4qYEB5sZ8U/gKVki+l8xT98OpeV/JHFP8urYySnpsU/tIEWIuu6xT/cWh1tys7FP/rLx9hG4sU/F4UeLmL1xT+C6kMsHgjGP7qzKnl8GsY/uGZmsX4sxj8KhRhtJj7GP4zCADt1T8Y/PUIPoWxgxj8U0/YcDnHGP5giaSNbgcY/nZ2zGFWRxj/WFhRd/aDGPw==\",\"dtype\":\"float64\",\"shape\":[101]},{\"__ndarray__\":\"LkMc6+I2Gr+qvE/CxzpnvwPZmhuyyYO/fRZmDmZ6kr98wK4m3aebv06uwRSRj6K/B/aYoGBgp7+8HU+Pnj6sv//DG0v7krC/keOuRtgJs79TED1CAYO1vwECJ6/P/be/QxbFFcl5ur9n0VVxj/a8vyCYypzVc7+/ZLkSdq74wL9L2IlcYC7CvxPtwX6yWcO/poWhZeJ7xL+bikerz5XFv1b/o8xNqMa/7fTL4gu0x7/to2W/mrnIv1yZeKh2ucm/1yvt6Aq0yr/Q4WVHtanLv66YTwHImsy/huKx/IuHzb9ufM/UQXDOvxILpl4jVc+/Z0omizIb0L+g3Y0aG4rQv5zk7dZg99C/HnRZLxdj0b+7Q40KUM3Rvxw/kbMbNtK/5otWRImd0r+DFvippgPTv053fcWAaNO/TctbgSPM07/jAMP5mS7Uv5jx9JDuj9S/R83n9yrw1L9IBis/WE/Vv5OjH+N+rdW/UCMpz6YK1r8cv0pg12bWv3JMrpgXwta/2wNGNm4c17+6+syK4XXXv7xLlpd3zte/pCFi/TUm2L/oqXYPIn3YvywKDdVA09i/M4pnFZco2b9K6DN3KX3Zv/F/dVz80Nm/WGGj8hMk2r9yyeszdHbavxC3gukgyNq/CxycrR0Z2791wD7vbWnbv14cswkVudu/j3UPMxYI3L/f8wGDdFbcv70z/e0ypNy/NPZAP1Tx3L9Lc9Mm2z3dv8ZRhjTKid2/AlFK7yPV3b9LJLDJ6h/ev9W3ACEhat6/sCd4Pcmz3r9mpGBA5fzev3n5ezTG3eC/cL5X03kl4r/e3IBOFljjv1mqvUeId+S/\",\"dtype\":\"float64\",\"shape\":[78]},{\"__ndarray__\":\"AKrx0k1iQD9RDl+qTOJpPyv8NOZf6Xw/4Z8foT8+hz/X6V1+rCqQP/uwl0cDxpQ/Ol72mr1mmT/bV7CgMAeeP0yDWVH7UaE/tEGK/mqdoz9JukOYHeWlP2638aB+KKg/Zqzz+Rpnqj+3V+OwGoSsP3MIST/Cga4/2drjjyIysD82Vir1dRexP0geW+Mr8rE/pLgaJVfDsj8EE+Ab3IuzP4EWJrl7TLQ/t2ae1dkFtT886BLmhLi1P1w8a4/4ZLY/getW1Z8Ltz9VrFpW3Ky3PzI5KRIDSbg/fadq+V7guD+AI6pMN3O5PwOLs/bIAbo//1eopEuMuj8/jxGN9RK7P81OGsLzlbs/I2ccy3EVvD8R8pi6mZG8PyFwoCaOCr0/W4EBXHKAvT//1dVVZ/O9P2QGar2IY74/0VUCufPQvj+H9AR0wju/PyV+o/cLpL8/5ZWOMvQEwD99O3V6tjbAP8j1+a1WZ8A/+cSGyN6WwD8u0pqmV8XAP00GLcnJ8sA/E4YagD0fwT/zu0I/ukrBP/tWBU9GdcE/rqEwbuqewT+8pG4RrcfBP8uPpbOU78E/ykiV7KYWwj+2SraE6TzCP7zroQJiYsI/ZhweshWHwj9oyiemCavCP0WI27pCzsI/wBWumsXwwj9oVK7BlhLDPzvEI4G6M8M/RWg0AzVUwz9LGnJOCnTDP1oDITU+k8M/UraAYNSxwz//qqFi0M/DP26Ioq817cM/itlJoAcKxD+swZ90SSbEP9ktg1P+QcQ/WKKGKSldxD/YDSvWzHfEPwCsyCrskcQ/ae/X5ImrxD+KuNOvqMTEP5GMGydL3cQ/TDQnzXP1xD/88ozwJA3FP21fnuRgJMU/bEK67yk7xT9MAOVJglHFP4qYEB5sZ8U/dqVki+l8xT9zOpeV/JHFP8SrYySnpsU/r4EWIuu6xT/XWh1tys7FP/TLx9hG4sU/DYUeLmL1xT9y6kMsHgjGP6uzKnl8GsY/rGZmsX4sxj8AhRhtJj7GP4TCADt1T8Y/NUIPoWxgxj8J0/YcDnHGP40iaSNbgcY/lJ2zGFWRxj/NFhRd/aDGPw==\",\"dtype\":\"float64\",\"shape\":[101]},{\"__ndarray__\":\"9anx0k1iQD99xZX3yiFqPwG6JeGXdX0/Ye+/IWXkhz/0WqC6/cKQP6a4TeQauZU/gQ9/sELKmj8CzVNaAPGfP1xzz1MHlaI/0f6R0Ko5pT8jB+DiwOWnPzHSy/uXmKo/BDdEWOBRrT9Erl31owiwP9rFVe5Fa7E/1YJtkbvQsj8nQG0n7Ti0P4bGRN7Fo7U/UoOsDDQRtz9GOQTMJ4G4P0hO4JCS87k/KtzDPg1iuz+np6c758y8P1OVSOaONL4/eiri02GZvz9WSE6j2H3AP8NFpQjiLcE//Jz1KOzcwT/Kpc9YEovCP9wBueZsOMM/Pqe8TxHlwz/7W0nkEpHEP8XNLBiDPMU/Kk4RmHHnxT8qwCCh7JHGPz/ZSTABPMc/j+OcGbvlxz9YIDAqJY/IP3kzmVNJOMk/Lo8LvTDhyT96PF3w44nKP/J1J8xqMss/xIgpfszayz9PH2HGD4PMP31YZOc6K80/PY6GvlPTzT/unkPOX3vOPxX8jyZkI88/iblwjmXLzz/PKWhBtDnQP6R+0p24jdA/MFg83MHh0D+HPR7Z0TXRP2N26FTqidE/A3pn+Aze0T9dqPJVOzLSP9k0Hup2htI/84g5H8Ha0j81gi+u1SnWPyEV31ISg9k/ajdz+xbp3D+sO0hH1S7gP64Q1WUH8eE/\",\"dtype\":\"float64\",\"shape\":[63]}]},\"selected\":{\"id\":\"1102\"},\"selection_policy\":{\"id\":\"1101\"}},\"id\":\"1063\",\"type\":\"ColumnDataSource\"},{\"attributes\":{\"callback\":null,\"tooltips\":[[\"name\",\"@label\"],[\"root\",\"@root\"]]},\"id\":\"1002\",\"type\":\"HoverTool\"},{\"attributes\":{\"data\":{\"arrow_angle\":[-2.8302924777065375,0.9241191898746011,-1.246516056043851,-3.45289282944393,1.246516056043736,-0.9241191898746061],\"arrow_x\":[-0.9509521177617333,-1.2404784281321213,-0.7026218624529804,0.9509521177752938,0.7026218624529775,1.2404784281321242],\"arrow_y\":[-0.30933463701377384,0.16067730089954843,0.13639143808784637,-0.30933463699982583,0.13639143808784823,0.1606773008995502],\"color\":[\"#440154\",\"#440154\",\"#440154\",\"#440154\",\"#440154\",\"#440154\"],\"label\":[\"S-wall #0\",\"S-wall #1\",\"S-wall #2\",\"S-wall #3\",\"S-wall #4\",\"S-wall #5\"],\"root\":[\"[1, -1]\",\"[-1, 1]\",\"[-1, 1]\",\"[-1, 1]\",\"[1, -1]\",\"[1, -1]\"]},\"selected\":{\"id\":\"1104\"},\"selection_policy\":{\"id\":\"1103\"}},\"id\":\"1064\",\"type\":\"ColumnDataSource\"},{\"attributes\":{\"data\":{\"notebook\":[true],\"show_trees\":[false]},\"selected\":{\"id\":\"1111\"},\"selection_policy\":{\"id\":\"1110\"}},\"id\":\"1061\",\"type\":\"ColumnDataSource\"},{\"attributes\":{},\"id\":\"1022\",\"type\":\"PanTool\"},{\"attributes\":{\"bottom_units\":\"screen\",\"fill_alpha\":0.5,\"fill_color\":\"lightgrey\",\"left_units\":\"screen\",\"level\":\"overlay\",\"line_alpha\":1.0,\"line_color\":\"black\",\"line_dash\":[4,4],\"line_width\":2,\"render_mode\":\"css\",\"right_units\":\"screen\",\"top_units\":\"screen\"},\"id\":\"1105\",\"type\":\"BoxAnnotation\"},{\"attributes\":{},\"id\":\"1112\",\"type\":\"UnionRenderers\"},{\"attributes\":{},\"id\":\"1113\",\"type\":\"Selection\"},{\"attributes\":{},\"id\":\"1109\",\"type\":\"Selection\"},{\"attributes\":{\"source\":{\"id\":\"1062\"}},\"id\":\"1069\",\"type\":\"CDSView\"},{\"attributes\":{\"data_source\":{\"id\":\"1063\"},\"glyph\":{\"id\":\"1071\"},\"hover_glyph\":null,\"muted_glyph\":null,\"nonselection_glyph\":{\"id\":\"1072\"},\"selection_glyph\":null,\"view\":{\"id\":\"1074\"}},\"id\":\"1073\",\"type\":\"GlyphRenderer\"},{\"attributes\":{},\"id\":\"1104\",\"type\":\"Selection\"},{\"attributes\":{\"source\":{\"id\":\"1063\"}},\"id\":\"1074\",\"type\":\"CDSView\"},{\"attributes\":{\"line_alpha\":{\"value\":0.1},\"line_color\":{\"field\":\"color\"},\"line_width\":{\"value\":1.5},\"xs\":{\"field\":\"xs\"},\"ys\":{\"field\":\"ys\"}},\"id\":\"1072\",\"type\":\"MultiLine\"},{\"attributes\":{\"line_alpha\":{\"field\":\"root\"},\"line_color\":{\"field\":\"color\"},\"line_width\":{\"value\":1.5},\"xs\":{\"field\":\"xs\"},\"ys\":{\"field\":\"ys\"}},\"id\":\"1071\",\"type\":\"MultiLine\"},{\"attributes\":{},\"id\":\"1108\",\"type\":\"UnionRenderers\"},{\"attributes\":{\"source\":{\"id\":\"1064\"}},\"id\":\"1079\",\"type\":\"CDSView\"},{\"attributes\":{\"angle\":{\"field\":\"arrow_angle\",\"units\":\"rad\"},\"fill_alpha\":{\"value\":0.1},\"fill_color\":{\"field\":\"color\"},\"line_alpha\":{\"value\":0.1},\"line_color\":{\"field\":\"color\"},\"size\":{\"units\":\"screen\",\"value\":8},\"x\":{\"field\":\"arrow_x\"},\"y\":{\"field\":\"arrow_y\"}},\"id\":\"1077\",\"type\":\"Triangle\"},{\"attributes\":{\"data_source\":{\"id\":\"1064\"},\"glyph\":{\"id\":\"1076\"},\"hover_glyph\":null,\"muted_glyph\":null,\"nonselection_glyph\":{\"id\":\"1077\"},\"selection_glyph\":null,\"view\":{\"id\":\"1079\"}},\"id\":\"1078\",\"type\":\"GlyphRenderer\"},{\"attributes\":{\"angle\":{\"field\":\"arrow_angle\",\"units\":\"rad\"},\"fill_alpha\":{\"field\":\"root\"},\"fill_color\":{\"field\":\"color\"},\"line_alpha\":{\"field\":\"root\"},\"line_color\":{\"field\":\"color\"},\"size\":{\"units\":\"screen\",\"value\":8},\"x\":{\"field\":\"arrow_x\"},\"y\":{\"field\":\"arrow_y\"}},\"id\":\"1076\",\"type\":\"Triangle\"},{\"attributes\":{},\"id\":\"1091\",\"type\":\"UnionRenderers\"},{\"attributes\":{\"data\":{},\"selected\":{\"id\":\"1113\"},\"selection_policy\":{\"id\":\"1112\"}},\"id\":\"1080\",\"type\":\"ColumnDataSource\"},{\"attributes\":{\"data\":{},\"selected\":{\"id\":\"1107\"},\"selection_policy\":{\"id\":\"1106\"}},\"id\":\"1081\",\"type\":\"ColumnDataSource\"},{\"attributes\":{\"end\":1,\"format\":\"0[.]00\",\"js_property_callbacks\":{\"change:value\":[{\"id\":\"1083\"}]},\"start\":0,\"title\":\"spectral network #\",\"value\":0},\"id\":\"1082\",\"type\":\"Slider\"},{\"attributes\":{\"args\":{\"all_networks_ds\":[{\"arrow_angle\":[-2.8302924777065375,0.9241191898746011,-1.246516056043851,-3.45289282944393,1.246516056043736,-0.9241191898746061],\"arrow_x\":[-0.9509521177617333,-1.2404784281321213,-0.7026218624529804,0.9509521177752938,0.7026218624529775,1.2404784281321242],\"arrow_y\":[-0.30933463701377384,0.16067730089954843,0.13639143808784637,-0.30933463699982583,0.13639143808784823,0.1606773008995502],\"color\":[\"#440154\",\"#440154\",\"#440154\",\"#440154\",\"#440154\",\"#440154\"],\"label\":[\"S-wall #0\",\"S-wall #1\",\"S-wall #2\",\"S-wall #3\",\"S-wall #4\",\"S-wall #5\"],\"ranges\":[[-1.0,-0.7687133696350563,-0.639591350675009,-0.00010000000000002777],[-1.6773169048979022,-1.0008660254037844,0.0004999999999999727,0.5606724728500324],[-0.9991339745962156,-0.5497031961145761,0.0004999999999999715,0.17678801579329811],[0.7687133696558448,1.0,-0.6395913506688188,-0.00010000000000000002],[0.5497031961145781,0.9991339745962156,0.0005000000000000004,0.17678801579329786],[1.0008660254037844,1.6773169048978958,0.0004999999999999993,0.5606724728500205]],\"root\":[\"[1, -1]\",\"[-1, 1]\",\"[-1, 1]\",\"[-1, 1]\",\"[1, -1]\",\"[1, -1]\"],\"xs\":[[-1.0,-0.9999959803233751,-0.9999533189936128,-0.9998371734045836,-0.9996352340921822,-0.9993426954083722,-0.9989571644412937,-0.998477166032707,-0.9979019076954526,-0.9972307088093713,-0.9964631128524096,-0.9955988205585653,-0.9946375940324894,-0.9935792660518862,-0.9924237448835249,-0.9911709636104636,-0.9898607511636085,-0.9885068000828704,-0.9871111544357211,-0.9856775998792736,-0.9842077580517113,-0.9827031548854345,-0.9811653752116577,-0.9795958355331719,-0.977995822606484,-0.9763665030902341,-0.9747089329937767,-0.9730240874568898,-0.9713128770620126,-0.9695761412865848,-0.9678146469656483,-0.9660291053882807,-0.9642201917382203,-0.9623885359049678,-0.9605347342696352,-0.9586593530814801,-0.9567629190631242,-0.9548459242352283,-0.9529088404474195,-0.9509521177617333,-0.948976181549722,-0.9469814352118573,-0.9449682625996124,-0.9429370294678252,-0.9408880910024507,-0.9388217878970682,-0.9367384494577485,-0.9346383900125059,-0.9325219076693758,-0.9303892893643811,-0.9282408086679943,-0.9260767330707654,-0.9238973185204785,-0.9217028093308733,-0.9194934419155996,-0.9172694506361182,-0.9150310620535759,-0.9127784983461511,-0.9105119707386408,-0.9082316817186072,-0.9059378283267163,-0.9036306006539315,-0.9013101870783242,-0.8989767693527385,-0.8966305237175278,-0.894271621708341,-0.8919002305356727,-0.8895165131523097,-0.8871206285633194,-0.8847127311027264,-0.8822929711018247,-0.8798614951041025,-0.877418446151444,-0.8749639650930944,-0.8498191379439121,-0.8236648020824783,-0.7966013829439721,-0.7687133696350563],[-1.0008660254037844,-1.005505147042554,-1.0123557729539856,-1.0199417580397625,-1.0278364983491173,-1.035887907373255,-1.0440272926192653,-1.0522183833818577,-1.0604398398729873,-1.0686781532229914,-1.0769243708527645,-1.085171810629947,-1.0934159564691173,-1.1016533744222345,-1.1098813547725248,-1.1180979067136538,-1.1263013763653558,-1.1344904135438099,-1.1426639780282721,-1.1508212171987258,-1.1589614204378103,-1.1669462205563377,-1.1747862799551214,-1.1824944079902513,-1.1900815730061534,-1.1975573180696988,-1.2049300041631301,-1.212206998813204,-1.2193948175898024,-1.2264992853898602,-1.2335255940329757,-1.2404784281321213,-1.2473620306255204,-1.2541802425159603,-1.2609365703636177,-1.2676342209455573,-1.2742761323574932,-1.2808650048801602,-1.2874033370806337,-1.2938934313085981,-1.3003374404538197,-1.3067373602277514,-1.3130950288267955,-1.3194121793889306,-1.3256904240972447,-1.3319312782055355,-1.3381361709577788,-1.3443064261886017,-1.3504432977552994,-1.3565479680694785,-1.3626215522268987,-1.3686651106787786,-1.3746796377083008,-1.380666074041717,-1.3866253147498557,-1.3925582117384048,-1.39846557116551,-1.4043481619868061,-1.4619580447548017,-1.517724668708622,-1.5720369330270212,-1.625167754986526,-1.6773169048979022],[-0.9991339745962156,-0.9945073722414435,-0.9876730244671199,-0.9800775989750056,-0.9721358161686612,-0.963995371497984,-0.9557220881515112,-0.9473512448798023,-0.9389034033565477,-0.9303915496760451,-0.9218245121586303,-0.9132084424685194,-0.9045477999492036,-0.8962840085654173,-0.8883973858726611,-0.8808360660169952,-0.8735597281089006,-0.8665361876153668,-0.8597393454104396,-0.8531475045321916,-0.8467425234427048,-0.8405088497976404,-0.8344332596120291,-0.828504258636021,-0.8227116100585915,-0.8170465451380199,-0.811501146294993,-0.8060682537747944,-0.8007416685233695,-0.7955156217769682,-0.7903848872752022,-0.7853448459846584,-0.7803911382216978,-0.7755198104749675,-0.7707272731637671,-0.7660101577083175,-0.7613653640050405,-0.7567900259500066,-0.7522814895522416,-0.7478372421321732,-0.7434549631509576,-0.7391325114884335,-0.7348678019170236,-0.7306589388760867,-0.7265041469307416,-0.7224016752426002,-0.718349956589302,-0.7143474833779903,-0.7103927787199876,-0.7064845678265915,-0.7026218624529804,-0.6988028999733397,-0.6950265756103433,-0.6912917556825299,-0.6875975126515482,-0.6839428366272119,-0.6803267631010613,-0.6767483666902256,-0.6732067609814261,-0.6697010987303182,-0.6662305678312651,-0.6627943897653635,-0.6593918175921895,-0.6560221339050231,-0.6526846487932112,-0.6493786993127298,-0.6461036468733234,-0.6428588741385743,-0.6396437837553257,-0.6364577963868286,-0.6333003487458883,-0.6301708943314365,-0.6270689334784558,-0.6239939732004326,-0.6209455285289245,-0.6179231279964561,-0.6149263123117973,-0.6119546330352394,-0.6090076588126614,-0.6060849944722381,-0.6031862409724301,-0.6003110079210059,-0.5974589145771741,-0.5946295889531348,-0.5918226669156288,-0.5890378033230166,-0.5862746724184016,-0.5835329461314441,-0.5808123043519713,-0.5781124344066714,-0.5754330304739562,-0.5727737932918234,-0.5701344397766659,-0.5675146929637667,-0.5649142788368207,-0.5623329293980833,-0.5597703822535443,-0.5572263801980996,-0.5547006723147697,-0.5521930225782763,-0.5497031961145761],[1.0,0.9999959803233749,0.9999533189936123,0.999837173404583,0.9996352340921799,0.9993426954083781,0.9989571644413019,0.9984771660327372,0.9979019076954821,0.9972307088094018,0.9964631128524348,0.9955988205586043,0.9946375940325323,0.9935792660519167,0.9924237448835528,0.9911709636105311,0.9898607511636069,0.9885068000843664,0.9871111544426694,0.9856775998884258,0.984207758061109,0.9827031548950559,0.9811653752214571,0.979595835543217,0.9779958226167965,0.9763665031007092,0.9747089330043583,0.9730240874676782,0.9713128770730907,0.9695761412979303,0.967814646977156,0.9660291053999444,0.9642201917500344,0.9623885359169828,0.9605347342819415,0.9586593530941178,0.9567629190760106,0.9548459242482936,0.9529088404607337,0.9509521177752938,0.9489761815634443,0.9469814352256787,0.9449682626134837,0.9429370294818383,0.9408880910167249,0.9388217879116916,0.9367384494727747,0.9346383900277263,0.9325219076847293,0.9303892893798074,0.928240808683562,0.9260767330866054,0.9238973185365132,0.9217028093468653,0.9194934419314245,0.9172694506518144,0.9150310620693082,0.9127784983622861,0.9105119707551941,0.9082316817356124,0.9059378283440085,0.9036306006712398,0.9013101870955847,0.8989767693699116,0.8966305237347575,0.8942716217258844,0.8919002305536214,0.8895165131706396,0.8871206285817711,0.8847127311210631,0.8822929711199602,0.8798614951221143,0.8774184461696571,0.87496396511168,0.8498191379636488,0.8236648021026037,0.7966013829652951,0.7687133696558448],[0.9991339745962156,0.9945073722414437,0.9876730244671206,0.9800775989750063,0.9721358161686617,0.9639953714979845,0.9557220881515117,0.9473512448798028,0.938903403356548,0.9303915496760454,0.9218245121586304,0.9132084424685196,0.904547799949204,0.8962840085654172,0.8883973858726608,0.880836066016995,0.8735597281089003,0.8665361876153668,0.8597393454104394,0.8531475045321916,0.8467425234427047,0.8405088497976398,0.8344332596120291,0.8285042586360206,0.8227116100585911,0.8170465451380199,0.8115011462949926,0.8060682537747941,0.8007416685233691,0.7955156217769678,0.7903848872752018,0.785344845984658,0.7803911382216975,0.7755198104749672,0.7707272731637668,0.7660101577083172,0.7613653640050403,0.7567900259500063,0.7522814895522414,0.7478372421321731,0.7434549631509574,0.7391325114884334,0.7348678019170236,0.7306589388760867,0.7265041469307415,0.7224016752426003,0.7183499565893021,0.7143474833779905,0.7103927787199878,0.7064845678265906,0.7026218624529775,0.6988028999733397,0.6950265756103439,0.6912917556825305,0.687597512651549,0.6839428366272127,0.6803267631010621,0.6767483666902264,0.6732067609814268,0.6697010987303189,0.6662305678312659,0.6627943897653643,0.6593918175921902,0.6560221339050238,0.6526846487932121,0.6493786993127306,0.6461036468733241,0.6428588741385749,0.6396437837553263,0.6364577963868293,0.6333003487458891,0.6301708943314377,0.6270689334784568,0.6239939732004335,0.6209455285289253,0.617923127996457,0.6149263123117983,0.6119546330352409,0.6090076588126629,0.6060849944722395,0.6031862409724313,0.600311007921007,0.5974589145771754,0.5946295889531362,0.5918226669156306,0.5890378033230182,0.5862746724184033,0.5835329461314456,0.5808123043519727,0.5781124344066727,0.5754330304739577,0.5727737932918251,0.5701344397766674,0.5675146929637681,0.564914278836822,0.5623329293980848,0.5597703822535458,0.5572263801981013,0.5547006723147718,0.5521930225782783,0.5497031961145781],[1.0008660254037844,1.0055051470425547,1.0123557729539858,1.0199417580397625,1.0278364983491177,1.0358879073732552,1.0440272926192653,1.052218383381858,1.0604398398729875,1.0686781532229905,1.0769243708527712,1.0851718106299535,1.093415956469124,1.1016533744222414,1.109881354772532,1.1180979067136612,1.126301376365363,1.134490413543817,1.1426639780282792,1.1508212171987326,1.1589614204378174,1.1669462205563441,1.1747862799551274,1.1824944079902568,1.1900815730061587,1.1975573180697034,1.2049300041631343,1.2122069988132078,1.219394817589806,1.2264992853898637,1.2335255940329788,1.2404784281321242,1.2473620306255229,1.2541802425159627,1.2609365703636197,1.2676342209455589,1.2742761323574945,1.2808650048801613,1.2874033370806348,1.2938934313085988,1.3003374404538204,1.3067373602277517,1.3130950288267957,1.3194121793889309,1.3256904240972445,1.3319312782055353,1.3381361709577786,1.3443064261886013,1.350443297755299,1.3565479680694779,1.3626215522268978,1.3686651106787777,1.3746796377083,1.3806660740417158,1.3866253147498544,1.392558211738403,1.3984655711655083,1.4043481619868041,1.4619580447547988,1.517724668708618,1.5720369330270163,1.6251677549865202,1.6773169048978958]],\"ys\":[[-0.00010000000000002777,-0.0028356458228626594,-0.009662047831955678,-0.018045038822986737,-0.027007537351595924,-0.036251577171148366,-0.0456571765939722,-0.05516524791138536,-0.06474276145663972,-0.07436897016216515,-0.08403022639428816,-0.09371660257520714,-0.10342079907890749,-0.1131372119614378,-0.1228612430372732,-0.13258915677356464,-0.14204029577688063,-0.15117484273493642,-0.16003065074354217,-0.1686343752338929,-0.17701122754587195,-0.18518208098764882,-0.193164199322524,-0.20097239711267154,-0.20861946463329278,-0.21611658084469906,-0.2234735495123955,-0.23069906082110203,-0.23780081646468387,-0.24478571055325996,-0.2516599997542531,-0.25842931360787835,-0.2650987719590997,-0.27167300820700646,-0.27815629035819855,-0.28455250298796636,-0.29086524653506163,-0.2970978412626451,-0.30325335776890466,-0.30933463701377384,-0.3153443278526467,-0.32128490598060633,-0.32715868197338105,-0.33296781702142236,-0.3387143343103864,-0.3444001219933375,-0.3500269356253612,-0.35559644614934555,-0.36111026097887583,-0.3665698867431306,-0.37197675518760126,-0.3773322081162891,-0.3826375151769925,-0.38789387518994217,-0.39310242740269175,-0.3982642807214316,-0.40338048010266336,-0.4084520215636667,-0.4134798533591789,-0.41846487812982514,-0.4234079547439876,-0.42830990185824314,-0.4331715197420407,-0.43799357402388994,-0.4427768020136449,-0.4475219082091131,-0.4522295587374406,-0.4569003943711748,-0.46153502588883133,-0.46613405579973366,-0.4706980676387939,-0.4752276251215145,-0.4797232723600661,-0.4841855171952073,-0.5270720505901271,-0.5670746925208574,-0.604502824146968,-0.639591350675009],[0.0004999999999999727,0.0031899418069591136,0.007192223815180022,0.011666097729168412,0.016368832126398766,0.021213932213350068,0.026162187597733567,0.031192784798758862,0.03629324815822254,0.04145559116387154,0.046674754805291575,0.051945447432361125,0.05726529195281225,0.06263184299830532,0.06804310864187689,0.07349750805361252,0.07899362766806596,0.08453022648315833,0.09010625180645426,0.09572075587149759,0.10137287175193826,0.1069649008021369,0.11250157553117879,0.11798947450786694,0.12343417571006521,0.1288405225173501,0.1342127363409801,0.13955451965305088,0.1448691304824867,0.15015946641689168,0.1554280890789454,0.16067730089954843,0.165909182361798,0.17112560200858662,0.17632825725149803,0.18151869638286006,0.18669832945468148,0.19186844406090303,0.1970302255816946,0.20218476515503261,0.20733308064015746,0.21247611015762358,0.21761470947519101,0.22274968325131786,0.22788177774845447,0.23301169207580816,0.2381400830411098,0.24326755412036657,0.24839467482656866,0.25352198016540084,0.25864997303322557,0.2637791300525166,0.2689098949712964,0.2740426854305515,0.2791778970548956,0.28431590455387173,0.2894570623692095,0.2946017079285802,0.3463033867865664,0.39862497418320053,0.45172667079611956,0.5057169334630777,0.5606724728500324],[0.0004999999999999715,0.0031596658108996667,0.007058500868253336,0.011349198441123951,0.015787787640400286,0.020286608929311802,0.024805986960556754,0.02932430248991817,0.03382859581029726,0.038310378619942825,0.0427636383409332,0.04718394961024206,0.05156788159532559,0.055695375530986795,0.05958373091245091,0.06326499951306189,0.06676423297388867,0.07010149288827776,0.07329315811031938,0.07635284119175957,0.0792920424483669,0.08212052789022074,0.08484678856885393,0.0874781942504664,0.0900211234901869,0.09248139484650225,0.09486407464394066,0.09717362965844037,0.09941430684751884,0.10158973715764909,0.10370323915444113,0.1057580441861857,0.10775683869206434,0.10970221718562474,0.11159668737031578,0.11344231074366479,0.11524119135129242,0.11699529500568649,0.11870627045029741,0.12037585512947316,0.12200560886863503,0.12359690471520697,0.12515118092157618,0.1266697023333695,0.12815364355985354,0.12960419455843172,0.13102241168020717,0.13240930865326755,0.13376587634142859,0.1350930031671556,0.13639143808784637,0.13766222362870578,0.13890612937146765,0.1401239278012531,0.1413162856284251,0.14248389225084146,0.14362740639248012,0.14474745938443548,0.14584465611513273,0.14691957591918606,0.14797277500853775,0.14900478798941427,0.1500161295475958,0.1510072961471578,0.151978767684527,0.15293099970042529,0.15386442863511887,0.15477948013297937,0.15567656589434153,0.1565560848864142,0.15741842455419155,0.15826396062617085,0.15909304168350707,0.1599060102217733,0.16070320214325254,0.16148494409560032,0.16225155434898741,0.1630033436732429,0.16374061124079942,0.16446363206514272,0.16517268336314858,0.16586803632209804,0.16654995544559112,0.1672186991501728,0.16787452036195916,0.16851765922770656,0.16914834286521194,0.16976679958771757,0.17037325218071586,0.17096791825278485,0.17155101062693554,0.17212273751632173,0.17268329540584465,0.17323287641629803,0.1737716705984343,0.17429986363415073,0.17481763710249423,0.17532516874566595,0.17582263211285887,0.17631019312032672,0.17678801579329811],[-0.00010000000000000002,-0.0028356458228625163,-0.009662047831949133,-0.018045038822967364,-0.02700753735160831,-0.03625157717109727,-0.04565717659395934,-0.05516524791124364,-0.06474276145651457,-0.0743689701620396,-0.08403022639419193,-0.09371660257512106,-0.10342079907885542,-0.11313721196149161,-0.12286124303736345,-0.13258915677347283,-0.1420402957771237,-0.1511748427327367,-0.16003065073441042,-0.16863437522177524,-0.17701122753350756,-0.18518208097513114,-0.1931641993099044,-0.20097239709975667,-0.20861946462022615,-0.21611658083180751,-0.22347354949960646,-0.23069906080833763,-0.23780081645142864,-0.24478571053995118,-0.25165999974084347,-0.2584293135946272,-0.26509877194582443,-0.2716730081936606,-0.2781562903447214,-0.28455250297428036,-0.29086524652137624,-0.2970978412489346,-0.30325335775511497,-0.30933463699982583,-0.3153443278388421,-0.321284905967127,-0.32715868196028847,-0.3329678170085555,-0.3387143342975431,-0.34440012198006276,-0.35002693561090026,-0.35559644613494534,-0.3611102609648335,-0.36656988672977386,-0.3719767551748949,-0.37733220810380375,-0.3826375151644741,-0.38789387517695917,-0.39310242738989415,-0.3982642807092175,-0.40338048009107214,-0.40845202155243987,-0.4134798533479148,-0.41846487811822985,-0.42340795473177256,-0.42830990184575707,-0.43317151972991563,-0.43799357401243183,-0.44277680200303665,-0.44752190819854915,-0.45222955872654613,-0.456900394359583,-0.4615350258766536,-0.4661340557879755,-0.4706980676278973,-0.4752276251118677,-0.4797232723509479,-0.48418551718584124,-0.5270720505794052,-0.5670746925151899,-0.6045028241414021,-0.6395913506688188],[0.0005000000000000004,0.003159665810899694,0.007058500868253363,0.011349198441123977,0.01578778764040031,0.02028660892931187,0.024805986960556782,0.029324302489918224,0.033828595810297374,0.038310378619942936,0.04276363834093339,0.04718394961024229,0.05156788159532581,0.05569537553098718,0.0595837309124513,0.0632649995130622,0.06676423297388898,0.07010149288827805,0.07329315811031961,0.07635284119175983,0.0792920424483672,0.08212052789022094,0.08484678856885436,0.08747819425046671,0.09002112349018711,0.09248139484650271,0.0948640746439409,0.09717362965844063,0.09941430684751928,0.10158973715764934,0.10370323915444145,0.10575804418618605,0.10775683869206461,0.10970221718562505,0.11159668737031604,0.11344231074366508,0.11524119135129267,0.11699529500568671,0.11870627045029775,0.12037585512947337,0.1220056088686353,0.1235969047152073,0.12515118092157632,0.12666970233336974,0.1281536435598538,0.1296041945584319,0.1310224116802074,0.13240930865326775,0.13376587634142875,0.1350930031671563,0.13639143808784823,0.13766222362870678,0.1389061293714685,0.1401239278012539,0.14131628562842585,0.14248389225084218,0.14362740639248084,0.14474745938443617,0.14584465611513342,0.14691957591918672,0.14797277500853845,0.14900478798941497,0.15001612954759644,0.15100729614715838,0.15197876768452753,0.15293099970042584,0.15386442863511945,0.15477948013298,0.15567656589434214,0.15655608488641476,0.15741842455419197,0.15826396062617112,0.15909304168350746,0.15990601022177375,0.16070320214325307,0.1614849440956008,0.1622515543489878,0.163003343673243,0.16374061124079942,0.1644636320651428,0.16517268336314875,0.16586803632209823,0.16654995544559126,0.1672186991501728,0.16787452036195888,0.1685176592277063,0.16914834286521174,0.16976679958771743,0.17037325218071572,0.17096791825278468,0.17155101062693526,0.1721227375163213,0.17268329540584423,0.1732328764162977,0.173771670598434,0.1742998636341505,0.174817637102494,0.17532516874566564,0.17582263211285856,0.17631019312032647,0.17678801579329786],[0.0004999999999999993,0.003189941806959139,0.007192223815180033,0.011666097729168436,0.016368832126398794,0.021213932213350127,0.02616218759773359,0.031192784798759206,0.0362932481582223,0.04145559116386511,0.046674754805293504,0.05194544743236341,0.05726529195281496,0.06263184299830821,0.06804310864188015,0.07349750805361606,0.07899362766806971,0.08453022648316208,0.09010625180645818,0.0957207558715015,0.10137287175194232,0.10696490080214063,0.11250157553118233,0.11798947450787027,0.12343417571006823,0.12884052251735295,0.1342127363409827,0.13955451965305332,0.144869130482489,0.15015946641689382,0.1554280890789474,0.1606773008995502,0.16590918236179966,0.17112560200858812,0.1763282572514993,0.1815186963828612,0.18669832945468243,0.19186844406090375,0.19703022558169517,0.20218476515503297,0.2073330806401577,0.21247611015762363,0.2176147094751909,0.22274968325131758,0.227881777748454,0.23301169207580755,0.23814008304110906,0.24326755412036563,0.24839467482656755,0.25352198016539956,0.2586499730332241,0.26377913005251497,0.26890989497129464,0.2740426854305495,0.27917789705489343,0.2843159045538693,0.2894570623692068,0.29460170792857737,0.346303386786562,0.3986249741831945,0.4517266707961115,0.5057169334630678,0.5606724728500205]]},{\"arrow_angle\":[-2.484300828583152,1.334460538765902,-1.0081288594101618,-3.0782745546267387,1.4561895648107606,-0.5147107073252319],\"arrow_x\":[-0.848135668892663,-1.2853155594084988,-0.7472641441178369,1.0591135801497147,0.6831639088397962,1.1715358187450258],\"arrow_y\":[-0.28272024149843206,0.06227851952105788,0.22002299171932843,-0.3009645228696406,0.04952513102177171,0.2459090765198763],\"color\":[\"#440154\",\"#440154\",\"#440154\",\"#440154\",\"#440154\",\"#440154\"],\"label\":[\"S-wall #0\",\"S-wall #1\",\"S-wall #2\",\"S-wall #3\",\"S-wall #4\",\"S-wall #5\"],\"ranges\":[[-0.9999672805303204,-0.6299191000998335,-0.4822023926605728,-9.449569463150154e-05],[-1.952466515191406,-1.0009819540693892,0.0001891195537483268,0.2504516775960271],[-0.9993452406274069,-0.5679090287467835,0.0007558373925663552,0.3066165459337412],[0.9968843333578311,1.0613122622896727,-0.779259801587044,-9.449569463147378e-05],[0.5353029232067259,0.9990180459306108,0.00018911955374835456,0.06283910789246873],[1.000654759372593,1.3682183116009972,0.0007558373925663829,0.7552886644089276]],\"root\":[\"[1, -1]\",\"[-1, 1]\",\"[-1, 1]\",\"[-1, 1]\",\"[1, -1]\",\"[1, -1]\"],\"xs\":[[-0.9999672805303204,-0.9990690092550081,-0.9968002978497588,-0.9939583992649534,-0.9908506248224113,-0.9875696572877195,-0.9841520367170573,-0.9806153243373974,-0.9769691431709443,-0.9732192991650789,-0.969369523706505,-0.9654223489164475,-0.9613795151726348,-0.9572423681198893,-0.953011895135145,-0.9488646654044657,-0.9448000767147142,-0.9408055765843624,-0.9368729634768038,-0.932994699543472,-0.9291643555096077,-0.9253768843002451,-0.9216280532018409,-0.9179142603935072,-0.9142324380901027,-0.9105799333131409,-0.9069544391726125,-0.9033539435909608,-0.8997766684557963,-0.8962210456221644,-0.8926856812530745,-0.8891693268770953,-0.8856708490469464,-0.8821892407503759,-0.8787235950231908,-0.8752730846827719,-0.871836950045009,-0.8684145046276637,-0.8650051274733564,-0.8616082449406735,-0.8582233246485848,-0.8548498786396966,-0.8514874635425752,-0.848135668892663,-0.8447941143214845,-0.841462442226638,-0.838140316546219,-0.8348274196337323,-0.8315234727776359,-0.8282282150824661,-0.824941401587306,-0.8216627999867158,-0.8183921888762968,-0.8151293581315391,-0.8118741116396526,-0.8086262781631991,-0.8053856932569509,-0.802152203187221,-0.7989256568171411,-0.7957059105885664,-0.7924928268455947,-0.7892862808678035,-0.7860861583184678,-0.7828923496243888,-0.7797047523084648,-0.7765232706509345,-0.7733478142295744,-0.7701782930319523,-0.7670146233116752,-0.7638567253239578,-0.7607045223624935,-0.7575579402121358,-0.7544169129940698,-0.7512813806901985,-0.7481512829185671,-0.7450265620338486,-0.7419071628230441,-0.7387930327002391,-0.7356841244410655,-0.7325803918423713,-0.7294817903403316,-0.7263882771948587,-0.7232998112696681,-0.7202163552076987,-0.6896505098138909,-0.6595565943445677,-0.6299191000998335],[-1.0009819540693892,-1.006248751728558,-1.0140410011956105,-1.0226885157422243,-1.0317086270800786,-1.0409293921006835,-1.0502731275435702,-1.0596989347282757,-1.0691826989763462,-1.0787042418284345,-1.0882631280959425,-1.09784773641618,-1.107451638826186,-1.1170713830352663,-1.1267039595310562,-1.1363470332850225,-1.1459986535852449,-1.1556572683334747,-1.1653215986606142,-1.1749906455409127,-1.1846634236059672,-1.1943393414796568,-1.2039155205170897,-1.2133587605711453,-1.222681471740844,-1.231894305461654,-1.2410065770908252,-1.2500264884158043,-1.2589612200439206,-1.2678171963729281,-1.2766002310057212,-1.2853155594084988,-1.2939678164127817,-1.302561126893054,-1.3110993711355243,-1.3195860777791388,-1.3280244682372275,-1.3364174963929603,-1.3447678783749746,-1.3530781304489654,-1.3613505615446417,-1.3695873179889515,-1.3777904068023257,-1.385961689668642,-1.394102914288683,-1.4022157187209021,-1.4103016344225217,-1.4183620899429028,-1.4263984220930406,-1.4344119036696232,-1.4424037330246406,-1.4503750452567603,-1.458326913277008,-1.4662603406363532,-1.4741762781809724,-1.4820756198292457,-1.4899592200288552,-1.5680922876092658,-1.6453525066595067,-1.7221645600664215,-1.7988210441439811,-1.875535151822468,-1.952466515191406],[-0.9993452406274069,-0.9958376062795908,-0.9906341767307224,-0.9848226477263252,-0.9787146090905323,-0.972420768042201,-0.9659902518102387,-0.9594493473317566,-0.952813306700361,-0.9460917263713986,-0.939291123810916,-0.9324159604745458,-0.9254695070437294,-0.9186031296528282,-0.9120076117295213,-0.9056442833328111,-0.8994833999483176,-0.8935014306450711,-0.887679276371213,-0.8820012443697716,-0.8764542159041707,-0.8710271015607502,-0.8657103891109734,-0.8604958295155757,-0.8553762805917828,-0.8503454401743674,-0.845397729225611,-0.8405282124928213,-0.8357324501977214,-0.8310064526626617,-0.8263466318731153,-0.8217497244601273,-0.817212745446358,-0.8127329424211551,-0.8083078440331956,-0.8039351596602546,-0.799612770644344,-0.7953386980776578,-0.7911111205636745,-0.7869283627654625,-0.7827888535952906,-0.7786911165999669,-0.7746337627123577,-0.7706155100909874,-0.7666351531382654,-0.7626915574022111,-0.7587836513502584,-0.7549104183241676,-0.7510708888217237,-0.7472641441178369,-0.7434893437779508,-0.7397456787681921,-0.736032379115667,-0.7323487104815015,-0.7286939701257957,-0.7250674827345884,-0.7214686056929219,-0.7178967430723605,-0.7143513178745076,-0.7108317781877709,-0.7073375927548108,-0.7038682505518459,-0.7004232588032717,-0.6970021465124734,-0.6936044694274263,-0.6902297965625167,-0.6868777134413557,-0.6835478200737706,-0.6802397304553345,-0.6769530713101768,-0.6736874839752568,-0.6704426250491224,-0.6672181611689009,-0.6640137701875195,-0.6608291414673612,-0.657663974219199,-0.6545179769469395,-0.6513908677930913,-0.6482823739977027,-0.6451922305057193,-0.6421201775703128,-0.6390659544764472,-0.6360293186216224,-0.633010042793614,-0.6300079143196959,-0.6270227349276173,-0.6240542794248979,-0.6211023175048007,-0.6181666478529994,-0.6152470763883621,-0.6123434162629514,-0.6094554847760607,-0.6065830891320243,-0.6037260498572106,-0.6008841946985026,-0.5980573567412668,-0.5952453744088074,-0.5679090287467835],[1.0000327194696796,1.0009246228402136,1.0031229678771632,1.0057668207871011,1.0085248016977553,1.0112948257674745,1.014035974500082,1.0167279065516772,1.0193592778931169,1.0219231405328268,1.024414956904477,1.0268314824005869,1.0291707919049635,1.031431142783714,1.0336113373709532,1.0357105747703883,1.0377280703958798,1.0396467245843504,1.0414334774043352,1.0431004769540646,1.044657766150092,1.0461135608930692,1.0474754392983063,1.0487495424625917,1.0499411782952301,1.051055062938411,1.0520953700322742,1.0530658141396372,1.0539697279064535,1.0548101048661216,1.0555896486792764,1.0563108232011367,1.0569758643751554,1.0575868357743288,1.0581456356717245,1.0586540133146842,1.0591135801497147,1.0595258308237594,1.0598921596576008,1.0602138618734833,1.0604921545299981,1.0607281779765938,1.0609230042812687,1.0610776373730253,1.061193018689116,1.0612700278964595,1.0613095065167502,1.0613122622896727,1.0612790580682518,1.0612106185613592,1.0611076211103325,1.0609707083716757,1.0608004857143438,1.0605975469465725,1.0603624613362346,1.060095774267123,1.059798004126969,1.0594696387914653,1.0591111458107099,1.0587229711880417,1.0583055559401202,1.0578593223281885,1.0573846789552588,1.0568820116757354,1.0563516881237,1.055794060176448,1.0552094692940637,1.0479495324704795,1.0383013029641566,1.026473402030291,1.0126240972409433,0.9968843333578311],[0.9990180459306108,0.9937787466508525,0.9860539550558549,0.9774876190431165,0.9685511264411946,0.9594125289989823,0.950146872977385,0.9407944149014293,0.9313786434576046,0.9219145191179512,0.9124120353961819,0.9028782858496743,0.8934118879905113,0.8844595379325433,0.8759427675224594,0.8678023452599374,0.8599920708654454,0.852475017370982,0.8452210954926839,0.8382053315047433,0.8314067022883636,0.8248072941078523,0.8183916899849905,0.8121464800132369,0.8060599175022038,0.8001216413117459,0.7943224283188183,0.7886540387481806,0.7831090712299166,0.7776808406804102,0.7723632720748278,0.7671508391671891,0.7620386058683422,0.7570220780807054,0.752096454476439,0.7472580436782971,0.742503157430333,0.7378284802802648,0.7332308680407016,0.7287073842102814,0.7242552813198752,0.7198719884986252,0.7155551010026717,0.7113023543490695,0.7071116102905529,0.7029808548167151,0.6989081948711942,0.6948918320733964,0.690930061632058,0.6870212658340894,0.6831639088397962,0.6793565285968487,0.6755977285573568,0.6718861861895928,0.6682206477186523,0.6645999281294483,0.6610229125234637,0.6574885294892553,0.6539956671060111,0.6505433095739594,0.6471304924257357,0.6437562956870869,0.6404198440860472,0.6371202995538687,0.633856808222466,0.6306285696658344,0.6274348229636485,0.6242748393174301,0.6211479223268669,0.6180534058602922,0.6149906108581707,0.6119588894190884,0.6089576261254109,0.6059862278615574,0.6030441236491065,0.6001307643771709,0.5972456042038298,0.5943881126501694,0.5915577828815128,0.5887541244082729,0.5859766628342055,0.5832249397125822,0.5804985052303996,0.5777969184178234,0.5751197560243366,0.5724666073893904,0.5698370742230063,0.5672307704535874,0.5646473185579007,0.5620863457567011,0.5595474931950343,0.5570304116489045,0.5545347611237771,0.5520602106226311,0.5496064371757989,0.5471731234581948,0.5447599612254836,0.5423666498803174,0.5399928960942803,0.5376384136248015,0.5353029232067259],[1.000654759372593,1.0041524485864088,1.0092953998754637,1.0149615787916162,1.020826602761095,1.0267746200507557,1.0327532174033203,1.0387351431563858,1.0447031684663666,1.0506472921650643,1.056560647473258,1.0624383942210884,1.0682769860451935,1.0740738508960699,1.079827013794755,1.08553492589026,1.0911964079082204,1.0968105494504319,1.1023766087439975,1.1077964982988975,1.1130598445311601,1.118180439647675,1.1231699160533195,1.1280382828649342,1.1327941928398482,1.13744515672003,1.1419978219146754,1.1464580350884688,1.1508310005520097,1.1551214139612576,1.159333476996379,1.1634709801583887,1.1675373726016134,1.1715358187450258,1.175469191614581,1.1793401199030744,1.183151030948176,1.1869041777782983,1.1906016338396017,1.1942453178855073,1.1978370162779917,1.201378397775288,1.2048710329612258,1.2083163822183318,1.2117157991870249,1.215070569078351,1.2183819028502447,1.2216509324067921,1.2248787379089632,1.2280663476347131,1.2312147100875608,1.234324728335046,1.2373972645999995,1.2404331361555903,1.243433121453654,1.2463979677564077,1.2493283849085426,1.2522250366268808,1.2550885628485635,1.2579195754042636,1.2607186600827769,1.2870662801235562,1.3107161750657919,1.331983405604507,1.3510949417790417,1.3682183116009972]],\"ys\":[[-9.449569463150154e-05,-0.0026771507938743466,-0.009106206227944492,-0.01697831808824167,-0.025369618267878976,-0.03399763280704231,-0.04274880133463554,-0.05156720594790321,-0.06042122375320487,-0.06929110047372626,-0.07816359514118501,-0.08702926520139659,-0.09588113241752559,-0.10471362259080012,-0.11352229286937951,-0.12195059712007891,-0.1300223295012477,-0.1377806204199502,-0.14525961960309478,-0.15248739177515577,-0.1594872348063146,-0.16627871649528514,-0.17287851580335029,-0.17930099645726424,-0.1855586328392655,-0.19166235576080204,-0.1976218157382758,-0.2034455883069997,-0.20914133202034021,-0.21471592377117896,-0.22017559019761024,-0.22552596128660704,-0.2307721868245043,-0.23591895492584908,-0.24097057718790843,-0.2459310142090908,-0.2508039277984265,-0.2555927043303011,-0.2603004849229308,-0.2649301942205304,-0.2694845576553296,-0.2739661234001627,-0.27837727051462235,-0.28272024149843206,-0.28699714674498056,-0.2912099542004352,-0.29536053587642375,-0.2994506694772201,-0.3034820116814978,-0.30745613953140255,-0.31137456053624724,-0.3152386959430748,-0.3190498917374354,-0.32280944107779175,-0.3265185762844803,-0.33017845913079635,-0.3337902087522403,-0.3373548981666152,-0.34087354483118487,-0.3443471264670706,-0.34777658423873303,-0.35116281611582645,-0.3545066818761047,-0.3578090111098655,-0.361070603444913,-0.36429223138464856,-0.3674746388297746,-0.3706185264013156,-0.37372457813146476,-0.3767934568872029,-0.3798258048043608,-0.38282224526144726,-0.3857833718075795,-0.3887097540716035,-0.3916019513221536,-0.39446050699698193,-0.39728595018082724,-0.40007879400291557,-0.4028395183584083,-0.40556859629822295,-0.4082664898134252,-0.4109336482965868,-0.41357050949891805,-0.41617749627104983,-0.44068953487793355,-0.4626046129797363,-0.4822023926605728],[0.0001891195537483268,0.0012073307095371555,0.00272378415103272,0.004420635072962898,0.006206093442421953,0.008047459605113553,0.00992990290491845,0.011845548890542495,0.013789701601563512,0.01575871413546871,0.01775160412100301,0.01976625774108409,0.021801637620682764,0.02385674602053994,0.025930819754990373,0.028023259560027887,0.030133517309423822,0.03226112848299339,0.03440568076139304,0.03656682030481378,0.038744187561455444,0.040937511767838955,0.04312310122273918,0.0452926977899615,0.04744843297111631,0.049592141872787335,0.05172541571528521,0.05384964302716787,0.055966038107733346,0.05807568184704385,0.0601795501862083,0.06227851952105788,0.06437336101450432,0.06646475631334356,0.06855334121784866,0.07063968422890415,0.07272430617536509,0.07480769658357588,0.07689030962571489,0.07897254459904346,0.08105475879122112,0.08313728958056792,0.08522046493605684,0.08730458958502517,0.08938993412060449,0.09147674799583413,0.09356526893764537,0.0956557262637552,0.09774833531976586,0.09984329105409304,0.10194077437285988,0.1040409486688187,0.10614396779288002,0.10824999502593008,0.11035918195182655,0.1124716797369222,0.11458762437549685,0.1359594248524438,0.15777649163396165,0.180097282866646,0.20296715630046133,0.22641179718748805,0.2504516775960271],[0.0007558373925663552,0.004781948626576659,0.010694702108172721,0.017214489538461736,0.02397279825080303,0.030837340398064635,0.03774837556435922,0.04467338486105016,0.051592935717879415,0.058494338265020665,0.06536862791394257,0.07220929226089441,0.07901126431219903,0.08562812396451214,0.09188551669405248,0.09783242046900927,0.10350680976747392,0.10893893444123923,0.11415346612928193,0.11917082633322532,0.12400817602865004,0.1286801289802037,0.13319926703351184,0.137576543621735,0.14182153725201987,0.14594270690035963,0.1499475786456859,0.15384287604759886,0.15763464256946197,0.16132833821111414,0.16492892131782225,0.16844091840722628,0.17186845221690378,0.17521533564229658,0.1784850509939707,0.18168084356975256,0.18480569601473912,0.1878623872988154,0.19085350540307633,0.1937814663127432,0.1966485365751601,0.19945682290807107,0.20220831287575025,0.20490487182738865,0.20754826449070424,0.21014016753662076,0.212682148797001,0.21517568467778303,0.217622185466016,0.22002299171932843,0.22237937190666768,0.22469254319706528,0.22696367404745926,0.2291938569608751,0.23138413121488438,0.23353549675999974,0.23564891151466008,0.23772529586305352,0.2397655366045206,0.24177048976266421,0.24374095904356843,0.24567771551396736,0.24758150276958402,0.2494530383351508,0.2512930197308982,0.25310212013530636,0.2548809917343053,0.256630249693692,0.2583504882970793,0.2600422818488241,0.26170618816792446,0.2633427523600858,0.26495250189574676,0.2665359490842806,0.26809357976160975,0.26962586587306214,0.2711332645489437,0.27261622204404795,0.2740751749268672,0.27551054701154554,0.2769227554963011,0.2783122185264519,0.2796793243090063,0.2810244350159695,0.28234788805631195,0.2836499963335787,0.2849311248129717,0.2861916501149802,0.28743189731587504,0.28865218026744116,0.2898528015969778,0.2910340575585636,0.29219626042238206,0.2933397016622175,0.2944646615473007,0.29557141210094334,0.29666021710150314,0.3066165459337412],[-9.449569463147378e-05,-0.0026819780310768453,-0.00915422670739847,-0.017125231995366124,-0.025672814705878257,-0.03451507145710767,-0.043539485060209285,-0.052690436236297544,-0.0619367364170651,-0.07125900550061026,-0.08064432163659366,-0.09008298730253128,-0.09956934850633165,-0.10909758832446255,-0.11866340918285087,-0.12826390644299432,-0.13789563716768455,-0.14747139064483034,-0.1568020697824493,-0.16591580832817698,-0.17483551364167152,-0.18358048259269577,-0.1921665698541755,-0.20060748497916342,-0.2089150186709147,-0.21709938178024182,-0.22516951663417084,-0.23313328733582225,-0.2409976623457178,-0.24876885019897202,-0.2564524244377661,-0.2640534127108207,-0.27157635801385704,-0.2790253755823255,-0.2864041688438521,-0.2937161607737616,-0.3009645228696406,-0.3081521551361906,-0.31528169541761514,-0.3223555737477117,-0.32937608887841513,-0.3363453824530768,-0.3432654716991601,-0.3501381937182476,-0.3569652528423643,-0.36374821387390854,-0.37048857847228805,-0.3771877949036771,-0.38384721075836525,-0.39046809867740445,-0.39705163288016754,-0.40359892362601973,-0.4101110102686773,-0.41658890266226456,-0.4230335605342703,-0.4294458943626801,-0.4358267633638301,-0.44217697139134476,-0.44849727957640967,-0.45478840809487087,-0.4610510730313984,-0.46728595695229785,-0.4734937205812159,-0.47967497418941335,-0.4858302903900795,-0.4919602108352396,-0.4980652587811837,-0.5578529686732077,-0.615612637811922,-0.6716359543731115,-0.7261320350021029,-0.779259801587044],[0.00018911955374835456,0.001194346205698068,0.0026664345096568177,0.0042847281942102215,0.005956906394630972,0.0076497804463895305,0.009348309540002618,0.011044292234229116,0.012732808039429003,0.014410612769973827,0.016075436464454137,0.017725578745008116,0.019343844021902125,0.02085547498143299,0.02227644296845337,0.02361883107873391,0.024892149258714705,0.026103964899215126,0.027260530150535447,0.028366977085004654,0.029427721005358832,0.030446454029994092,0.03142644900481409,0.03237046578419279,0.03328098524930788,0.034160248369261854,0.035010124089175795,0.03583238898869968,0.03662864863447833,0.037400268896111616,0.038148570681642735,0.038874746950762956,0.0395797408410567,0.040264385647641,0.040930163313020365,0.04157766760766226,0.04220773890493355,0.04282102991453353,0.04341821688125938,0.0439999343905126,0.04456677718664549,0.04511930263562974,0.045658033343935193,0.04618346279001266,0.04669605858879059,0.047196261598330395,0.0476844854335372,0.048161123269962816,0.04862654666121476,0.049081106076125695,0.04952513102177171,0.049958937959443964,0.050382840754604086,0.05079713037232117,0.051202083700130054,0.05159796420957461,0.051985022113815095,0.05236349741463405,0.052733628951739775,0.05309564000079728,0.05344974301713253,0.053796140282930276,0.05413502373188609,0.05446657698121535,0.05479099024747061,0.055108440760634196,0.05541909670431686,0.05572311933489866,0.05602066296674111,0.05631187542547887,0.05659690651808178,0.056875899459115746,0.057148990644402355,0.057416311669858666,0.05767798939285768,0.05793414600329769,0.058184902100923065,0.05843037471845481,0.05867067596413628,0.05890591421859333,0.05913619416540325,0.059361616796406544,0.059582281774841414,0.05979828734515365,0.06000972741582079,0.0602166932369647,0.060419273480756146,0.06061755430988958,0.060811619459390884,0.0610015503081403,0.06118742584853521,0.06136932273898085,0.06154731531799199,0.061721475605888455,0.06189187411773993,0.062058582204310986,0.062221668235320195,0.062381198985137214,0.06253723992315072,0.06268985532360434,0.06283910789246873],[0.0007558373925663829,0.004816551166759072,0.010847535658245859,0.01757668447487397,0.024636898525723257,0.03189732168994357,0.039298644302042385,0.04681003162749224,0.0544112094199656,0.06209055085613152,0.0698397334904495,0.07765270249781149,0.08552473012334483,0.09345221261234325,0.10143221934726761,0.10946225385919364,0.11754023879940365,0.12566434741322183,0.13383304531422996,0.14189869221822587,0.14983897059172022,0.15766763015116464,0.16539636869711263,0.17303508377062057,0.18059229815282354,0.1880754337917581,0.19549088885425797,0.20284434447848132,0.21014081687348268,0.21738473188238464,0.22458007409713468,0.23173048149556888,0.2388391843216672,0.2459090765198763,0.2529428227205913,0.2599428905847407,0.2669115003586469,0.2738506648749401,0.28076226224066336,0.2876480508121679,0.29450963569756927,0.3013484919305393,0.3081659888896071,0.3149634026129527,0.32174193069386114,0.328502699800368,0.3352467676267282,0.3419750998396543,0.3486886205383546,0.35538820585767034,0.3620746650945371,0.36874876742116053,0.37541124696751,0.38206278653084436,0.3887040261443608,0.3953355769177419,0.40195801858755587,0.4085719020936333,0.415177754346608,0.4217760784286403,0.42836734183664,0.49398108976585015,0.5592770827643011,0.6244917908621658,0.6897892007074137,0.7552886644089276]]}],\"arrows_ds\":{\"id\":\"1064\"},\"data_pts_ds\":{\"id\":\"1062\"},\"hover\":{\"id\":\"1002\"},\"lines_ds\":{\"id\":\"1063\"},\"phases_ds\":{\"id\":\"1003\"},\"plot_options_ds\":{\"id\":\"1061\"},\"sn_idx_ds\":{\"id\":\"1081\"},\"tree_idx_ds\":{\"id\":\"1080\"}},\"code\":\"function show_data_points(current_ds, data_pts_ds, hover) {\\n    var cd = current_ds.data;\\n    var dpd = data_pts_ds.data;\\n    dpd['x'] = [];\\n    dpd['y'] = [];\\n\\n    for (var i = 0, i_stop = cd['xs'].length; i < i_stop; i++) {\\n        dpd['x'] = dpd['x'].concat(cd['xs'][i]);\\n        dpd['y'] = dpd['y'].concat(cd['ys'][i]);\\n    }\\n    hover.attributes.tooltips = null;\\n    // data_pts_ds.trigger('change');\\n    data_pts_ds.change.emit();\\n}\\n\\nfunction hide_data_points(data_pts_ds, hover) {\\n    var dpd = data_pts_ds.data;\\n    dpd['x'] = [];\\n    dpd['y'] = [];\\n\\n    hover.attributes.tooltips = [['name', '@label'], ['root', '@root']];\\n    // data_pts_ds.trigger('change');\\n    data_pts_ds.change.emit();\\n}\\n\\n// function sn_slider(cb_obj, current_ds, \\n//     all_networks_ds, sn_idx_ds, data_pts_ds, phases_ds, hover,\\n//     plot_options_ds, tree_idx_ds) \\n// {\\n//     // var cd = current_ds['data'];\\n//     // var snd = all_networks_ds['data'];\\n//     // var dpd = data_pts_ds['data'];\\n//     // var pd = phases_ds['data'];\\n//     // var current_sn_idx = sn_idx_ds['data'];\\n//     var sn_idx = cb_obj.value;\\n//     // var plot_options = plot_options_ds['data'];\\n//     var notebook = plot_options_ds.data['notebook'];\\n//     var show_trees = plot_options_ds['show_trees'];\\n//     // var show_trees = 'false'\\n//     // var tree_idx = tree_idx_ds['data'];\\n    \\n//     sn_idx_ds.data['i'] = sn_idx;\\n//     // tree_idx['j'] = 0;\\n//     // if (show_trees == 'true') {\\n//     //     document.getElementById(\\\"current_tree_idx\\\").innerHTML = 'All';\\n//     // }\\n\\n//     for (var key in current_ds.data) {\\n//         if (current_ds.data.hasOwnProperty(key)) {\\n//             if (show_trees == 'false') {\\n//                 current_ds.data[key] = all_networks_ds.data['spectral_networks'][sn_idx][key];\\n//             } else {\\n//                 current_ds.data[key] = all_networks_ds.data['spectral_networks'][sn_idx][0][key];\\n//             }\\n//         }\\n//     }\\n\\n//     // current_ds.trigger('change');\\n//     current_ds.change.emit()\\n//     // sn_idx_ds.trigger('change');\\n//     sn_idx_ds.change.emit()\\n//     // tree_idx_ds.trigger('change');\\n//     // tree_idx_ds.change.emit()\\n//     hide_data_points(current_ds, data_pts_ds, hover);\\n//     if (notebook == 'false') {\\n//         document.getElementById(\\\"phase\\\").innerHTML = pd['phase'][sn_idx];\\n//     }\\n\\n//     ///////\\n\\n//     // current_sn_idx['i'] = sn_idx;\\n//     // for (var key in cd) {\\n//     //     if (cd.hasOwnProperty(key)) {\\n//     //         cd[key] = snd['spectral_networks'][sn_idx][0][key];\\n//     //     }\\n//     // }\\n//     // current_ds.trigger('change');\\n//     // sn_idx_ds.trigger('change');\\n//     // // hide_data_points(current_ds, data_pts_ds, hover);\\n//     // // if (notebook == 'false') {\\n//     // //     document.getElementById(\\\"phase\\\").innerHTML = pd['phase'][sn_idx];\\n//     // // }\\n// }\\n\\nfunction sn_slider(cb_obj, //\\n    all_networks_ds, sn_idx_ds, data_pts_ds, phases_ds, hover, //\\n    plot_options_ds, tree_idx_ds, lines_ds, arrows_ds) {\\n\\n    // Declare some local variables\\n    var sn_idx = cb_obj.value;  // slider's current value\\n    var show_trees = plot_options_ds.data['show_trees'];\\n    var notebook = plot_options_ds.data['notebook'];\\n\\n    // change the index of the current spectral network\\n    sn_idx_ds.data['i'] = sn_idx;\\n\\n    // update the ColumnDataSource containing current lines data\\n    for (var key in lines_ds.data) {\\n        if (all_networks_ds[sn_idx].hasOwnProperty(key)) {\\n            if (show_trees == 'false') {\\n                lines_ds.data[key] = all_networks_ds[sn_idx][key];\\n            } else {\\n                lines_ds.data[key] = all_networks_ds[sn_idx][0][key];\\n            }\\n        }\\n    }\\n\\n    // update the ColumnDataSource containing current arrows data\\n    for (var key in arrows_ds.data ) {\\n        if (all_networks_ds[sn_idx].hasOwnProperty(key)) {\\n            if (show_trees == 'false') {\\n                arrows_ds.data[key] = all_networks_ds[sn_idx][key];\\n            } else {\\n                arrows_ds.data[key] = all_networks_ds[sn_idx][0][key];\\n            }\\n        }\\n    }\\n\\n    // push changes to outside data given as argument to this function\\n    sn_idx_ds.change.emit()\\n    arrows_ds.change.emit()\\n    lines_ds.change.emit()\\n\\n    hide_data_points(data_pts_ds, hover);\\n    if (notebook == 'false') {\\n        document.getElementById(\\\"phase\\\").innerHTML = pd['phase'][sn_idx];\\n    }\\n}\\n\\n\\nfunction change_soliton_tree(\\n    current_ds, all_networks_ds, sn_idx_ds, tree_idx_ds, plot_options_ds, change\\n) {\\n    var cd = current_ds.data;\\n    var snd = all_networks_ds.data;\\n    var sn_idx = sn_idx_ds.data;\\n    var tree_idx = tree_idx_ds.data;\\n    var plot_options = plot_options_ds.data;\\n    var notebook = plot_options['notebook'];\\n    var show_trees = plot_options['show_trees'];\\n\\n    var sn_i = sn_idx['i'];\\n    var tree_j = Number(tree_idx['j']) + change;\\n    var max_tree_j = snd['spectral_networks'][sn_i].length;\\n    if (tree_j > max_tree_j) {\\n        tree_j = max_tree_j;\\n    } else if (tree_j < 0) {\\n        tree_j = 0;\\n    }\\n    \\n    for (var key in cd) {\\n        if (cd.hasOwnProperty(key)) {\\n            cd[key] = snd['spectral_networks'][sn_i][tree_j][key];\\n        }\\n    }\\n\\n    if (notebook == 'false') {\\n        var tree_idx_label = document.getElementById(\\\"current_tree_idx\\\");\\n        if (tree_j == 0) {\\n            tree_idx_label.innerHTML = 'All';\\n        } else {\\n            tree_idx_label.innerHTML = tree_j - 1;\\n        }\\n    }\\n    \\n    current_ds.trigger('change');\\n    tree_idx['j'] = String(tree_j);\\n    tree_idx_ds.trigger('change');\\n}\\n\\nfunction show_prev_soliton_tree(\\n    current_ds, all_networks_ds, sn_idx_ds, tree_idx_ds, plot_options_ds\\n) {\\n    change_soliton_tree(\\n        current_ds, all_networks_ds, sn_idx_ds, tree_idx_ds, plot_options_ds, -1\\n    );\\n}\\n\\nfunction show_next_soliton_tree(\\n    current_ds, all_networks_ds, sn_idx_ds, tree_idx_ds, plot_options_ds\\n) {\\n    change_soliton_tree(\\n        current_ds, all_networks_ds, sn_idx_ds, tree_idx_ds, plot_options_ds, 1\\n    );   \\n}\\n\\nfunction redraw_arrows(current_ds, x_range, y_range) {\\n    var cd = current_ds.data;\\n    var x_s = x_range.get('start');\\n    var x_e = x_range.get('end');\\n    var y_s = y_range.get('start');\\n    var y_e = y_range.get('end');\\n\\n    for (var i = 0, i_stop = cd['arrow_x'].length; i < i_stop; i++) {\\n        // Domain of the segment.\\n        var range = cd['ranges'][i];\\n        var x_min = range[0];\\n        var x_max = range[1];\\n        var y_min = range[2];\\n        var y_max = range[3];\\n\\n        if ((x_max < x_s) || (x_min > x_e) || (y_max < y_s) || (y_min > y_e)) {\\n            // The segment is out of screen.\\n            continue;\\n        }\\n\\n        // Now find the new location for the arrow.\\n        var a_x;\\n        var a_y;\\n        var a_i;\\n        var x = cd['xs'][i];\\n        var y = cd['ys'][i];\\n        var x_length = x.length;\\n        var denom = 2;\\n        var found = false;\\n\\n        while ((Math.floor(x_length / denom) > 0) && !found) {\\n            for (var j = 1; j < denom; j += 2) {\\n                a_i = Math.floor(x_length * j / denom);\\n                a_x = x[a_i];\\n                a_y = y[a_i];\\n                if ((a_x >= x_s) && (a_x <= x_e) && \\n                    (a_y >= y_s) && (a_y <= y_e)) {\\n                    found = true;\\n                    break;\\n                }\\n            }\\n            denom *= 2;\\n        }\\n        cd['arrow_x'][i] = a_x;\\n        cd['arrow_y'][i] = a_y;\\n        var Dx = x[a_i] - x[a_i - 1];\\n        var Dy = y[a_i] - y[a_i - 1];\\n        cd['arrow_angle'][i] = Math.atan2(Dy, Dx) - (Math.PI / 2);\\n    }\\n    current_ds.trigger('change');\\n}\\n\\nfunction update_plot_range(x_range, y_range) {\\n    var x_s = x_range.get('start');\\n    var x_e = x_range.get('end');\\n    var y_s = y_range.get('start');\\n    var y_e = y_range.get('end');\\n\\n    var plot_range_input = document.getElementById(\\\"plot_range_input\\\");\\n    plot_range_input.value =\\n        \\\"[[\\\" + x_s + \\\",\\\" + x_e + \\\"],[\\\" + y_s + \\\",\\\" + y_e + \\\"]]\\\";\\n}\\n\\nsn_slider(cb_obj, all_networks_ds, sn_idx_ds, data_pts_ds, phases_ds, hover, plot_options_ds, tree_idx_ds, lines_ds, arrows_ds)\"},\"id\":\"1083\",\"type\":\"CustomJS\"},{\"attributes\":{\"formatter\":{\"id\":\"1088\"},\"ticker\":{\"id\":\"1015\"}},\"id\":\"1014\",\"type\":\"LinearAxis\"},{\"attributes\":{},\"id\":\"1107\",\"type\":\"Selection\"},{\"attributes\":{\"end\":3,\"start\":-3},\"id\":\"1006\",\"type\":\"Range1d\"},{\"attributes\":{},\"id\":\"1092\",\"type\":\"Selection\"},{\"attributes\":{\"source\":{\"id\":\"1037\"}},\"id\":\"1042\",\"type\":\"CDSView\"},{\"attributes\":{},\"id\":\"1093\",\"type\":\"UnionRenderers\"},{\"attributes\":{},\"id\":\"1094\",\"type\":\"Selection\"},{\"attributes\":{\"below\":[{\"id\":\"1014\"}],\"center\":[{\"id\":\"1017\"},{\"id\":\"1021\"}],\"left\":[{\"id\":\"1018\"}],\"plot_height\":800,\"plot_width\":800,\"renderers\":[{\"id\":\"1041\"},{\"id\":\"1047\"},{\"id\":\"1054\"},{\"id\":\"1059\"},{\"id\":\"1068\"},{\"id\":\"1073\"},{\"id\":\"1078\"}],\"title\":null,\"toolbar\":{\"id\":\"1029\"},\"x_range\":{\"id\":\"1006\"},\"x_scale\":{\"id\":\"1010\"},\"y_range\":{\"id\":\"1008\"},\"y_scale\":{\"id\":\"1012\"}},\"id\":\"1004\",\"subtype\":\"Figure\",\"type\":\"Plot\"},{\"attributes\":{},\"id\":\"1095\",\"type\":\"UnionRenderers\"},{\"attributes\":{},\"id\":\"1096\",\"type\":\"Selection\"},{\"attributes\":{},\"id\":\"1010\",\"type\":\"LinearScale\"},{\"attributes\":{},\"id\":\"1097\",\"type\":\"UnionRenderers\"},{\"attributes\":{\"axis\":{\"id\":\"1014\"},\"grid_line_color\":null,\"ticker\":null},\"id\":\"1017\",\"type\":\"Grid\"},{\"attributes\":{},\"id\":\"1098\",\"type\":\"Selection\"},{\"attributes\":{},\"id\":\"1099\",\"type\":\"UnionRenderers\"},{\"attributes\":{},\"id\":\"1100\",\"type\":\"Selection\"},{\"attributes\":{},\"id\":\"1106\",\"type\":\"UnionRenderers\"},{\"attributes\":{},\"id\":\"1015\",\"type\":\"BasicTicker\"},{\"attributes\":{},\"id\":\"1101\",\"type\":\"UnionRenderers\"},{\"attributes\":{},\"id\":\"1102\",\"type\":\"Selection\"},{\"attributes\":{\"end\":3,\"start\":-3},\"id\":\"1008\",\"type\":\"Range1d\"},{\"attributes\":{},\"id\":\"1110\",\"type\":\"UnionRenderers\"},{\"attributes\":{},\"id\":\"1012\",\"type\":\"LinearScale\"},{\"attributes\":{},\"id\":\"1111\",\"type\":\"Selection\"}],\"root_ids\":[\"1085\"]},\"title\":\"Bokeh Application\",\"version\":\"2.0.0\"}};\n",
       "  var render_items = [{\"docid\":\"effa2fc9-18f5-472a-ac84-0b03fdbb37c2\",\"root_ids\":[\"1085\"],\"roots\":{\"1085\":\"910254b2-034a-4673-b4e8-17e56f002b3d\"}}];\n",
       "  root.Bokeh.embed.embed_items_notebook(docs_json, render_items);\n",
       "\n",
       "  }\n",
       "  if (root.Bokeh !== undefined) {\n",
       "    embed_document(root);\n",
       "  } else {\n",
       "    var attempts = 0;\n",
       "    var timer = setInterval(function(root) {\n",
       "      if (root.Bokeh !== undefined) {\n",
       "        clearInterval(timer);\n",
       "        embed_document(root);\n",
       "      } else {\n",
       "        attempts++;\n",
       "        if (attempts > 100) {\n",
       "          clearInterval(timer);\n",
       "          console.log(\"Bokeh: ERROR: Unable to run BokehJS code because BokehJS library is missing\");\n",
       "        }\n",
       "      }\n",
       "    }, 10, root)\n",
       "  }\n",
       "})(window);"
      ],
      "application/vnd.bokehjs_exec.v0+json": ""
     },
     "metadata": {
      "application/vnd.bokehjs_exec.v0+json": {
       "id": "1085"
      }
     },
     "output_type": "display_data"
    }
   ],
   "source": [
    "plot_range = [[-3, 3], [-3, 3]]\n",
    "f = get_spectral_network_bokeh_plot(d, plot_range=plot_range, notebook=True)\n",
    "show(f)"
   ]
  },
  {
   "cell_type": "code",
   "execution_count": null,
   "metadata": {},
   "outputs": [],
   "source": [
    "plot_range = [[-4,4], [-4,4]]\n",
    "f = get_spectral_network_bokeh_plot(d, plot_range=plot_range, notebook=True)\n",
    "show(f)"
   ]
  },
  {
   "cell_type": "code",
   "execution_count": null,
   "metadata": {},
   "outputs": [],
   "source": [
    "w=d.spectral_networks[0]\n",
    "len(w.s_walls)"
   ]
  },
  {
   "cell_type": "code",
   "execution_count": null,
   "metadata": {},
   "outputs": [],
   "source": [
    "print('parents of S-walls')\n",
    "[[p.label for p in s.parents] for s in w.s_walls]"
   ]
  },
  {
   "cell_type": "code",
   "execution_count": null,
   "metadata": {},
   "outputs": [],
   "source": [
    "s9=w.s_walls[9]"
   ]
  },
  {
   "cell_type": "code",
   "execution_count": null,
   "metadata": {},
   "outputs": [],
   "source": [
    "print(s9.parents[0].label)\n",
    "print(s9.parents[1].label)\n",
    "print(s9.z[0])"
   ]
  },
  {
   "cell_type": "code",
   "execution_count": 23,
   "metadata": {},
   "outputs": [
    {
     "name": "stdout",
     "output_type": "stream",
     "text": [
      "/home/pietro/loom/loom/cgal_intersection/\n"
     ]
    },
    {
     "ename": "OSError",
     "evalue": "libCGAL.so.11: cannot open shared object file: No such file or directory",
     "output_type": "error",
     "traceback": [
      "\u001b[0;31m---------------------------------------------------------------------------\u001b[0m",
      "\u001b[0;31mOSError\u001b[0m                                   Traceback (most recent call last)",
      "\u001b[0;32m<ipython-input-23-1b11fa4550ac>\u001b[0m in \u001b[0;36m<module>\u001b[0;34m\u001b[0m\n\u001b[1;32m      3\u001b[0m libcgal_intersection = numpy.ctypeslib.load_library(\n\u001b[1;32m      4\u001b[0m     \u001b[0;34m'libcgal_intersection_ubuntu'\u001b[0m\u001b[0;34m,\u001b[0m\u001b[0;34m\u001b[0m\u001b[0;34m\u001b[0m\u001b[0m\n\u001b[0;32m----> 5\u001b[0;31m     \u001b[0mos\u001b[0m\u001b[0;34m.\u001b[0m\u001b[0mgetcwd\u001b[0m\u001b[0;34m(\u001b[0m\u001b[0;34m)\u001b[0m\u001b[0;34m+\u001b[0m\u001b[0;34m'/loom/cgal_intersection/'\u001b[0m\u001b[0;34m\u001b[0m\u001b[0;34m\u001b[0m\u001b[0m\n\u001b[0m\u001b[1;32m      6\u001b[0m )\n",
      "\u001b[0;32m~/.local/lib/python3.6/site-packages/numpy/ctypeslib.py\u001b[0m in \u001b[0;36mload_library\u001b[0;34m(libname, loader_path)\u001b[0m\n\u001b[1;32m    150\u001b[0m             \u001b[0;32mif\u001b[0m \u001b[0mos\u001b[0m\u001b[0;34m.\u001b[0m\u001b[0mpath\u001b[0m\u001b[0;34m.\u001b[0m\u001b[0mexists\u001b[0m\u001b[0;34m(\u001b[0m\u001b[0mlibpath\u001b[0m\u001b[0;34m)\u001b[0m\u001b[0;34m:\u001b[0m\u001b[0;34m\u001b[0m\u001b[0;34m\u001b[0m\u001b[0m\n\u001b[1;32m    151\u001b[0m                 \u001b[0;32mtry\u001b[0m\u001b[0;34m:\u001b[0m\u001b[0;34m\u001b[0m\u001b[0;34m\u001b[0m\u001b[0m\n\u001b[0;32m--> 152\u001b[0;31m                     \u001b[0;32mreturn\u001b[0m \u001b[0mctypes\u001b[0m\u001b[0;34m.\u001b[0m\u001b[0mcdll\u001b[0m\u001b[0;34m[\u001b[0m\u001b[0mlibpath\u001b[0m\u001b[0;34m]\u001b[0m\u001b[0;34m\u001b[0m\u001b[0;34m\u001b[0m\u001b[0m\n\u001b[0m\u001b[1;32m    153\u001b[0m                 \u001b[0;32mexcept\u001b[0m \u001b[0mOSError\u001b[0m\u001b[0;34m:\u001b[0m\u001b[0;34m\u001b[0m\u001b[0;34m\u001b[0m\u001b[0m\n\u001b[1;32m    154\u001b[0m                     \u001b[0;31m## defective lib file\u001b[0m\u001b[0;34m\u001b[0m\u001b[0;34m\u001b[0m\u001b[0;34m\u001b[0m\u001b[0m\n",
      "\u001b[0;32m/usr/lib/python3.6/ctypes/__init__.py\u001b[0m in \u001b[0;36m__getitem__\u001b[0;34m(self, name)\u001b[0m\n\u001b[1;32m    421\u001b[0m \u001b[0;34m\u001b[0m\u001b[0m\n\u001b[1;32m    422\u001b[0m     \u001b[0;32mdef\u001b[0m \u001b[0m__getitem__\u001b[0m\u001b[0;34m(\u001b[0m\u001b[0mself\u001b[0m\u001b[0;34m,\u001b[0m \u001b[0mname\u001b[0m\u001b[0;34m)\u001b[0m\u001b[0;34m:\u001b[0m\u001b[0;34m\u001b[0m\u001b[0;34m\u001b[0m\u001b[0m\n\u001b[0;32m--> 423\u001b[0;31m         \u001b[0;32mreturn\u001b[0m \u001b[0mgetattr\u001b[0m\u001b[0;34m(\u001b[0m\u001b[0mself\u001b[0m\u001b[0;34m,\u001b[0m \u001b[0mname\u001b[0m\u001b[0;34m)\u001b[0m\u001b[0;34m\u001b[0m\u001b[0;34m\u001b[0m\u001b[0m\n\u001b[0m\u001b[1;32m    424\u001b[0m \u001b[0;34m\u001b[0m\u001b[0m\n\u001b[1;32m    425\u001b[0m     \u001b[0;32mdef\u001b[0m \u001b[0mLoadLibrary\u001b[0m\u001b[0;34m(\u001b[0m\u001b[0mself\u001b[0m\u001b[0;34m,\u001b[0m \u001b[0mname\u001b[0m\u001b[0;34m)\u001b[0m\u001b[0;34m:\u001b[0m\u001b[0;34m\u001b[0m\u001b[0;34m\u001b[0m\u001b[0m\n",
      "\u001b[0;32m/usr/lib/python3.6/ctypes/__init__.py\u001b[0m in \u001b[0;36m__getattr__\u001b[0;34m(self, name)\u001b[0m\n\u001b[1;32m    416\u001b[0m         \u001b[0;32mif\u001b[0m \u001b[0mname\u001b[0m\u001b[0;34m[\u001b[0m\u001b[0;36m0\u001b[0m\u001b[0;34m]\u001b[0m \u001b[0;34m==\u001b[0m \u001b[0;34m'_'\u001b[0m\u001b[0;34m:\u001b[0m\u001b[0;34m\u001b[0m\u001b[0;34m\u001b[0m\u001b[0m\n\u001b[1;32m    417\u001b[0m             \u001b[0;32mraise\u001b[0m \u001b[0mAttributeError\u001b[0m\u001b[0;34m(\u001b[0m\u001b[0mname\u001b[0m\u001b[0;34m)\u001b[0m\u001b[0;34m\u001b[0m\u001b[0;34m\u001b[0m\u001b[0m\n\u001b[0;32m--> 418\u001b[0;31m         \u001b[0mdll\u001b[0m \u001b[0;34m=\u001b[0m \u001b[0mself\u001b[0m\u001b[0;34m.\u001b[0m\u001b[0m_dlltype\u001b[0m\u001b[0;34m(\u001b[0m\u001b[0mname\u001b[0m\u001b[0;34m)\u001b[0m\u001b[0;34m\u001b[0m\u001b[0;34m\u001b[0m\u001b[0m\n\u001b[0m\u001b[1;32m    419\u001b[0m         \u001b[0msetattr\u001b[0m\u001b[0;34m(\u001b[0m\u001b[0mself\u001b[0m\u001b[0;34m,\u001b[0m \u001b[0mname\u001b[0m\u001b[0;34m,\u001b[0m \u001b[0mdll\u001b[0m\u001b[0;34m)\u001b[0m\u001b[0;34m\u001b[0m\u001b[0;34m\u001b[0m\u001b[0m\n\u001b[1;32m    420\u001b[0m         \u001b[0;32mreturn\u001b[0m \u001b[0mdll\u001b[0m\u001b[0;34m\u001b[0m\u001b[0;34m\u001b[0m\u001b[0m\n",
      "\u001b[0;32m/usr/lib/python3.6/ctypes/__init__.py\u001b[0m in \u001b[0;36m__init__\u001b[0;34m(self, name, mode, handle, use_errno, use_last_error)\u001b[0m\n\u001b[1;32m    346\u001b[0m \u001b[0;34m\u001b[0m\u001b[0m\n\u001b[1;32m    347\u001b[0m         \u001b[0;32mif\u001b[0m \u001b[0mhandle\u001b[0m \u001b[0;32mis\u001b[0m \u001b[0;32mNone\u001b[0m\u001b[0;34m:\u001b[0m\u001b[0;34m\u001b[0m\u001b[0;34m\u001b[0m\u001b[0m\n\u001b[0;32m--> 348\u001b[0;31m             \u001b[0mself\u001b[0m\u001b[0;34m.\u001b[0m\u001b[0m_handle\u001b[0m \u001b[0;34m=\u001b[0m \u001b[0m_dlopen\u001b[0m\u001b[0;34m(\u001b[0m\u001b[0mself\u001b[0m\u001b[0;34m.\u001b[0m\u001b[0m_name\u001b[0m\u001b[0;34m,\u001b[0m \u001b[0mmode\u001b[0m\u001b[0;34m)\u001b[0m\u001b[0;34m\u001b[0m\u001b[0;34m\u001b[0m\u001b[0m\n\u001b[0m\u001b[1;32m    349\u001b[0m         \u001b[0;32melse\u001b[0m\u001b[0;34m:\u001b[0m\u001b[0;34m\u001b[0m\u001b[0;34m\u001b[0m\u001b[0m\n\u001b[1;32m    350\u001b[0m             \u001b[0mself\u001b[0m\u001b[0;34m.\u001b[0m\u001b[0m_handle\u001b[0m \u001b[0;34m=\u001b[0m \u001b[0mhandle\u001b[0m\u001b[0;34m\u001b[0m\u001b[0;34m\u001b[0m\u001b[0m\n",
      "\u001b[0;31mOSError\u001b[0m: libCGAL.so.11: cannot open shared object file: No such file or directory"
     ]
    }
   ],
   "source": [
    "import numpy\n",
    "print(os.getcwd()+'/loom/cgal_intersection/')\n",
    "libcgal_intersection = numpy.ctypeslib.load_library(\n",
    "    'libcgal_intersection_ubuntu',\n",
    "    os.getcwd()+'/loom/cgal_intersection/'\n",
    ")"
   ]
  },
  {
   "cell_type": "markdown",
   "metadata": {},
   "source": [
    "Displays the bokeh plot of the spectral network."
   ]
  },
  {
   "cell_type": "code",
   "execution_count": 8,
   "metadata": {},
   "outputs": [],
   "source": [
    "# plot_range = [[-5, 5], [-5, 5]]\n",
    "# f = get_spectral_network_bokeh_plot(d, plot_range=plot_range, notebook=True)\n",
    "# show(f)"
   ]
  },
  {
   "cell_type": "markdown",
   "metadata": {},
   "source": [
    "Save spectral network data in files."
   ]
  },
  {
   "cell_type": "code",
   "execution_count": 9,
   "metadata": {},
   "outputs": [],
   "source": [
    "d.save(data_dir='data/test_case')"
   ]
  },
  {
   "cell_type": "markdown",
   "metadata": {},
   "source": [
    "Load spectral networks from saved data."
   ]
  },
  {
   "cell_type": "code",
   "execution_count": 6,
   "metadata": {},
   "outputs": [],
   "source": [
    "d = api.SpectralNetworkData(data_dir='data/test_case')"
   ]
  },
  {
   "cell_type": "markdown",
   "metadata": {},
   "source": [
    "Extend spectral networks by additional steps, iterations, a new mass limit, or additional phases. "
   ]
  },
  {
   "cell_type": "code",
   "execution_count": null,
   "metadata": {},
   "outputs": [],
   "source": []
  }
 ],
 "metadata": {
  "kernelspec": {
   "display_name": "Python 3",
   "language": "python",
   "name": "python3"
  },
  "language_info": {
   "codemirror_mode": {
    "name": "ipython",
    "version": 3
   },
   "file_extension": ".py",
   "mimetype": "text/x-python",
   "name": "python",
   "nbconvert_exporter": "python",
   "pygments_lexer": "ipython3",
   "version": "3.6.9"
  }
 },
 "nbformat": 4,
 "nbformat_minor": 4
}
