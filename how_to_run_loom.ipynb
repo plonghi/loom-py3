{
 "cells": [
  {
   "cell_type": "markdown",
   "metadata": {},
   "source": [
    "add path to the directory containing modules"
   ]
  },
  {
   "cell_type": "code",
   "execution_count": null,
   "metadata": {},
   "outputs": [],
   "source": [
    "import sys\n",
    "import os\n",
    "module_dir = os.getcwd()+'/loom';\n",
    "sys.path.append(module_dir)"
   ]
  },
  {
   "cell_type": "code",
   "execution_count": 2,
   "metadata": {
    "scrolled": true
   },
   "outputs": [
    {
     "name": "stdout",
     "output_type": "stream",
     "text": [
      "Use TkAgg backend for matplotlib.\n"
     ]
    },
    {
     "data": {
      "text/html": [
       "\n",
       "    <div class=\"bk-root\">\n",
       "        <a href=\"https://bokeh.org\" target=\"_blank\" class=\"bk-logo bk-logo-small bk-logo-notebook\"></a>\n",
       "        <span id=\"1001\">Loading BokehJS ...</span>\n",
       "    </div>"
      ]
     },
     "metadata": {},
     "output_type": "display_data"
    },
    {
     "data": {
      "application/javascript": [
       "\n",
       "(function(root) {\n",
       "  function now() {\n",
       "    return new Date();\n",
       "  }\n",
       "\n",
       "  var force = true;\n",
       "\n",
       "  if (typeof root._bokeh_onload_callbacks === \"undefined\" || force === true) {\n",
       "    root._bokeh_onload_callbacks = [];\n",
       "    root._bokeh_is_loading = undefined;\n",
       "  }\n",
       "\n",
       "  var JS_MIME_TYPE = 'application/javascript';\n",
       "  var HTML_MIME_TYPE = 'text/html';\n",
       "  var EXEC_MIME_TYPE = 'application/vnd.bokehjs_exec.v0+json';\n",
       "  var CLASS_NAME = 'output_bokeh rendered_html';\n",
       "\n",
       "  /**\n",
       "   * Render data to the DOM node\n",
       "   */\n",
       "  function render(props, node) {\n",
       "    var script = document.createElement(\"script\");\n",
       "    node.appendChild(script);\n",
       "  }\n",
       "\n",
       "  /**\n",
       "   * Handle when an output is cleared or removed\n",
       "   */\n",
       "  function handleClearOutput(event, handle) {\n",
       "    var cell = handle.cell;\n",
       "\n",
       "    var id = cell.output_area._bokeh_element_id;\n",
       "    var server_id = cell.output_area._bokeh_server_id;\n",
       "    // Clean up Bokeh references\n",
       "    if (id != null && id in Bokeh.index) {\n",
       "      Bokeh.index[id].model.document.clear();\n",
       "      delete Bokeh.index[id];\n",
       "    }\n",
       "\n",
       "    if (server_id !== undefined) {\n",
       "      // Clean up Bokeh references\n",
       "      var cmd = \"from bokeh.io.state import curstate; print(curstate().uuid_to_server['\" + server_id + \"'].get_sessions()[0].document.roots[0]._id)\";\n",
       "      cell.notebook.kernel.execute(cmd, {\n",
       "        iopub: {\n",
       "          output: function(msg) {\n",
       "            var id = msg.content.text.trim();\n",
       "            if (id in Bokeh.index) {\n",
       "              Bokeh.index[id].model.document.clear();\n",
       "              delete Bokeh.index[id];\n",
       "            }\n",
       "          }\n",
       "        }\n",
       "      });\n",
       "      // Destroy server and session\n",
       "      var cmd = \"import bokeh.io.notebook as ion; ion.destroy_server('\" + server_id + \"')\";\n",
       "      cell.notebook.kernel.execute(cmd);\n",
       "    }\n",
       "  }\n",
       "\n",
       "  /**\n",
       "   * Handle when a new output is added\n",
       "   */\n",
       "  function handleAddOutput(event, handle) {\n",
       "    var output_area = handle.output_area;\n",
       "    var output = handle.output;\n",
       "\n",
       "    // limit handleAddOutput to display_data with EXEC_MIME_TYPE content only\n",
       "    if ((output.output_type != \"display_data\") || (!output.data.hasOwnProperty(EXEC_MIME_TYPE))) {\n",
       "      return\n",
       "    }\n",
       "\n",
       "    var toinsert = output_area.element.find(\".\" + CLASS_NAME.split(' ')[0]);\n",
       "\n",
       "    if (output.metadata[EXEC_MIME_TYPE][\"id\"] !== undefined) {\n",
       "      toinsert[toinsert.length - 1].firstChild.textContent = output.data[JS_MIME_TYPE];\n",
       "      // store reference to embed id on output_area\n",
       "      output_area._bokeh_element_id = output.metadata[EXEC_MIME_TYPE][\"id\"];\n",
       "    }\n",
       "    if (output.metadata[EXEC_MIME_TYPE][\"server_id\"] !== undefined) {\n",
       "      var bk_div = document.createElement(\"div\");\n",
       "      bk_div.innerHTML = output.data[HTML_MIME_TYPE];\n",
       "      var script_attrs = bk_div.children[0].attributes;\n",
       "      for (var i = 0; i < script_attrs.length; i++) {\n",
       "        toinsert[toinsert.length - 1].firstChild.setAttribute(script_attrs[i].name, script_attrs[i].value);\n",
       "        toinsert[toinsert.length - 1].firstChild.textContent = bk_div.children[0].textContent\n",
       "      }\n",
       "      // store reference to server id on output_area\n",
       "      output_area._bokeh_server_id = output.metadata[EXEC_MIME_TYPE][\"server_id\"];\n",
       "    }\n",
       "  }\n",
       "\n",
       "  function register_renderer(events, OutputArea) {\n",
       "\n",
       "    function append_mime(data, metadata, element) {\n",
       "      // create a DOM node to render to\n",
       "      var toinsert = this.create_output_subarea(\n",
       "        metadata,\n",
       "        CLASS_NAME,\n",
       "        EXEC_MIME_TYPE\n",
       "      );\n",
       "      this.keyboard_manager.register_events(toinsert);\n",
       "      // Render to node\n",
       "      var props = {data: data, metadata: metadata[EXEC_MIME_TYPE]};\n",
       "      render(props, toinsert[toinsert.length - 1]);\n",
       "      element.append(toinsert);\n",
       "      return toinsert\n",
       "    }\n",
       "\n",
       "    /* Handle when an output is cleared or removed */\n",
       "    events.on('clear_output.CodeCell', handleClearOutput);\n",
       "    events.on('delete.Cell', handleClearOutput);\n",
       "\n",
       "    /* Handle when a new output is added */\n",
       "    events.on('output_added.OutputArea', handleAddOutput);\n",
       "\n",
       "    /**\n",
       "     * Register the mime type and append_mime function with output_area\n",
       "     */\n",
       "    OutputArea.prototype.register_mime_type(EXEC_MIME_TYPE, append_mime, {\n",
       "      /* Is output safe? */\n",
       "      safe: true,\n",
       "      /* Index of renderer in `output_area.display_order` */\n",
       "      index: 0\n",
       "    });\n",
       "  }\n",
       "\n",
       "  // register the mime type if in Jupyter Notebook environment and previously unregistered\n",
       "  if (root.Jupyter !== undefined) {\n",
       "    var events = require('base/js/events');\n",
       "    var OutputArea = require('notebook/js/outputarea').OutputArea;\n",
       "\n",
       "    if (OutputArea.prototype.mime_types().indexOf(EXEC_MIME_TYPE) == -1) {\n",
       "      register_renderer(events, OutputArea);\n",
       "    }\n",
       "  }\n",
       "\n",
       "  \n",
       "  if (typeof (root._bokeh_timeout) === \"undefined\" || force === true) {\n",
       "    root._bokeh_timeout = Date.now() + 5000;\n",
       "    root._bokeh_failed_load = false;\n",
       "  }\n",
       "\n",
       "  var NB_LOAD_WARNING = {'data': {'text/html':\n",
       "     \"<div style='background-color: #fdd'>\\n\"+\n",
       "     \"<p>\\n\"+\n",
       "     \"BokehJS does not appear to have successfully loaded. If loading BokehJS from CDN, this \\n\"+\n",
       "     \"may be due to a slow or bad network connection. Possible fixes:\\n\"+\n",
       "     \"</p>\\n\"+\n",
       "     \"<ul>\\n\"+\n",
       "     \"<li>re-rerun `output_notebook()` to attempt to load from CDN again, or</li>\\n\"+\n",
       "     \"<li>use INLINE resources instead, as so:</li>\\n\"+\n",
       "     \"</ul>\\n\"+\n",
       "     \"<code>\\n\"+\n",
       "     \"from bokeh.resources import INLINE\\n\"+\n",
       "     \"output_notebook(resources=INLINE)\\n\"+\n",
       "     \"</code>\\n\"+\n",
       "     \"</div>\"}};\n",
       "\n",
       "  function display_loaded() {\n",
       "    var el = document.getElementById(\"1001\");\n",
       "    if (el != null) {\n",
       "      el.textContent = \"BokehJS is loading...\";\n",
       "    }\n",
       "    if (root.Bokeh !== undefined) {\n",
       "      if (el != null) {\n",
       "        el.textContent = \"BokehJS \" + root.Bokeh.version + \" successfully loaded.\";\n",
       "      }\n",
       "    } else if (Date.now() < root._bokeh_timeout) {\n",
       "      setTimeout(display_loaded, 100)\n",
       "    }\n",
       "  }\n",
       "\n",
       "\n",
       "  function run_callbacks() {\n",
       "    try {\n",
       "      root._bokeh_onload_callbacks.forEach(function(callback) {\n",
       "        if (callback != null)\n",
       "          callback();\n",
       "      });\n",
       "    } finally {\n",
       "      delete root._bokeh_onload_callbacks\n",
       "    }\n",
       "    console.debug(\"Bokeh: all callbacks have finished\");\n",
       "  }\n",
       "\n",
       "  function load_libs(css_urls, js_urls, callback) {\n",
       "    if (css_urls == null) css_urls = [];\n",
       "    if (js_urls == null) js_urls = [];\n",
       "\n",
       "    root._bokeh_onload_callbacks.push(callback);\n",
       "    if (root._bokeh_is_loading > 0) {\n",
       "      console.debug(\"Bokeh: BokehJS is being loaded, scheduling callback at\", now());\n",
       "      return null;\n",
       "    }\n",
       "    if (js_urls == null || js_urls.length === 0) {\n",
       "      run_callbacks();\n",
       "      return null;\n",
       "    }\n",
       "    console.debug(\"Bokeh: BokehJS not loaded, scheduling load and callback at\", now());\n",
       "    root._bokeh_is_loading = css_urls.length + js_urls.length;\n",
       "\n",
       "    function on_load() {\n",
       "      root._bokeh_is_loading--;\n",
       "      if (root._bokeh_is_loading === 0) {\n",
       "        console.debug(\"Bokeh: all BokehJS libraries/stylesheets loaded\");\n",
       "        run_callbacks()\n",
       "      }\n",
       "    }\n",
       "\n",
       "    function on_error() {\n",
       "      console.error(\"failed to load \" + url);\n",
       "    }\n",
       "\n",
       "    for (var i = 0; i < css_urls.length; i++) {\n",
       "      var url = css_urls[i];\n",
       "      const element = document.createElement(\"link\");\n",
       "      element.onload = on_load;\n",
       "      element.onerror = on_error;\n",
       "      element.rel = \"stylesheet\";\n",
       "      element.type = \"text/css\";\n",
       "      element.href = url;\n",
       "      console.debug(\"Bokeh: injecting link tag for BokehJS stylesheet: \", url);\n",
       "      document.body.appendChild(element);\n",
       "    }\n",
       "\n",
       "    for (var i = 0; i < js_urls.length; i++) {\n",
       "      var url = js_urls[i];\n",
       "      var element = document.createElement('script');\n",
       "      element.onload = on_load;\n",
       "      element.onerror = on_error;\n",
       "      element.async = false;\n",
       "      element.src = url;\n",
       "      \n",
       "      console.debug(\"Bokeh: injecting script tag for BokehJS library: \", url);\n",
       "      document.head.appendChild(element);\n",
       "    }\n",
       "  };var element = document.getElementById(\"1001\");\n",
       "  if (element == null) {\n",
       "    console.error(\"Bokeh: ERROR: autoload.js configured with elementid '1001' but no matching script tag was found. \")\n",
       "    return false;\n",
       "  }\n",
       "\n",
       "  function inject_raw_css(css) {\n",
       "    const element = document.createElement(\"style\");\n",
       "    element.appendChild(document.createTextNode(css));\n",
       "    document.body.appendChild(element);\n",
       "  }\n",
       "\n",
       "  \n",
       "  var js_urls = [\"https://cdn.bokeh.org/bokeh/release/bokeh-2.0.0.min.js\", \"https://cdn.bokeh.org/bokeh/release/bokeh-widgets-2.0.0.min.js\", \"https://cdn.bokeh.org/bokeh/release/bokeh-tables-2.0.0.min.js\", \"https://cdn.bokeh.org/bokeh/release/bokeh-gl-2.0.0.min.js\"];\n",
       "  var css_urls = [];\n",
       "  \n",
       "\n",
       "  var inline_js = [\n",
       "    function(Bokeh) {\n",
       "      Bokeh.set_log_level(\"info\");\n",
       "    },\n",
       "    function(Bokeh) {\n",
       "    \n",
       "    \n",
       "    }\n",
       "  ];\n",
       "\n",
       "  function run_inline_js() {\n",
       "    \n",
       "    if (root.Bokeh !== undefined || force === true) {\n",
       "      \n",
       "    for (var i = 0; i < inline_js.length; i++) {\n",
       "      inline_js[i].call(root, root.Bokeh);\n",
       "    }\n",
       "    if (force === true) {\n",
       "        display_loaded();\n",
       "      }} else if (Date.now() < root._bokeh_timeout) {\n",
       "      setTimeout(run_inline_js, 100);\n",
       "    } else if (!root._bokeh_failed_load) {\n",
       "      console.log(\"Bokeh: BokehJS failed to load within specified timeout.\");\n",
       "      root._bokeh_failed_load = true;\n",
       "    } else if (force !== true) {\n",
       "      var cell = $(document.getElementById(\"1001\")).parents('.cell').data().cell;\n",
       "      cell.output_area.append_execute_result(NB_LOAD_WARNING)\n",
       "    }\n",
       "\n",
       "  }\n",
       "\n",
       "  if (root._bokeh_is_loading === 0) {\n",
       "    console.debug(\"Bokeh: BokehJS loaded, going straight to plotting\");\n",
       "    run_inline_js();\n",
       "  } else {\n",
       "    load_libs(css_urls, js_urls, function() {\n",
       "      console.debug(\"Bokeh: BokehJS plotting callback run at\", now());\n",
       "      run_inline_js();\n",
       "    });\n",
       "  }\n",
       "}(window));"
      ],
      "application/vnd.bokehjs_load.v0+json": "\n(function(root) {\n  function now() {\n    return new Date();\n  }\n\n  var force = true;\n\n  if (typeof root._bokeh_onload_callbacks === \"undefined\" || force === true) {\n    root._bokeh_onload_callbacks = [];\n    root._bokeh_is_loading = undefined;\n  }\n\n  \n\n  \n  if (typeof (root._bokeh_timeout) === \"undefined\" || force === true) {\n    root._bokeh_timeout = Date.now() + 5000;\n    root._bokeh_failed_load = false;\n  }\n\n  var NB_LOAD_WARNING = {'data': {'text/html':\n     \"<div style='background-color: #fdd'>\\n\"+\n     \"<p>\\n\"+\n     \"BokehJS does not appear to have successfully loaded. If loading BokehJS from CDN, this \\n\"+\n     \"may be due to a slow or bad network connection. Possible fixes:\\n\"+\n     \"</p>\\n\"+\n     \"<ul>\\n\"+\n     \"<li>re-rerun `output_notebook()` to attempt to load from CDN again, or</li>\\n\"+\n     \"<li>use INLINE resources instead, as so:</li>\\n\"+\n     \"</ul>\\n\"+\n     \"<code>\\n\"+\n     \"from bokeh.resources import INLINE\\n\"+\n     \"output_notebook(resources=INLINE)\\n\"+\n     \"</code>\\n\"+\n     \"</div>\"}};\n\n  function display_loaded() {\n    var el = document.getElementById(\"1001\");\n    if (el != null) {\n      el.textContent = \"BokehJS is loading...\";\n    }\n    if (root.Bokeh !== undefined) {\n      if (el != null) {\n        el.textContent = \"BokehJS \" + root.Bokeh.version + \" successfully loaded.\";\n      }\n    } else if (Date.now() < root._bokeh_timeout) {\n      setTimeout(display_loaded, 100)\n    }\n  }\n\n\n  function run_callbacks() {\n    try {\n      root._bokeh_onload_callbacks.forEach(function(callback) {\n        if (callback != null)\n          callback();\n      });\n    } finally {\n      delete root._bokeh_onload_callbacks\n    }\n    console.debug(\"Bokeh: all callbacks have finished\");\n  }\n\n  function load_libs(css_urls, js_urls, callback) {\n    if (css_urls == null) css_urls = [];\n    if (js_urls == null) js_urls = [];\n\n    root._bokeh_onload_callbacks.push(callback);\n    if (root._bokeh_is_loading > 0) {\n      console.debug(\"Bokeh: BokehJS is being loaded, scheduling callback at\", now());\n      return null;\n    }\n    if (js_urls == null || js_urls.length === 0) {\n      run_callbacks();\n      return null;\n    }\n    console.debug(\"Bokeh: BokehJS not loaded, scheduling load and callback at\", now());\n    root._bokeh_is_loading = css_urls.length + js_urls.length;\n\n    function on_load() {\n      root._bokeh_is_loading--;\n      if (root._bokeh_is_loading === 0) {\n        console.debug(\"Bokeh: all BokehJS libraries/stylesheets loaded\");\n        run_callbacks()\n      }\n    }\n\n    function on_error() {\n      console.error(\"failed to load \" + url);\n    }\n\n    for (var i = 0; i < css_urls.length; i++) {\n      var url = css_urls[i];\n      const element = document.createElement(\"link\");\n      element.onload = on_load;\n      element.onerror = on_error;\n      element.rel = \"stylesheet\";\n      element.type = \"text/css\";\n      element.href = url;\n      console.debug(\"Bokeh: injecting link tag for BokehJS stylesheet: \", url);\n      document.body.appendChild(element);\n    }\n\n    for (var i = 0; i < js_urls.length; i++) {\n      var url = js_urls[i];\n      var element = document.createElement('script');\n      element.onload = on_load;\n      element.onerror = on_error;\n      element.async = false;\n      element.src = url;\n      \n      console.debug(\"Bokeh: injecting script tag for BokehJS library: \", url);\n      document.head.appendChild(element);\n    }\n  };var element = document.getElementById(\"1001\");\n  if (element == null) {\n    console.error(\"Bokeh: ERROR: autoload.js configured with elementid '1001' but no matching script tag was found. \")\n    return false;\n  }\n\n  function inject_raw_css(css) {\n    const element = document.createElement(\"style\");\n    element.appendChild(document.createTextNode(css));\n    document.body.appendChild(element);\n  }\n\n  \n  var js_urls = [\"https://cdn.bokeh.org/bokeh/release/bokeh-2.0.0.min.js\", \"https://cdn.bokeh.org/bokeh/release/bokeh-widgets-2.0.0.min.js\", \"https://cdn.bokeh.org/bokeh/release/bokeh-tables-2.0.0.min.js\", \"https://cdn.bokeh.org/bokeh/release/bokeh-gl-2.0.0.min.js\"];\n  var css_urls = [];\n  \n\n  var inline_js = [\n    function(Bokeh) {\n      Bokeh.set_log_level(\"info\");\n    },\n    function(Bokeh) {\n    \n    \n    }\n  ];\n\n  function run_inline_js() {\n    \n    if (root.Bokeh !== undefined || force === true) {\n      \n    for (var i = 0; i < inline_js.length; i++) {\n      inline_js[i].call(root, root.Bokeh);\n    }\n    if (force === true) {\n        display_loaded();\n      }} else if (Date.now() < root._bokeh_timeout) {\n      setTimeout(run_inline_js, 100);\n    } else if (!root._bokeh_failed_load) {\n      console.log(\"Bokeh: BokehJS failed to load within specified timeout.\");\n      root._bokeh_failed_load = true;\n    } else if (force !== true) {\n      var cell = $(document.getElementById(\"1001\")).parents('.cell').data().cell;\n      cell.output_area.append_execute_result(NB_LOAD_WARNING)\n    }\n\n  }\n\n  if (root._bokeh_is_loading === 0) {\n    console.debug(\"Bokeh: BokehJS loaded, going straight to plotting\");\n    run_inline_js();\n  } else {\n    load_libs(css_urls, js_urls, function() {\n      console.debug(\"Bokeh: BokehJS plotting callback run at\", now());\n      run_inline_js();\n    });\n  }\n}(window));"
     },
     "metadata": {},
     "output_type": "display_data"
    }
   ],
   "source": [
    "%matplotlib tk\n",
    "import api\n",
    "import loom\n",
    "import logging\n",
    "loom.set_logging(\n",
    "    logger_name='loom',\n",
    "    logging_level=logging.INFO,\n",
    "    logging_stream=None,\n",
    "    logging_file_name='logs/loom_test.log'\n",
    ")\n",
    "\n",
    "from bokeh.plotting import show\n",
    "from bokeh.io import save\n",
    "from bokeh.io import output_notebook\n",
    "\n",
    "from loom.bokeh_plot import get_spectral_network_bokeh_plot\n",
    "\n",
    "output_notebook()"
   ]
  },
  {
   "cell_type": "markdown",
   "metadata": {},
   "source": [
    "Load a configuration file."
   ]
  },
  {
   "cell_type": "code",
   "execution_count": 3,
   "metadata": {},
   "outputs": [],
   "source": [
    "d = api.SpectralNetworkData(config_file_path='config/default.ini')"
   ]
  },
  {
   "cell_type": "markdown",
   "metadata": {},
   "source": [
    "Shows the loaded configuration."
   ]
  },
  {
   "cell_type": "code",
   "execution_count": 4,
   "metadata": {},
   "outputs": [
    {
     "data": {
      "text/plain": [
       "{'description': 'Argyres-Douglas fixed point of pure SU(3)',\n",
       " 'root_system': 'A2',\n",
       " 'representation': '1',\n",
       " 'casimir_differentials': '{2: v_2, 3: v_3 + z^2}',\n",
       " 'differential_parameters': '{v_2 = 1.0, v_3 = 1.0}',\n",
       " 'regular_punctures': '[]',\n",
       " 'irregular_punctures': '[oo]',\n",
       " 'ramification_point_finding_method': 'system_of_eqs',\n",
       " 'ramification_points': None,\n",
       " 'branch_points': None,\n",
       " 'mt_params': None,\n",
       " 'accuracy': 1e-06,\n",
       " 'plot_range': [[-5, 5], [-5, 5]],\n",
       " 'num_of_steps': 5000,\n",
       " 'num_of_iterations': 5,\n",
       " 'mass_limit': 10.0,\n",
       " 'phase': [0.01, 3.14, 8],\n",
       " 'size_of_small_step': None,\n",
       " 'size_of_large_step': None,\n",
       " 'size_of_bp_neighborhood': None,\n",
       " 'size_of_puncture_cutoff': None}"
      ]
     },
     "execution_count": 4,
     "metadata": {},
     "output_type": "execute_result"
    }
   ],
   "source": [
    "d.config.data"
   ]
  },
  {
   "cell_type": "markdown",
   "metadata": {},
   "source": [
    "How to change the current configuration."
   ]
  },
  {
   "cell_type": "code",
   "execution_count": 5,
   "metadata": {},
   "outputs": [],
   "source": [
    "d.config['num_of_steps'] = 100\n",
    "d.config['num_of_iterations'] = 1\n",
    "d.config['phase'] = 1.0\n",
    "d.config['mass_limit'] = 3.0\n",
    "d.config['ramification_point_finding_method'] = 'from_branch_points'\n",
    "d.config['branch_points'] = '[-sqrt(1/3*(-3+(2*I)/sqrt(3))), sqrt(1/3*(-3+(2*I)/sqrt(3))), -sqrt(1/3*(-3-(2*I)/sqrt(3))), sqrt(1/3*(-3-(2*I)/sqrt(3)))]'"
   ]
  },
  {
   "cell_type": "markdown",
   "metadata": {},
   "source": [
    "Generate spectral networks according to the configuration."
   ]
  },
  {
   "cell_type": "code",
   "execution_count": 7,
   "metadata": {},
   "outputs": [],
   "source": [
    "d.generate()"
   ]
  },
  {
   "cell_type": "markdown",
   "metadata": {},
   "source": [
    "Displays the bokeh plot of the spectral network."
   ]
  },
  {
   "cell_type": "code",
   "execution_count": 8,
   "metadata": {
    "scrolled": true
   },
   "outputs": [
    {
     "name": "stderr",
     "output_type": "stream",
     "text": [
      "BokehUserWarning: ColumnDataSource's columns must be of the same length. Current lengths: ('arrow_angle', 0), ('arrow_x', 0), ('arrow_y', 0), ('color', 0), ('label', 0), ('ranges', 0), ('root', 0), ('xs', 14), ('ys', 0)\n",
      "BokehUserWarning: ColumnDataSource's columns must be of the same length. Current lengths: ('arrow_angle', 0), ('arrow_x', 0), ('arrow_y', 0), ('color', 0), ('label', 0), ('ranges', 0), ('root', 0), ('xs', 14), ('ys', 14)\n",
      "BokehUserWarning: ColumnDataSource's columns must be of the same length. Current lengths: ('arrow_angle', 0), ('arrow_x', 0), ('arrow_y', 0), ('color', 0), ('label', 0), ('ranges', 14), ('root', 0), ('xs', 14), ('ys', 14)\n",
      "BokehUserWarning: ColumnDataSource's columns must be of the same length. Current lengths: ('arrow_angle', 0), ('arrow_x', 0), ('arrow_y', 0), ('color', 14), ('label', 0), ('ranges', 14), ('root', 0), ('xs', 14), ('ys', 14)\n",
      "BokehUserWarning: ColumnDataSource's columns must be of the same length. Current lengths: ('arrow_angle', 0), ('arrow_x', 14), ('arrow_y', 0), ('color', 14), ('label', 0), ('ranges', 14), ('root', 0), ('xs', 14), ('ys', 14)\n",
      "BokehUserWarning: ColumnDataSource's columns must be of the same length. Current lengths: ('arrow_angle', 0), ('arrow_x', 14), ('arrow_y', 14), ('color', 14), ('label', 0), ('ranges', 14), ('root', 0), ('xs', 14), ('ys', 14)\n",
      "BokehUserWarning: ColumnDataSource's columns must be of the same length. Current lengths: ('arrow_angle', 14), ('arrow_x', 14), ('arrow_y', 14), ('color', 14), ('label', 0), ('ranges', 14), ('root', 0), ('xs', 14), ('ys', 14)\n",
      "BokehUserWarning: ColumnDataSource's columns must be of the same length. Current lengths: ('arrow_angle', 14), ('arrow_x', 14), ('arrow_y', 14), ('color', 14), ('label', 14), ('ranges', 14), ('root', 0), ('xs', 14), ('ys', 14)\n"
     ]
    },
    {
     "data": {
      "text/html": [
       "\n",
       "\n",
       "\n",
       "\n",
       "\n",
       "\n",
       "  <div class=\"bk-root\" id=\"76e22d8a-dc41-40d6-b5f4-f47abfcfe698\" data-root-id=\"1087\"></div>\n"
      ]
     },
     "metadata": {},
     "output_type": "display_data"
    },
    {
     "data": {
      "application/javascript": [
       "(function(root) {\n",
       "  function embed_document(root) {\n",
       "    \n",
       "  var docs_json = {\"ec4ecc88-e522-47ed-8687-e900238c43b5\":{\"roots\":{\"references\":[{\"attributes\":{\"children\":[{\"id\":\"1009\"},{\"id\":\"1078\"},{\"id\":\"1080\"},{\"id\":\"1082\"}]},\"id\":\"1087\",\"type\":\"Column\"},{\"attributes\":{\"data\":{\"label\":[],\"root\":[],\"x\":[],\"y\":[]},\"selected\":{\"id\":\"1095\"},\"selection_policy\":{\"id\":\"1096\"}},\"id\":\"1041\",\"type\":\"ColumnDataSource\"},{\"attributes\":{},\"id\":\"1007\",\"type\":\"SaveTool\"},{\"attributes\":{\"source\":{\"id\":\"1060\"}},\"id\":\"1067\",\"type\":\"CDSView\"},{\"attributes\":{},\"id\":\"1103\",\"type\":\"Selection\"},{\"attributes\":{\"data_source\":{\"id\":\"1047\"},\"glyph\":{\"id\":\"1050\"},\"hover_glyph\":null,\"muted_glyph\":null,\"nonselection_glyph\":{\"id\":\"1051\"},\"selection_glyph\":null,\"view\":{\"id\":\"1053\"}},\"id\":\"1052\",\"type\":\"GlyphRenderer\"},{\"attributes\":{\"data_source\":{\"id\":\"1060\"},\"glyph\":{\"id\":\"1064\"},\"hover_glyph\":null,\"muted_glyph\":null,\"nonselection_glyph\":{\"id\":\"1065\"},\"selection_glyph\":null,\"view\":{\"id\":\"1067\"}},\"id\":\"1066\",\"type\":\"GlyphRenderer\"},{\"attributes\":{\"data_source\":{\"id\":\"1059\"},\"glyph\":{\"id\":\"1074\"},\"hover_glyph\":null,\"muted_glyph\":null,\"nonselection_glyph\":{\"id\":\"1075\"},\"selection_glyph\":null,\"view\":{\"id\":\"1077\"}},\"id\":\"1076\",\"type\":\"GlyphRenderer\"},{\"attributes\":{\"fill_color\":{\"field\":\"color\"},\"line_color\":{\"field\":\"color\"},\"size\":{\"units\":\"screen\",\"value\":5},\"x\":{\"field\":\"x\"},\"y\":{\"field\":\"y\"}},\"id\":\"1037\",\"type\":\"Circle\"},{\"attributes\":{},\"id\":\"1095\",\"type\":\"Selection\"},{\"attributes\":{\"bottom_units\":\"screen\",\"fill_alpha\":0.5,\"fill_color\":\"lightgrey\",\"left_units\":\"screen\",\"level\":\"overlay\",\"line_alpha\":1.0,\"line_color\":\"black\",\"line_dash\":[4,4],\"line_width\":2,\"render_mode\":\"css\",\"right_units\":\"screen\",\"top_units\":\"screen\"},\"id\":\"1105\",\"type\":\"BoxAnnotation\"},{\"attributes\":{\"data\":{\"x\":[],\"y\":[]},\"selected\":{\"id\":\"1101\"},\"selection_policy\":{\"id\":\"1102\"}},\"id\":\"1060\",\"type\":\"ColumnDataSource\"},{\"attributes\":{\"angle\":{\"field\":\"arrow_angle\",\"units\":\"rad\"},\"fill_alpha\":{\"value\":0.1},\"fill_color\":{\"field\":\"color\"},\"line_alpha\":{\"value\":0.1},\"line_color\":{\"field\":\"color\"},\"size\":{\"units\":\"screen\",\"value\":8},\"x\":{\"field\":\"arrow_x\"},\"y\":{\"field\":\"arrow_y\"}},\"id\":\"1075\",\"type\":\"Triangle\"},{\"attributes\":{\"icon\":null,\"js_event_callbacks\":{\"button_click\":[{\"id\":\"1081\"}]},\"label\":\"Show data points\"},\"id\":\"1080\",\"type\":\"Button\"},{\"attributes\":{},\"id\":\"1020\",\"type\":\"BasicTicker\"},{\"attributes\":{\"source\":{\"id\":\"1041\"}},\"id\":\"1046\",\"type\":\"CDSView\"},{\"attributes\":{},\"id\":\"1091\",\"type\":\"BasicTickFormatter\"},{\"attributes\":{\"data_source\":{\"id\":\"1035\"},\"glyph\":{\"id\":\"1037\"},\"hover_glyph\":null,\"muted_glyph\":null,\"nonselection_glyph\":{\"id\":\"1038\"},\"selection_glyph\":null,\"view\":{\"id\":\"1040\"}},\"id\":\"1039\",\"type\":\"GlyphRenderer\"},{\"attributes\":{\"data_source\":{\"id\":\"1048\"},\"glyph\":{\"id\":\"1055\"},\"hover_glyph\":null,\"muted_glyph\":null,\"nonselection_glyph\":{\"id\":\"1056\"},\"selection_glyph\":null,\"view\":{\"id\":\"1058\"}},\"id\":\"1057\",\"type\":\"GlyphRenderer\"},{\"attributes\":{},\"id\":\"1003\",\"type\":\"ResetTool\"},{\"attributes\":{\"args\":{\"cds\":{\"id\":\"1059\"},\"x_range\":{\"id\":\"1011\"},\"y_range\":{\"id\":\"1013\"}},\"code\":\"function show_data_points(cds, dpds, hover) {\\n    var cd = cds.get('data');\\n    var dpd = dpds.get('data');\\n    dpd['x'] = [];\\n    dpd['y'] = [];\\n\\n    for (var i = 0, i_stop = cd['xs'].length; i < i_stop; i++) {\\n        dpd['x'] = dpd['x'].concat(cd['xs'][i]);\\n        dpd['y'] = dpd['y'].concat(cd['ys'][i]);\\n    }\\n    hover.attributes.tooltips = null;\\n    dpds.trigger('change');\\n}\\n\\nfunction hide_data_points(cds, dpds, hover) {\\n    var cd = cds.get('data');\\n    var dpd = dpds.get('data');\\n    dpd['x'] = [];\\n    dpd['y'] = [];\\n\\n    hover.attributes.tooltips = [['name', '@label'], ['root', '@root']];\\n    dpds.trigger('change');\\n}\\n\\nfunction sn_slider(\\n    cb_obj, cds, snds, sn_idx_ds, dpds, pds, hover,\\n    plot_options_ds, tree_idx_ds\\n) {\\n    var cd = cds.get('data');\\n    var snd = snds.get('data');\\n    var dpd = dpds.get('data');\\n    var pd = pds.get('data');\\n    var current_sn_idx = sn_idx_ds.get('data');\\n    var sn_idx = cb_obj.get('value');\\n    var plot_options = plot_options_ds.get('data');\\n    var notebook = plot_options['notebook'];\\n    var show_trees = plot_options['show_trees'];\\n    var tree_idx = tree_idx_ds.get('data');\\n    \\n    current_sn_idx['i'] = sn_idx;\\n    tree_idx['j'] = 0;\\n    if (show_trees == 'true') {\\n        document.getElementById(\\\"current_tree_idx\\\").innerHTML = 'All';\\n    }\\n\\n    for (var key in cd) {\\n        if (cd.hasOwnProperty(key)) {\\n            if (show_trees == 'false') {\\n                cd[key] = snd['spectral_networks'][sn_idx][key];\\n            } else {\\n                cd[key] = snd['spectral_networks'][sn_idx][0][key];\\n            }\\n        }\\n    }\\n    cds.trigger('change');\\n    sn_idx_ds.trigger('change');\\n    tree_idx_ds.trigger('change');\\n    hide_data_points(cds, dpds, hover);\\n    if (notebook == 'false') {\\n        document.getElementById(\\\"phase\\\").innerHTML = pd['phase'][sn_idx];\\n    }\\n}\\n\\nfunction change_soliton_tree(\\n    cds, snds, sn_idx_ds, tree_idx_ds, plot_options_ds, change\\n) {\\n    var cd = cds.get('data');\\n    var snd = snds.get('data');\\n    var sn_idx = sn_idx_ds.get('data');\\n    var tree_idx = tree_idx_ds.get('data');\\n    var plot_options = plot_options_ds.get('data');\\n    var notebook = plot_options['notebook'];\\n    var show_trees = plot_options['show_trees'];\\n\\n    var sn_i = sn_idx['i'];\\n    var tree_j = Number(tree_idx['j']) + change;\\n    var max_tree_j = snd['spectral_networks'][sn_i].length;\\n    if (tree_j > max_tree_j) {\\n        tree_j = max_tree_j;\\n    } else if (tree_j < 0) {\\n        tree_j = 0;\\n    }\\n    \\n    for (var key in cd) {\\n        if (cd.hasOwnProperty(key)) {\\n            cd[key] = snd['spectral_networks'][sn_i][tree_j][key];\\n        }\\n    }\\n\\n    if (notebook == 'false') {\\n        var tree_idx_label = document.getElementById(\\\"current_tree_idx\\\");\\n        if (tree_j == 0) {\\n            tree_idx_label.innerHTML = 'All';\\n        } else {\\n            tree_idx_label.innerHTML = tree_j - 1;\\n        }\\n    }\\n    \\n    cds.trigger('change');\\n    tree_idx['j'] = String(tree_j);\\n    tree_idx_ds.trigger('change');\\n}\\n\\nfunction show_prev_soliton_tree(\\n    cds, snds, sn_idx_ds, tree_idx_ds, plot_options_ds\\n) {\\n    change_soliton_tree(\\n        cds, snds, sn_idx_ds, tree_idx_ds, plot_options_ds, -1\\n    );\\n}\\n\\nfunction show_next_soliton_tree(\\n    cds, snds, sn_idx_ds, tree_idx_ds, plot_options_ds\\n) {\\n    change_soliton_tree(\\n        cds, snds, sn_idx_ds, tree_idx_ds, plot_options_ds, 1\\n    );   \\n}\\n\\nfunction redraw_arrows(cds, x_range, y_range) {\\n    var cd = cds.get('data');\\n    var x_s = x_range.get('start');\\n    var x_e = x_range.get('end');\\n    var y_s = y_range.get('start');\\n    var y_e = y_range.get('end');\\n\\n    for (var i = 0, i_stop = cd['arrow_x'].length; i < i_stop; i++) {\\n        // Domain of the segment.\\n        var range = cd['ranges'][i];\\n        var x_min = range[0];\\n        var x_max = range[1];\\n        var y_min = range[2];\\n        var y_max = range[3];\\n\\n        if ((x_max < x_s) || (x_min > x_e) || (y_max < y_s) || (y_min > y_e)) {\\n            // The segment is out of screen.\\n            continue;\\n        }\\n\\n        // Now find the new location for the arrow.\\n        var a_x;\\n        var a_y;\\n        var a_i;\\n        var x = cd['xs'][i];\\n        var y = cd['ys'][i];\\n        var x_length = x.length;\\n        var denom = 2;\\n        var found = false;\\n\\n        while ((Math.floor(x_length / denom) > 0) && !found) {\\n            for (var j = 1; j < denom; j += 2) {\\n                a_i = Math.floor(x_length * j / denom);\\n                a_x = x[a_i];\\n                a_y = y[a_i];\\n                if ((a_x >= x_s) && (a_x <= x_e) && \\n                    (a_y >= y_s) && (a_y <= y_e)) {\\n                    found = true;\\n                    break;\\n                }\\n            }\\n            denom *= 2;\\n        }\\n        cd['arrow_x'][i] = a_x;\\n        cd['arrow_y'][i] = a_y;\\n        var Dx = x[a_i] - x[a_i - 1];\\n        var Dy = y[a_i] - y[a_i - 1];\\n        cd['arrow_angle'][i] = Math.atan2(Dy, Dx) - (Math.PI / 2);\\n    }\\n    cds.trigger('change');\\n}\\n\\nfunction update_plot_range(x_range, y_range) {\\n    var x_s = x_range.get('start');\\n    var x_e = x_range.get('end');\\n    var y_s = y_range.get('start');\\n    var y_e = y_range.get('end');\\n\\n    var plot_range_input = document.getElementById(\\\"plot_range_input\\\");\\n    plot_range_input.value =\\n        \\\"[[\\\" + x_s + \\\",\\\" + x_e + \\\"],[\\\" + y_s + \\\",\\\" + y_e + \\\"]]\\\";\\n}\\n\\nredraw_arrows(cds, x_range, y_range);\"},\"id\":\"1079\",\"type\":\"CustomJS\"},{\"attributes\":{},\"id\":\"1096\",\"type\":\"UnionRenderers\"},{\"attributes\":{\"data\":{\"arrow_angle\":[-0.8537598392184835,-0.8242074102387915,-2.947876793830832,1.2848104788651793,-1.8567821747227446,-4.002560556925266,0.19371585975974837,-0.9817603268205656,-1.0474080587480623,-3.010652433096779,1.1163336316704284,-2.0252590219200504,-4.13724289644536,0.13094022049227072],\"arrow_x\":[-0.9016198287230168,-0.28214155299259047,-0.93884170088111,-1.151191344177218,1.1511913441771304,0.83339377266206,0.9388417008813612,0.8686560213044651,1.4614753244520504,0.8065730913267521,0.6162271753952329,-0.6162271753951152,-0.94396740782745,-0.8065730913270178],\"arrow_y\":[-0.27964771511187375,0.2586429741915433,-0.5304431945734324,-0.29060488411951485,0.29060488411953217,0.22064418571692077,0.530443194573488,0.7282501835377871,1.0907378746588727,0.4845984234903144,0.7544626677782309,-0.7544626677779731,-0.7777709315017077,-0.4845984234903258],\"color\":[\"#440154\",\"#30678d\",\"#440154\",\"#440154\",\"#30678d\",\"#30678d\",\"#30678d\",\"#35b778\",\"#440154\",\"#35b778\",\"#35b778\",\"#35b778\",\"#35b778\",\"#35b778\"],\"label\":[\"S-wall #0\",\"S-wall #0\",\"S-wall #1\",\"S-wall #2\",\"S-wall #3\",\"S-wall #4\",\"S-wall #5\",\"S-wall #6\",\"S-wall #6\",\"S-wall #7\",\"S-wall #8\",\"S-wall #9\",\"S-wall #10\",\"S-wall #11\"],\"ranges\":[[-0.9730991485252078,-0.7868238106107701,-0.3425804940548717,-0.18078493541423019],[-0.7868238106107701,0.09065250833195161,-0.18078493541423019,0.650795202236998],[-0.9751553498931705,-0.9032899024842749,-0.7034722397952025,-0.34879998653153343],[-2.1441023031922986,-0.9762817446025633,-0.34497795124522174,-0.05065735297244985],[0.976281744602503,2.1441023031922843,0.05065735297245053,0.3449779512450395],[-0.09065250833207586,0.9730991485239309,-0.6507952022369162,0.34258049405630464],[0.9032899024844325,0.97515534989505,0.34879998653192285,0.7034722397952518],[0.7899335700414128,0.975922662037001,0.6747778660040799,0.7983463285171635],[0.975922662037001,1.806194326880215,0.7983463285171635,1.2861648487950614],[0.787132948034818,0.8433242137908746,0.2794248057227767,0.6688561629459183],[-0.37378211876873974,0.7834049137560795,0.674242424279108,1.3299761607022027],[-0.7834049137552589,0.3737821187687988,-1.329976160702101,-0.6742424242773728],[-1.8061943268801415,-0.7899335700403205,-1.2861648487951336,-0.6747778660056581],[-0.8433242137910539,-0.7871329480367311,-0.6688561629460752,-0.27942480572279527]],\"root\":[\"[-1, 1, 0]\",\"[-1, 0, 1]\",\"[1, -1, 0]\",\"[-1, 1, 0]\",\"[-1, 0, 1]\",\"[1, 0, -1]\",\"[-1, 0, 1]\",\"[0, 1, -1]\",\"[-1, 1, 0]\",\"[0, -1, 1]\",\"[0, 1, -1]\",\"[0, -1, 1]\",\"[0, 1, -1]\",\"[0, -1, 1]\"],\"xs\":[{\"__ndarray__\":\"gsxV06Aj779uGbP8IRDvvwz1RZFU++6/K2/zROHl7r+Pm3omDNDuvxtpD4j2ue6/bnltIrOj7r+WaCNRTY3uv/xP+6DMdu6/fYR1OjZg7r9c4NPZjUnuvzNRKDbWMu6/H2UhahEc7r93h4E5QQXuvw/Vl9Jm7u2/Vnd4S4PX7b/EdCqMl8Dtv8Pm5Umkqe2/38UPFaqS7b+UEbN5qXvtv4xQQOiiZO2/Uhqo0ZZN7b8ePhmUhTbtv7vT4V9vH+2/6Fk1iFQI7b81E2NINfHsv5pLudMR2uy/hj3xZ+rC7L8uy34wv6vsv9XlCkaQlOy/28Ms0l197L8G7TECKGbsvzf8Z+vuTuy/t3TirbI37L9oGxJrcyDsv5jeH0AxCey/SnuoTOzx67/3TWyapNrrvyRPGzpaw+u/A1qfTQ2s6796NIbdvZTrv56hbgRsfeu/QNh70xdm67+VVzNXwU7rv4nEjqloN+u/ACCU1w0g678pTFjxsAjrvzWk4P5R8eq/zguhCvHZ6r9yfDopjsLqvy/IyGopq+q/ux2Vhy3J6b8EMskgqS3pvw==\",\"dtype\":\"float64\",\"shape\":[53]},{\"__ndarray__\":\"BDLJIKkt6b9J9Y3sRuXov8oLd+/oCOi/hlTQpaE2579/VSzYeGzmv2BctNgJqeW/XTta5E7r5L8/BSy7fzLkv8/SktP/feO/2wNxCVLN4r8Dz290ECDiv4aK3JbmdeG/aVqKJ47O4L+HLAN7yyngvwDZ8hLYDt+/tMtR2ojO3b+mtXLxXZLcv86oaH0WWtu/AcIrN3ol2r9aubD5V/TYv1TPNCeFxte/dGS9ytyb1r/UesiIPnTVv6T+9TOOT9S/U1lP7rMt079uiLxxmw7SvwT/Dz8z8tC/brnZ4Nmwz7/OD34yeoLNvwsqFTA2Wcu/bn1vWgA1yb9ZcFoC0BXHv9onMpug+8S/dF1ujHHmwr9OSjPiRdbAv58ZoC5Ilr2/yzK3piuKub9a0K9cT4i1v2xBRf3RkLG/lthyTq5Hq7+cajdQDYOjv7/LHDkvqJe/CDnEM6fsgL8ELl3L2Dp6P9jNIU0mZpU/55IkCZkHoj/CDYbEh0SpP7K8dDW+NLA/yNNM9gu7sz+hCpa2ADW3Pw==\",\"dtype\":\"float64\",\"shape\":[50]},{\"__ndarray__\":\"efAJ/ng077/0mShAMi/vv2yW7IOTKe+/ytyLy8oj779L2Hyj6h3vv/nBVR38F++/vYfeTgQS779282xKBgzvv3xS7hgEBu+/IcdTGf//7r/XA3lH+Pnuv+h/cljw8+6/tdKA2Oft7r/EGAM03+fuvyP9lrXW4e6/cX/anc7b7r8rJcIhx9Xuv5Dnk2PAz+6/Bakwg7rJ7r8CX+yWtcPuv4BlnLOxve6/IwDb66637r/2tORErbHuv+5cQ8asq+6/WZJncq2l7r/SF6BNr5/uvyu8tVeyme6/XlbLj7aT7r9mCIXvu43uv9CbKHDCh+6/xaBlDsqB7r/7sO6/0nvuv4gM13vcde6/TxlFOedv7r82yR3u8mnuv8sHQ47/Y+6/GcW9Bw1e7r9ISMxPG1juv/6VG1UqUu6/5M83CTpM7r96+PxaSkbuv1w6HThbQO6/HdgqjGw67r989ORBfjTuv1+LQ0aQLu6/NVX0g6Io7r9fiXbktCLuv9cloU7HHO6/dPFfp9kW7r/iEbPV6xDuv+P4LMD9Cu6/U/OChhsF7r820fJeV83tv+65myEGyO2/9pg6F7/C7b/dpcjXgb3tvx+sqP9NuO2/ELiELiOz7b8RcBwGAa7tv1setCznqO2/esyvT9Wj7b/2Pukdy57tv3BfOUrIme2/1faQi8yU7b88b4WW14/tv6yNgCHpiu2/P+X35QCG7b/arJqeHoHtv95XJwhCfO2/b0iJ5Wp37b9UkHb6mHLtv7QuHw3Mbe2/B7W55gNp7b+yF1ZPQGTtv9SvIQ2BX+2/ja1f6cVa7b8l9putDlbtvzmOzSNbUe2/5xGoHKtM7b/sbBpq/kftv3A3Xt9UQ+2/lztqUq4+7b8XeeiZCjrtv9zx4odpNe2/sSDc8cow7b+iEsStLiztv12JbJGUJ+2/sBCLd/wi7b/7rmY+Zh7tv4F3YsTRGe2/PSlg6j4V7b/sHkGTrRDtv4GXRp0dDO2/Mifd6I4H7b+EoIZXAQPtv3iurcp0/uy/G+O7Hen57L+2Lp4iXvXsv1n6PLbT8Oy/XLxuwEns7L+AQ785wOfsvw==\",\"dtype\":\"float64\",\"shape\":[101]},{\"__ndarray__\":\"pP6XNrM9778DW+1BcE3vv0qL1yKwZO+/8U1VvHx+779vxEpqaJnvv75Ux+fwtO+/miQahdvQ77+SQ7wzCe3vv0zIPhm0BPC/bliF7/US8L+pyWx9RiHwv+9iuvmiL/C/0pCXZwk+8L/fwAlJeEzwv/qYsmzuWvC/76iC3Gpp8L9B/IDj7Hfwv4M2xe9zhvC/cHEYfv+U8L8oZE4jj6Pwvzz+eYEisvC/4yBeTbnA8L+E52JGU8/wv6YhUTXw3fC/Q6FX54/s8L806OwwMvvwvyHrWurWCfG/90/S7n0Y8b8h6SkgJyfxv+NoSmTSNfG/YtIQon9E8b/LftTDLlPxv3YEDbXfYfG/wL//YpJw8b/jpta7Rn/xv5LGC7D8jfG/ReW5L7Sc8b95X2csbavxv3Y4rJgnuvG/LAEna+PI8b9tRVmcoNfxv5u96h1f5vG/W3EH5x718b8wGvXu3wPyv9baDzGiEvK/+JnloWUh8r/0bXE5KjDyv3F3QPHvPvK/lcXexLZN8r95e1Crflzyv/Peap1Ha/K/8nW7lBF68r8JNbGL3Ijyv2h9tGkkF/O/embN02Gh8787A5vyFiP0vxMq+IgRnvS/V9AP84oT9b/uamp0Y4T1v4DqY2FD8fW/TYNC16xa9r9t2oT8BsH2v0VkDZOlJPe/+S0rls2F978t0967uOT3v7Q6lgKYQfi/+wSlbZWc+L/+1Lpg1fX4vwxBTpx3Tfm/Z7wFKJij+b8LkiKrT/j5v5AR/zK0S/q/5nJcsdmd+r86hSnp0e76vw6k4+2sPvu/hzplVnmN+7+JsDp8RNv7v+/oDrwaKPy/eUoXPQd0/L9G+lVrFL/8v/SSPehLCf2/6W2kcbZS/b/HtaFEXJv9v5Z2SAFF4/2/TxtOzncq/r+3mL5k+3D+v6FxdfzVtv6/z/OAfA38/r8EJKBpp0D/v9hwUPKohP+/+t2r/xbI/78yOFsXewUAwFSQU3ClJgDAfkLonIxHAMC3AcKRMmgAwAsmNiyZiADASTnEM8KoAMD4wkxYr8gAwLrONDJi6ADAgdPNStwHAcDh6bsbHycBwA==\",\"dtype\":\"float64\",\"shape\":[101]},{\"__ndarray__\":\"hfyXNrM97z8wWu1BcE3vP72K1yKwZO8/gk1VvHx+7z8CxEpqaJnvPyVUx+fwtO8/ECQahdvQ7z8UQ7wzCe3vP/DGPhm0BPA/F1eF7/US8D82yGx9RiHwP2FhuvmiL/A/SY+XZwk+8D9gvwlJeEzwP2SXsmzuWvA/UKeC3Gpp8D+v+oDj7HfwPwM1xe9zhvA/928Yfv+U8D+qYk4jj6PwP7/8eYEisvA/Yx9eTbnA8D8D5mJGU8/wPyYgUTXw3fA/xp9X54/s8D+55uwwMvvwP6TpWurWCfE/e07S7n0Y8T+U5ykgJyfxP15nSmTSNfE/3dAQon9E8T9CfdTDLlPxP/gCDbXfYfE/Q77/YpJw8T9kpda7Rn/xPxjFC7D8jfE/xOO5L7Sc8T/yXWcsbavxP9w2rJgnuvE/qP8ma+PI8T/lQ1mcoNfxPxK86h1f5vE/yW8H5x718T+pGPXu3wPyP1fZDzGiEvI/d5jloWUh8j9sbHE5KjDyP/J1QPHvPvI/G8TexLZN8j/6eVCrflzyP2ndap1Ha/I/U3S7lBF68j9fM7GL3IjyP9d7tGkkF/M/A2XN02Gh8z83ApvyFiP0Pzkp+IgRnvQ/nM8P84oT9T8wamp0Y4T1P/HpY2FD8fU/poJC16xa9j/W2YT8BsH2P+5jDZOlJPc/my0rls2F9z/N0t67uOT3Pz06lgKYQfg/fASlbZWc+D9k1Lpg1fX4P4ZATpx3Tfk/8rsFKJij+T81kSKrT/j5P7gQ/zK0S/o/d3Jcsdmd+j/XhCnp0e76P5Gj4+2sPvs/jzllVnmN+z9zrzp8RNv7PwzoDrwaKPw/akkXPQd0/D8A+lVrFL/8P76SPehLCf0/qG2kcbZS/T+FtaFEXJv9Pw92SAFF4/0/2BpOzncq/j87mL5k+3D+PxZxdfzVtv4/f/OAfA38/j+yI6Bpp0D/P5lwUPKohP8/zd2r/xbI/z8cOFsXewUAQEuQU3ClJgBAbELonIxHAECWAcKRMmgAQN8lNiyZiABALDnEM8KoAEDGwkxYr8gAQHPONDJi6ABAN9PNStwHAUDB6bsbHycBQA==\",\"dtype\":\"float64\",\"shape\":[101]},{\"__ndarray__\":\"lJ9V06Aj7z9L+LL8IRDvP9fZRZFU++4/nVfzROHl7j+GhnomDNDuP+1VD4j2ue4/sWdtIrOj7j8BWCNRTY3uP11A+6DMdu4/rHV1OjZg7j880tPZjUnuP6xDKDbWMu4/IFghahEc7j/weoE5QQXuP/LIl9Jm7u0/m2t4S4PX7T9iaSqMl8DtP7Lb5Umkqe0/GbsPFaqS7T8RB7N5qXvtP0dGQOiiZO0/SBCo0ZZN7T9LNBmUhTbtPxvK4V9vH+0/eFA1iFQI7T/yCWNINfHsP4FCudMR2uw/lTTxZ+rC7D9jwn4wv6vsPzDdCkaQlOw/V7ss0l197D+i5DECKGbsP/LzZ+vuTuw/jmzirbI37D9aExJrcyDsP6XWH0AxCew/cHOoTOzx6z83RmyapNrrP3tHGzpaw+s/cFKfTQ2s6z/+LIbdvZTrPzaabgRsfes/7NB70xdm6z9VUDNXwU7rP1q9jqloN+s/4xiU1w0g6z8eRVjxsAjrPzyd4P5R8eo/5QShCvHZ6j+YdTopjsLqP2PByGopq+o/aheVhy3J6T9V743sRuXoPy8Gd+/oCOg/HU/QpaE25z9JUCzYeGzmP1RXtNgJqeU/bjZa5E7r5D9uACy7fzLkPxXOktP/feM/M/9wCVLN4j9yym90ECDiPwOG3JbmdeE/9VWKJ47O4D8iKAN7yyngP0fQ8hLYDt8/D8NR2ojO3T8drXLxXZLcP1SgaH0WWts/nrkrN3ol2j8GsbD5V/TYPwjHNCeFxtc/KVy9ytyb1j+TcsiIPnTVP2z29TOOT9Q/FlFP7rMt0z80gLxxmw7SP9b2Dz8z8tA/9KjZ4Nmwzz/l/n0yeoLNP/UYFTA2Wcs/OmxvWgA1yT8jX1oC0BXHP6EWMpug+8Q/NkxujHHmwj8OOTPiRdbAPxP3ny5Ilr0/OhC3piuKuT/Lra9cT4i1P9YeRf3RkLE/SZNyTq5Hqz87JTdQDYOjP9xAHDkvqJc/RSPDM6fsgD8DWV/L2Dp6v1xYIk0mZpW//dckCZkHor+4UobEh0SpvzLfdDW+NLC/gfZM9gu7s7+aLZa2ADW3vw==\",\"dtype\":\"float64\",\"shape\":[101]},{\"__ndarray__\":\"mjIK/ng07z+lyihAMi/vP0++7IOTKe8/Pv+Ly8oj7z8B93yj6h3vP+fdVR38F+8/gqHeTgQS7z9+C21KBgzvPxFp7hgEBu8/f9xTGf//7j8pGHlH+PnuP1GTcljw8+4/UeWA2Oft7j+pKgM03+fuP2UOl7XW4e4/HpDanc7b7j9RNcIhx9XuPzn3k2PAz+4/PLgwg7rJ7j/RbeyWtcPuP+xznLOxve4/NQ7b66637j+0wuRErbHuP1xqQ8asq+4/e59ncq2l7j+uJKBNr5/uP8TItVeyme4/uWLLj7aT7j+FFIXvu43uP7anKHDCh+4/dqxlDsqB7j93vO6/0nvuP9MX13vcde4/aiRFOedv7j8k1B3u8mnuP40SQ47/Y+4/ss+9Bw1e7j+6UsxPG1juP0mgG1UqUu4/C9o3CTpM7j99Av1aSkbuPzxEHThbQO4/3eEqjGw67j8b/uRBfjTuP9+UQ0aQLu4/ll70g6Io7j+jknbktCLuP/8uoU7HHO4/gPpfp9kW7j/TGrPV6xDuP7oBLcD9Cu4/EfyChhsF7j8l2fJeV83tP8vBmyEGyO0/wqA6F7/C7T+YrcjXgb3tP8uzqP9NuO0/rL+ELiOz7T+edxwGAa7tP9kltCznqO0/6tOvT9Wj7T9YRukdy57tP8RmOUrIme0/Gv6Qi8yU7T90doWW14/tP9iUgCHpiu0/Xuz35QCG7T/ts5qeHoHtP+NeJwhCfO0/aU+J5Wp37T9Bl3b6mHLtP5c1Hw3Mbe0/37u55gNp7T+BHlZPQGTtP5i2IQ2BX+0/SLRf6cVa7T/U/JutDlbtP92UzSNbUe0/gRioHKtM7T98cxpq/kftP/c9Xt9UQ+0/FUJqUq4+7T+Of+iZCjrtP0r44odpNe0/Fifc8cow7T/+GMStLiztP66PbJGUJ+0/+BaLd/wi7T86tWY+Zh7tP7h9YsTRGe0/bi9g6j4V7T8XJUGTrRDtP6WdRp0dDO0/Ty3d6I4H7T+ZpoZXAQPtP4O0rcp0/uw/Fum7Hen57D+XNJ4iXvXsPxsAPbbT8Ow//8FuwEns7D8MSb85wOfsPw==\",\"dtype\":\"float64\",\"shape\":[101]},{\"__ndarray__\":\"geQqxCJH6T9muM+UmFzpP/3s22F+c+k/ZT9RwhqL6T+pi8PqIqPpP2RwCz9yu+k/8aj0LfTT6T+hNilAnOzpP6tKPStiBeo/jfSzSUAe6j9Em8KEMjfqP4tGXOQ1UOo/jNpeGUhp6j+9C1A0Z4LqP4NPqPWRm+o/jWOLOce06j9WaM70Bc7qP184JnJN5+o/yP2XB50A6z9nsZkO9BnrP9+xV0lSM+s/DlDUGbdM6z/sT4o8ImbrPz2AR2CTf+s/1RDvDwqZ6z9TXZdehrLrP608X7YHzOs/RUVfQI7l6z9KcJuDGf/rP8oaWI6pGOw/wdjLFz4y7D8ksE8S10vsP3hhmlN0Zew/A6DgxBV/7D/iWAhGu5jsP2d69sVksuw/g1qcIRLM7D+K9UtUw+XsPzJ10pJ3/+w/XmnT0S4Z7T8OuMea6jLtPwefuz2qTO0/pY0oVW1m7T+b+8vQM4DtP/jq+KX9me0/jt/Qxsqz7T/MrGshm83tP230fp5u5+0/sDhcKEUB7j+2W4isHhvuP9WAIyP7NO4/5CYJmtpO7j9I+ZspwjrvPw==\",\"dtype\":\"float64\",\"shape\":[53]},{\"__ndarray__\":\"SPmbKcI67z97JRinsUfvPyJdXIn8GPA//ipa0w6H8D+8hwraie/wPzX8ughwU/E/MuuamXuz8T+EzFNPOBDyP6W0tWgSavI/FGIi41/B8j+sv6N7ZhbzP5u3z8ddafM/bpT4nHm68z937BmL4Qn0P/8OXDy4V/Q/rbAMARyk9D/MFCQsJ+/0PzSpzefwOPU/i/AsCo6B9T9SCjSEEcn1PyaEU5mLD/Y/0pdp3ApV9j8jbhA6nJn2P5IY/0ZM3fY/L5woHCYg9z+16ybzM2L3P9Kvjil/o/c/CbS8UhDk9z8XkCNc7yP4P+okjIIjY/g/M9Qxp7Oh+D9I4Xs6pt/4P4SN+i0BHfk/iTsT+8lZ+T9gb2vDBZb5P77cSnq50fk/6tpKyekM+j/KzWT3mkf6Px47DvvQgfo/bi4ypI+7+j93Mouq2vT6P6DYApS1Lfs/r2PojyNm+z/oTwabJ577P4ktIK3E1fs/sjaKq/0M/D8iuCVK1UP8P1qS8f1Nevw/cvsPHGqw/D94vcIFLOb8Pw==\",\"dtype\":\"float64\",\"shape\":[50]},{\"__ndarray__\":\"TTytbzEw6T+5x9OEWzLpP4vUSfeuNOk/g6B05Bk36T9s4DkflTnpPzPzsS0dPOk/jE0YI7A+6T/per3bTEHpP2afQZryQ+k/bWFw46BG6T+DqkNiV0npPzYBm90VTOk/MpfQK9xO6T/tsxgvqlHpP3Giadd/VOk/MIRHGF1X6T/EAEvpQVrpP1pTJkouXek/jtsvPCJg6T+9CTzDHWPpP4jF6eQgZuk/ruHzpStp6T/+j+0QPmzpPxWbcTJYb+k/7W/PFXpy6T+I7kfHo3XpPxT0clXVeOk/uWJYzQ586T9xmrE/UH/pP+KrC8CZguk/uHYsXeuF6T9B4BopRYnpP6S0RzinjOk/V770nBGQ6T8YfPBphJPpP6TrTrP/luk/o1fNj4Oa6T/bHjAWEJ7pP4H5wFuloek/u+RieEOl6T8+yZqC6qjpP5JF0JKarOk/Si4/wlOw6T9pjEYsFrTpP1X2huvht+k/XrW+Gbe76T8KHsPRlb/pP3xkwi9+w+k/bo7lUXDH6T+fC/BXbMvpP+yfIl9yz+k/rNXGhYLT6T8NwwzzivzpPwUN7t2TJuo/RoIOBdMq6j+xUZ5LFC/qP9tqZylYM+o/tjkToZ436j/HVs2o5zvqP+1ITXEzQOo/wLbpFYJE6j86hw6q00jqP/oPTEIoTeo/I3b08n9R6j8QifrO2lXqP1efoeg4Wuo/D0xxUZpe6j92o1Ua/2LqP2Tol1NnZ+o/3XrhDNNr6j9ohT5VQnDqPwUhHTu1dOo/d7RUzCt56j+7bSgWpn3qP5OaSSUkguo/YJraBaaG6j+Znh3DK4vqP6pCdme1j+o/I6PY/EKU6j/LWI+M1JjqP8VnOh9qneo/fsvXvAOi6j9RfvRsoabqP22iZjZDq+o/oCFeH+mv6j/1Emstk7TqP6g0fmVBueo/FBzvy/O96j9BJnpkqsLqP+TFPDJlx+o/z924NyTM6j89ZtV259DqPwDm7vCu1eo/P80Kp3ra6j8rDIeZSt/qP/yqNcge5Oo/m3FjMvfo6j+75trW0+3qP5EiBbS08uo//U3Wx5n36j/XA8UPg/zqPw==\",\"dtype\":\"float64\",\"shape\":[101]},{\"__ndarray__\":\"PnWDLqcR6T+HEY82EProP+tQW9bm4Og/DMgRrffG6D/YQV1HlazoPzri7BDokeg/GfaOsgZ36D+RkKwU/1voP8VKTz7aQOg/UABkhZ4l6D/7xoFeUAroP3msZCbz7uc/KLMfcYnT5z8NZV8wFbjnP34Lx/OXnOc/eEIXBxOB5z8I9tF9h2XnP668Qzv2Sec/2j6o5l8u5z8wUZQtxRLnP5BqG4Qm9+Y/+XeRcoTb5j9/SkpO37/mP4IuK303pOY/g960XY2I5j+wcNoo4WzmP4FlRRwzUeY/UDKWWoM15j+vxksy0hnmP41QwtUf/uU/CFphTmzi5T+RXoLOt8blP0diU4gCq+U/2A2khUyP5T81bGTjlXPlP0z7ucfeV+U/ud07WSc85T94pwKzbyDlP3mhKtq3BOU/4zD42P/o5D/UiWHQR83kP5pTvsGPseQ/a222yNeV5D+qa5H9H3rkP8YbsG5oXuQ/M8SiJ7FC5D+xv0Mi+ibkPx1oxHBDC+Q/SxG5KY3v4z/NXoBc19PjP9BTpw0iuOM/rbZkPlit4j9HuBMqSKHhP15dEz+KoeA/UmhQABNe3z9dhMJ6p47dP8Ctap9Z0ds/HH+IepYj2j8xUxMKZYPYP0n4+zs279Y/54Ozysll1T8RDC8MF+bTPyAqNIlDb9I/OQiWXJQA0T8Kut2J1zLPPzUeremCcsw/A9pxNDi/yT/0PbyNKRjHP4q2dVaafMQ/zPN/L+XrwT8HyeI+8cq+Px3We0eV0bk/qPnHGszqtD9BBfuqthWwPyvlTD8So6Y/cEm+fEZ2mj/irYxe8ZF/P5Sdox8444S/wbT2kkiOnL/0LzUw2jmnv7IMIcbwCLC/dlrtKB1otL9G0XTV/Lq4v5G9YQ63Ab2/N7lKQmGewL+Cjb60PbbCvyxzIMKfyMS/eOo/yrDVxr+Zbzu7l93Iv87bFYV54Mq/8s0qS3nezL8TwLCWuNfOv6lmi8QrZtC/olC/hjpe0b9mvRUoF1TSv0LD9n3PR9O/xkNU8HA51L/3L5RkCCnVv2jOHESiFta//SutSkoC17+rPvzVC+zXvw==\",\"dtype\":\"float64\",\"shape\":[101]},{\"__ndarray__\":\"X1iDLqcR6b9E/I42EProv3o/W9bm4Oi/9LgRrffG6L9gNF1Hlazov/bV7BDokei/w+qOsgZ36L/9hawU/1vov9BATz7aQOi/4fZjhZ4l6L8AvoFeUArov+KjZCbz7ue/6qofcYnT578cXV8wFbjnv9UDx/OXnOe/DTsXBxOB57/X7tF9h2Xnv7G1Qzv2See/Djio5l8u57+QSpQtxRLnvxlkG4Qm9+a/qXGRcoTb5r9TREpO37/mv3coK303pOa/l9i0XY2I5r/hatoo4Wzmv81fRRwzUea/uSyWWoM15r8vwUsy0hnmvyNLwtUf/uW/uFRhTmzi5b9UWYLOt8blvx5dU4gCq+W/xAikhUyP5b80Z2TjlXPlv132ucfeV+W/2tg7WSc85b+oogKzbyDlv7ucKtq3BOW/NCz42P/o5L81hWHQR83kvwpPvsGPseS/6Gi2yNeV5L8zZ5H9H3rkv1oXsG5oXuS/1b+iJ7FC5L9iu0Mi+ibkv9pjxHBDC+S/EQ25KY3v47+dWoBc19Pjv6xPpw0iuOO/3LJkPlit4r+4tBMqSKHhv/VZEz+KoeC/wmFQABNe378GfsJ6p47dv5Snap9Z0du/FnmIepYj2r9FTRMKZYPYv3vy+zs279a/LX6zysll1b9yBi8MF+bTv5IkNIlDb9K/uQKWXJQA0b9Hr92J1zLPv34TremCcsy/dc9xNDi/yb+PM7yNKRjHvyisdVaafMS/n+l/L+Xrwb+4tOI+8cq+v/bBe0eV0bm/1uXHGszqtL9j8fqqthWwvxK+TD8So6a/kfu9fEZ2mr/Odote8ZF/v+Q2pB8444Q/kQH3kkiOnD/3VTUw2jmnP5MfIcbwCLA/FG7tKB1otD+95HTV/Lq4P9vPYQ63Ab0/G8JKQmGewD9clr60PbbCP/x7IMKfyMQ/P/M/yrDVxj9XeDu7l93IP4HkFYV54Mo/ntYqS3nezD+3yLCWuNfOP/dqi8QrZtA/6VS/hjpe0T+owRUoF1TSP3/H9n3PR9M//UdU8HA51D8oNJRkCCnVP5bSHESiFtY/KDCtSkoC1z/TQvzVC+zXPw==\",\"dtype\":\"float64\",\"shape\":[101]},{\"__ndarray__\":\"Er4qxCJH6b8SnM+UmFzpv8DV22F+c+m/TCtRwhqL6b+4ecPqIqPpvxBgCz9yu+m/25n0LfTT6b+MKClAnOzpv2k9PStiBeq//eezSUAe6r9Pj8KEMjfqvxs7XOQ1UOq/kc9eGUhp6r8qAVA0Z4Lqv05FqPWRm+q/rFmLOce06r/CXs70Bc7qvxEvJnJN5+q/ufSXB50A67+VqJkO9Bnrv0WpV0lSM+u/pUfUGbdM67+1R4o8Imbrvy54R2CTf+u/9AjvDwqZ67+XVZdehrLrvxM1X7YHzOu/1D1fQI7l67/xaJuDGf/rv5kTWI6pGOy/pNHLFz4y7L8tqU8S10vsv5FamlN0Zey/QJngxBV/7L8tUghGu5jsv9Nz9sVksuy//VOcIRLM7L8e70tUw+Xsv3Ru0pJ3/+y/C2PT0S4Z7b/rscea6jLtv/eYuz2qTO2/qIcoVW1m7b+v9cvQM4Dtvx3l+KX9me2/wtnQxsqz7b8Np2shm83tv7nufp5u5+2/BDNcKEUB7r8SVoisHhvuvzp7IyP7NO6/WCEJmtpO7r93IBinsUfvv9BaXIn8GPC/1Sha0w6H8L+whQraie/wvz/6ughwU/G/T+mamXuz8b+xylNPOBDyv+CytWgSavK/W2Ai41/B8r8AvqN7Zhbzv/i1z8ddafO/rZL4nHm687/B6hmL4Qn0v1INXDy4V/S/Da8MARyk9L88EyQsJ+/0v7SnzefwOPW/Ke8sCo6B9b8ICTSEEcn1v9eCU5mLD/a/QpZp3ApV9r91bBA6nJn2v+YW/0ZM3fa/hJooHCYg978c6ibzM2L3vz6ujil/o/e/ebK8UhDk9797jiNc7yP4v0EjjIIjY/i/kdIxp7Oh+L+733s6pt/4v/qL+i0BHfm/7jkT+8lZ+b/IbWvDBZb5vzvbSnq50fm/gdlKyekM+r9gzGT3mkf6v5w5DvvQgfq/7ywypI+7+r8YMYuq2vT6v1PXApS1Lfu/WWLojyNm+795TgabJ577vyMsIK3E1fu/dTWKq/0M/L/vtiVK1UP8vxCR8f1Nevy/FvoPHGqw/L8tvMIFLOb8vw==\",\"dtype\":\"float64\",\"shape\":[101]},{\"__ndarray__\":\"nH+tbzEw6b9K+dOEWzLpvyz9SfeuNOm/n8N05Bk36b+7/zkflTnpv7APsi0dPOm/12cYI7A+6b9xk73bTEHpv3q2QZryQ+m/Rndw46BG6b9Ov0NiV0npvxYVm90VTOm/QqrQK9xO6b9GxhgvqlHpvyW0add/VOm/T5VHGF1X6b9aEUvpQVrpv3NjJkouXem/NesvPCJg6b/7GDzDHWPpv2PU6eQgZum/LvDzpStp6b8qnu0QPmzpv/KocTJYb+m/gH3PFXpy6b/V+0fHo3Xpvx8Bc1XVeOm/hm9YzQ586b8Cp7E/UH/pvzu4C8CZgum/3IIsXeuF6b8y7BopRYnpv2TARzinjOm/6Mn0nBGQ6b98h/BphJPpv972TrP/lum/s2LNj4Oa6b/EKTAWEJ7pv0QEwVuloem/Wu9ieEOl6b+705qC6qjpv+1P0JKarOm/hDg/wlOw6b+DlkYsFrTpv1EAh+vht+m/Pb++Gbe76b/MJ8PRlb/pvyJuwi9+w+m/+pflUXDH6b8RFfBXbMvpv0WpIl9yz+m/7d7GhYLT6b+Eywzzivzpv9cU7t2TJuq/IooOBdMq6r9/WZ5LFC/qv5pyZylYM+q/bkEToZ436r93Xs2o5zvqv5BQTXEzQOq/V77pFYJE6r/Hjg6q00jqv3sXTEIoTeq/mH308n9R6r96kPrO2lXqv7amoeg4Wuq/Y1NxUZpe6r/AqlUa/2Lqv6Tvl1NnZ+q/E4LhDNNr6r+VjD5VQnDqvygoHTu1dOq/kLtUzCt56r/LdCgWpn3qv5qhSSUkguq/XqHaBaaG6r+OpR3DK4vqv5dJdme1j+q/CKrY/EKU6r+nX4+M1Jjqv5luOh9qneq/StLXvAOi6r8VhfRsoabqvyqpZjZDq+q/ViheH+mv6r+jGWstk7Tqv087fmVBueq/tCLvy/O96r/aLHpkqsLqv3bMPDJlx+q/WuS4NyTM6r/CbNV259Dqv3/s7vCu1eq/uNMKp3ra6r+eEoeZSt/qv2ixNcge5Oq/AXhjMvfo6r8b7drW0+3qv+woBbS08uq/UVTWx5n36r8mCsUPg/zqvw==\",\"dtype\":\"float64\",\"shape\":[101]}],\"ys\":[{\"__ndarray__\":\"AqWNvNbs1b+NKUL1JMrVv+LlK88mpdW/rYUVxQl/1b+hthFvR1jVv68yJ08bMdW/QWdWzqYJ1b++v9cr/uHUv106W9UuutS/ajB78UGS1L8pP6UaPmrUv0Vy/BgoQtS/iWermgMa1L8nbUq00/HTvwbxSGuaydO/+5stm1mh0795UpXLEnnTv1MwBirHUNO/xY+joXco078p3UkVJQDTvxziODfQ19K/rkKRtHmv0r+5cwIeIofSvwchF7PJXtK/l98J7nA20r+6nf4eGA7Sv7Wfs4e/5dG/+FXte2e90b+knvwuEJXRvzctKbS5bNG/nHOHOmRE0b/A3fT2DxzRv6f90/a889C/xV7YWGvL0L/GOvQ7G6PQvzha/rXMetC/f9eD5X9S0L9ifcbBNCrQv1hitk3rAdC/q3rPUkezz7/VGbWPu2LPvxwK73kzEs+/sgn0Fq/Bzr/SB0dbLnHOv218hWuxIM6/BhyOPTjQzb8eDJ7Twn/Nv8ac4BNRL82/ByIv7OLezL/CeJZseI7Mv2pY2pQRPsy/WhH2yDs3yb/yVpv09SPHvw==\",\"dtype\":\"float64\",\"shape\":[53]},{\"__ndarray__\":\"8lab9PUjx79T2Q6tryzGv9zfrF/lPcO/TPkZ9rdywL8MPtLUjIe7v1088FyfV7a/b9meGuNNsb/gBbuJtsiov85DxqE8WZ6/hC/0vXj/hr/wNgkyhx58Pyt6ubhkR5k/D9mC3zmkpT8+vr9VPImuP9HRZ2sFq7M/eJYp3MYGuD+wgVIjLFm8P2v8iZCtUcA/m1crji1zwj97qWwqjJHEPwuBYrk0rcY/ZnnVr4nGyD8eNazt5N3KPy0JpeyY88w/CfKZ/PEHzz/dit9Cm43QP1klTbbTltE/bjlB3L6f0j8R3rlneKjTP1FWZjAfsdQ/bNVuFsi51T89DyUrisLWP3ch/Xd4y9c/t84tUaXU2D802S4wId7ZPy3uhsz659o/1vxdFT/y2z+kxYAk+fzcP3MwBREyCN4/WFdTCvET3z8IOrWhHRDgP+nu7vOJluA/sjvwCD4d4T/gfs9fOaThP+dkw2R6K+I/Zw84bv6y4j+YyKC1wTrjP/fW+1K/wuM/uJQaOPFK5D82DcB1UNPkPw==\",\"dtype\":\"float64\",\"shape\":[50]},{\"__ndarray__\":\"IOK/Lb1S1r8anMKw0IXWv7jMhJRLvNa/1Umf5nP01r+ZQm9aly3XvzbN9KleZ9e/Wv6AyJih17/Z4/f6J9zXv8+hRXX4Fti/myr0x/xR2L8d2C00K43Yv5IB06B8yNi/ejW9d+sD2b/b6i5Qcz/Zv9p1NAQRe9m/bw8IycG22b84k9U+g/LZv6+IzrlTLtq/xX2toDFq2r+6qpOuG6bav0MwGq0Q4tq/Sc0keg8e278ua1xpF1rbv5PzY7cnltu/mYuSzz/S27+gA20GXw7cvxaLAdeESty/l3CJvbCG3L9nqrpq4sLcv2y9y40Z/9y/T4yWrVU73b+xRMmOlnfdv28OIuXbs92/5xHaYSXw3b9CxMm8cizev9wc8bbDaN6/q/g+Qxil3r/SH+MNcOHev6cCMPvKHd+/2a65zCha378fYKFWiZbfv12BtHLs0t+/1UjKBKkH4L/WTBIC3SXgv9PXvhYSROC/0lc8L0hi4L+XvjY5f4Dgv0w8Piq3nuC/QkXk/O+84L+r3uafKdvgv1uEogFk+eC/vpRdwmAX4b/XqZrb4DLiv921ytLKTeK/FitLqHlo4r87LEP87oLiv8U4ylksneK/m7wyOjO34r8jnlYIBdHivzjT/hyj6uK/ARngug4E4788WwcZSR3jv9bmul5TNuO/M3+ooy5P47+7Im7+22fjv4dimntcgOO/IfgmG7GY47+e15PU2rDjv6sBSJbayOO/w5sAQbHg47/VumyuX/jjv5bJXK/mD+S/nq45C0cn5L+b246HgT7kvxJMhOmWVeS/0ixS7Yds5L+EPEdLVYPkv2NL1Lf/meS/irst24ew5L/zZvBY7sbkv0JqM9Az3eS/T6Gx2Vjz5L8uRuQKXgnlvyjU3/1DH+W/aC2mRQs15b8k6qZytErlv2lrmxNAYOW/Lefwr6515b/y4G7JAIvlv/1CTeA2oOW/296WcFG15b+ky8LyUMrlv+cnx+I13+W/DrnyuAD05b/qPhvrsQjmv8i+3+1JHea/uFjgN8kx5r+FzT5DMEbmv5TFVIJ/Wua/ZG8CX7du5r90DvI22ILmvw==\",\"dtype\":\"float64\",\"shape\":[101]},{\"__ndarray__\":\"px2cZh4U1r+H6R4juQnWv3Hyrgdl+tW/GPuqrmzp1b/DSgK+wtfVv9pS/ZW9xdW/GyXFXoSz1b/shGh3K6HVv5d7477AjtW/koQcG0h81b/xz97ryGnVv4H134FGV9W/xkMujcNE1b/5b1ftQTLVv1dsVSPDH9W/seeTXkgN1b9OmYNo0vrUv1SkJgdi6NS/+NCIvPfV1L9v/1UOlMPUv0n56lg3sdS/YPWs++Ge1L9SGFcVlIzUv1f3JgFOetS/VQldyA9o1L9gP4Cp2VXUvxpp56+rQ9S/nh/u+4Ux1L/M2bS5aB/UvxYZuc9TDdS/mBgeUEf7078tBgtmQ+nTv7xSXfZH19O/D6tMA1XF07/4ViutarPTvxYE7NqIodO/RvoeiK+P07/gtHPN3n3TvwaMxbAWbNO/dZgbDlda079SJJjNn0jTv8dVkAzxNtO/tu3n10ol079R/wQPrRPTvwVEtJAXAtO/riFtb4rw0r/LNoS2Bd/Svx13bUqJzdK/hNHVDhW80r+qMrcGqarSv9V5VjpFmdK/5JUjsOmH0r+vDQ5MlnbSv658iHm+0dG/rcChvJA00b+f0rdcl6PQv/aQjh8/HNC/IKeU5I05z7+xEWa+1EfOv6jW02ltYc2/P6cs2t6EzL/0vxx0/bDLv5xQYKzV5Mq/EHQKrJ4fyr+xIO84sGDJvx5SF357p8i/zpXE94Xzx795INePZUTHv0/X+Lu9mca/iDxb3Dzzxb9H0nECm1DFv4R1cfuXscS/spKgBfoVxL9F9vWIjX3Dv7Lzo7oj6MK/mlmJPpJVwr8/FfOAssXBv8FJm85gOMG/6UVx+3ytwL/w+6UN6STAv4sSarASPb+/30RWXYk0vr+b2Di3BjC9v5GmWxNfL7y/jHWNmmkyu7/aEXz3/zi6vxPW1cD+Qrm/goN6cERQuL/bD0+5sWC3vxy2pz8pdLa/tAqdO4+Ktb/jzU2oyaO0vxSUC9u/v7O/UDLUilresr+UqJDFg/+xv5bYzacmI7G/CHYDSy9JsL+qP1i8FeOuv2iSXExPOK2/IzLJLOmRq7+bH6O0wu+pvw==\",\"dtype\":\"float64\",\"shape\":[101]},{\"__ndarray__\":\"1BCcZh4U1j9w5B4juQnWPwvvrgdl+tU/c/iqrmzp1T+rSAK+wtfVP3FQ/ZW9xdU/XSPFXoSz1T9fg2h3K6HVP117477AjtU/o4QcG0h81T/hz97ryGnVP7H134FGV9U/EEQujcNE1T9ocFftQTLVP9NsVSPDH9U/XeiTXkgN1T/XmYNo0vrUP9OkJgdi6NQ/ktGIvPfV1D/u/1UOlMPUPwj66lg3sdQ/9PWs++Ge1D8BGVcVlIzUPyT4JgFOetQ/+AldyA9o1D81QICp2VXUP7dp56+rQ9Q/iyDu+4Ux1D/p2rS5aB/UP74Zuc9TDdQ/dxkeUEf70z9UBwtmQ+nTP3hTXfZH19M/8atMA1XF0z8OWCutarPTP9cE7NqIodM/+PoeiK+P0z8ZtnPN3n3TP3eNxbAWbNM/QZkbDlda0z/7JJjNn0jTP95WkAzxNtM/JO/n10ol0z9hAAUPrRPTP75EtJAXAtM/ryJtb4rw0j8ZOIS2Bd/SPyR4bUqJzdI/ONLVDhW80j9RM7cGqarSPw17VjpFmdI/i5cjsOmH0j9eDw5MlnbSPxZ+iHm+0dE/E8KhvJA00T/G0rdcl6PQPwWRjh8/HNA/36eU5I05zz8yEma+1EfOP/XW02ltYc0/uKcs2t6EzD9BwBx0/bDLP3dQYKzV5Mo/+nMKrJ4fyj+tIO84sGDJP0ZSF357p8g/CZbE94Xzxz8BIdePZUTHP8jX+Lu9mcY/8Dxb3DzzxT8n03ECm1DFP3x2cfuXscQ/KpOgBfoVxD/49vWIjX3DPxP0o7oj6MI/KFuJPpJVwj/5FvOAssXBP+JKm85gOME/rUdx+3ytwD8H/KUN6STAPx0TarASPb8/yUVWXYk0vj/K2Di3BjC9P/KnWxNfL7w/aHaNmmkyuz+2Enz3/zi6P0rX1cD+Qrk/tYN6cERQuD9XEE+5sWC3P162pz8pdLY/oAqdO4+KtT/1zU2oyaO0P6OTC9u/v7M/XTLUilresj9HqZDFg/+xP5XZzacmI7E/AnYDSy9JsD8jQVi8FeOuP42VXExPOK0/mDXJLOmRqz/9H6O0wu+pPw==\",\"dtype\":\"float64\",\"shape\":[101]},{\"__ndarray__\":\"2AmOvNbs1T/ic0L1JMrVP9oiLM8mpdU/aroVxQl/1T+y5RFvR1jVP4tdJ08bMdU/245WzqYJ1T+35Ncr/uHUPyxdW9UuutQ/ZFF78UGS1D+RXqUaPmrUP1GQ/BgoQtQ/ZISrmgMa1D/xiEq00/HTP9wLSWuaydM/9LUtm1mh0z+ra5XLEnnTP81IBirHUNM/l6ejoXco0z9h9EkVJQDTP8T4ODfQ19I/0ViRtHmv0j9hiQIeIofSPzs2F7PJXtI/YPQJ7nA20j8csv4eGA7SP7ezs4e/5dE/oGnte2e90T/3sfwuEJXRPzpAKbS5bNE/UYaHOmRE0T8s8PT2DxzRP80P1Pa889A/qHDYWGvL0D9pTPQ7G6PQP51r/rXMetA/quiD5X9S0D9YjsbBNCrQPxdztk3rAdA/w5vPUkezzz+NOrWPu2LPP3Mq73kzEs8/sCn0Fq/Bzj92J0dbLnHOP7mbhWuxIM4/ADuOPTjQzT/JKp7Twn/NPyu74BNRL80/I0Av7OLezD+VlpZseI7MP/d12pQRPsw/oSz2yDs3yT/Q8g6tryzGPyr4rF/lPcM/cxAa9rdywD+zatLUjIe7P6Jn8FyfV7Y/YgOfGuNNsT/KV7uJtsioP+jjxqE8WZ4/eGj1vXj/hj9U0AYyhx58v1zjuLhkR5m/446C3zmkpb8bdb9VPImuv8mtZ2sFq7O/9XIp3MYGuL+UXlIjLFm8vwfriZCtUcC/VEYrji1zwr93mGwqjJHEvz9wYrk0rca/xmjVr4nGyL+sJKzt5N3Kv+/4pOyY88y/9uGZ/PEHz7/lgt9Cm43Qv44dTbbTltG/VDJB3L6f0r8v17lneKjTvxFPZjAfsdS/J85uFsi51b/0ByUrisLWvz4a/Xd4y9e/lMctUaXU2L8o0i4wId7Zvzbnhsz659q/8PVdFT/y27/NvoAk+fzcv7ApBREyCN6/q1BTCvET37++NrWhHRDgv6vr7vOJluC/gDjwCD4d4b+4e89fOaThv8Rhw2R6K+K/SAw4bv6y4r9/xaC1wTrjv+3T+1K/wuO/05EaOPFK5L9VCsB1UNPkvw==\",\"dtype\":\"float64\",\"shape\":[101]},{\"__ndarray__\":\"h/2/Lb1S1j9TsMKw0IXWP1HdhJRLvNY/M1if5nP01j9pT29aly3XP+TY9KleZ9c/JQmByJih1z/x7ff6J9zXP06rRXX4Ftg/mjP0x/xR2D+v4C00K43YP8kJ06B8yNg/Wj29d+sD2T9y8i5Qcz/ZPy59NAQRe9k/hxYIycG22T8XmtU+g/LZP1+PzrlTLto/R4StoDFq2j8TsZOuG6baP3U2Gq0Q4to/UtMkeg8e2z8XcVxpF1rbP1r5Y7cnlts/QpGSzz/S2z8tCW0GXw7cP4eQAdeEStw/7XWJvbCG3D+mr7pq4sLcP5TCy40Z/9w/YZGWrVU73T+wScmOlnfdP1sTIuXbs90/wBbaYSXw3T8Jycm8cizeP5Eh8bbDaN4/T/0+Qxil3j9mJOMNcOHePysHMPvKHd8/TrO5zCha3z+GZKFWiZbfP7aFtHLs0t8/+0rKBKkH4D/1ThIC3SXgP+rZvhYSROA/41k8L0hi4D+jwDY5f4DgP1E+Piq3nuA/Qkfk/O+84D+m4OafKdvgP1CGogFk+eA/rpZdwmAX4T+aq5rb4DLiP5y3ytLKTeI/0yxLqHlo4j/2LUP87oLiP3s6ylksneI/Tr4yOjO34j/Tn1YIBdHiP+TU/hyj6uI/rBrgug4E4z/jXAcZSR3jP3voul5TNuM/1oCooy5P4z9cJG7+22fjPyRkmntcgOM/vPkmG7GY4z832ZPU2rDjP0IDSJbayOM/WJ0AQbHg4z9ovGyuX/jjPyjLXK/mD+Q/LLA5C0cn5D8o3Y6HgT7kP51NhOmWVeQ/Wi5S7Yds5D8MPkdLVYPkP+pM1Lf/meQ/Eb0t24ew5D95aPBY7sbkP8ZrM9Az3eQ/0aKx2Vjz5D+uR+QKXgnlP6bV3/1DH+U/5S6mRQs15T+i66ZytErlP+dsmxNAYOU/q+jwr6515T9w4m7JAIvlP3pETeA2oOU/VuCWcFG15T8dzcLyUMrlP18px+I13+U/hbryuAD05T9gQBvrsQjmP0DA3+1JHeY/N1rgN8kx5j8Rzz5DMEbmPzHHVIJ/WuY/E3ECX7du5j8wEPI22ILmPw==\",\"dtype\":\"float64\",\"shape\":[101]},{\"__ndarray__\":\"katRwMeX5T9CDNDemablP473ca9ltuU/LnFYVKrG5T964HLPM9flP4ueDKzo5+U/MXpBnLr45T95UpTzoAnmPxkNTe6VGuY/kRGBn5Ur5j9ghAcwnTzmP6dTxY+qTeY/MidSJbxe5j/nzOyZ0G/mP6IaGhHngOY/nRa2wf6R5j8vqgf2FqPmP9wX3zIvtOY/6mFoBUfF5j9c0Ev8XdbmP27yx/Bz5+Y/XBqueYj45j9AsVNrmwnnP3UhnpKsGuc/62BupLsr5z8s5kCuyDznP7M5M1TTTec/tK1Nr9te5z/wAd154W/nP9Wrg7vkgOc/QbmjTeWR5z/faB8o46LnP97L3Dbes+c/rmjIbdbE5z9aITm/y9XnP+yU7yK+5uc/QuICi6335z/lta71mQjoP4eE3Q6DGeg/TA5s0Wgq6D/aFpnlSzvoP3lQsAUsTOg/ExLoCQld6D/2R17u4m3oP+hGmLG5fug/xSPwUI2P6D/XNCLJXaDoP+QvgBYrseg/Y7W7NPXB6D9kEzMhvNLoPxyCUt1/4+g/1I+ZcUD06D/KnHuZDYzpPw==\",\"dtype\":\"float64\",\"shape\":[53]},{\"__ndarray__\":\"ypx7mQ2M6T8IJbV/YJTpP7yWJOeRKeo/embXqni06j8ijuWyPDfrP2a/BrVYs+s/OlZqkd4p7D9/vulbnJvsP7PFmv4xCe0/ka9mqx5z7T89MVOdydntP1FHQs6HPe4/vBBQ+qCe7j9hqBp6Uf3uP9V8bAnNWe8/3HLhaUC07z9sO3ZfaQbwP2UGvi7TMfA/Zywsymxc8D/4lMKeQ4bwP6vQ7tpjr/A/r2qfRNjX8D8GTxp5qv/wPzEWooLjJvE/QfYXZ4tN8T/KscKOqXPxPyEJcr1EmfE/2pF3IGO+8T+AwMlwCuPxPyXveOc/B/I/b/hIcAgr8j8GpxmgaE7yP86R8bNkcfI/WoIylgCU8j+eOP/uP7byPxze+jkm2PI/enyHurb58j+/SH939BrzPzCHMUPiO/M/HIZpzIJc8z+B8BGl2HzzPyLE3DrmnPM/0AQ/za288z/lkEd6MdzzPzGPIk5z+/M/qwCFP3Ua9D9phEsoOTn0PyyHFMPAV/Q/WwCMtA129D/lbq2XIZT0Pw==\",\"dtype\":\"float64\",\"shape\":[50]},{\"__ndarray__\":\"o5UyCkVn5T8jXjy/Rk3lP7gkM4+NMeU/y09FpvoU5T/fU1bc6PfkPyfTaamE2uQ/1y5tC+e85D+BnVkpH5/kP6u9Thk3geQ/t0tJtTVj5D+MG0b1H0XkP8SO8Hf5JuQ/jKugFMUI5D8kXd4PherjP1wdrgE7zOM/KTc8V+it4z8fc1JGjo/jPxynrq8tceM/f7ycW8dS4z9yJ2D3WzTjPwTiUBzsFeM/ytgWXnj34j9dk8AlAdniPzB1h8KGuuI/oeLpjQmc4j+R+xfeiX3iP70F6+0HX+I/5KelDIRA4j+Rw1pq/iHiP5GY8SB3A+I/z34Icu7k4T8b1iCIZMbhP/65D37Zp+E/qZJOgU2J4T94Kc20wGrhP+Y4T0AzTOE/2oaWNKUt4T9MFC2lFg/hP+z9NbiH8OA/VJj8efjR4D8Ra6MPabPgP5eQI4rZlOA/GzLK/0l24D/n18B4ulfgP6ieSAYrOeA/MlqCwpsa4D/aEn+EGfjfP3mHKTH8ut8/5VLhod993z+GZUjjw0DfPzdhJRupA98/6z5Ibo/G3j8AQUNcdn3cP9Sxu4I8XNo/+Lbj++Un2j9v7f906/PZP93OwHRKwNk/AF3m9wCN2T89jUIYDVrZP+rop9dsJ9k/A6lOWB712D9oG7HRH8PYP2FjpYtvkdg/x/DD3Atg2D9oh+Ao8y7YP1kXteEj/tc/vcG8h5zN1z+mhRimW53XP2uZ3NJfbdc/8Ww5rqc91z8e8TriMQ7XPzPnXCf93tY/BPbfPQiw1j9G1s/tUYHWPy99NgfZUtY/Msd9YZwk1j+uBBremvbVP04k+WfTyNU/A0Gs7kSb1T+ELipo7m3VP1syWdDOQNU/OdyAKeUT1T+Y5ZCAMOfUPyeBJ+avutQ/+fHGb2KO1D8STRM4R2LUP8Ztg15dNtQ/SUzQCaQK1D+d9W1mGt/TP5hqO6S/s9M/HmmV95KI0z8tNRyZk13TP4wVJsbAMtM/+2quwhkI0z9gBqfVnd3SP3r840lMs9I/fQAjbiSJ0j81WOqUJV/SP1vzlhVPNdI/ULNWS6AL0j+KT5GUGOLRPw==\",\"dtype\":\"float64\",\"shape\":[101]},{\"__ndarray__\":\"RVg72WST5T+gpRyFjp7lP+v5B4N3quU/jdHIMr+25T8IQD6hPsPlP0gYMMPiz+U/ZLxO8aDc5T+BoeOmcunlPywzDq1T9uU/yzljEkED5j/rNafIOBDmPw55qkU5HeY/TVqFXUEq5j9m3mExUDfmP7iEPhBlROY/yvPjaH9R5j9eRazEnl7mP/BqMcPCa+Y/GQb/IOt45j+otomWF4bmPyp5EvhHk+Y/mKOQD3yg5j8+7TW/s63mP9ZrG+HuuuY/z+6cUi3I5j+DgJACb9XmP9zF092z4uY/CLkl3vvv5j9d1YbnRv3mPx05OuuUCuc/tLxK7uUX5z+5EDriOSXnPzxSWriQMuc/VERMdOo/5z97W/EQR03nP5c6PYWmWuc/usMjyAho5z9DIJDUbXXnP0Iuhq/Vguc/7fX8W0CQ5z/salXTrZ3nP1q01B0eq+c/MYDNNZG45z+h9GcWB8bnP0Nikr9/0+c/aHsDNPvg5z+7HLR+ee7nP3vOJJ76++c/mehYjn4J6D/AFNNOBRfoPx4iheSOJOg/81Qd6omn6D9yPNM3XizpP/MPuMRPrOk/jRtf8Mom6j+WE6sn7ZzqP8rn4zN/D+s/ZIloqxR/6z9y6GmNHezrP2ePqn7xVuw/MEFA6dW/7D+I04iQAyftP4r+fLqojO0/tQ6SPezw7T81v/l97lPuP6c6RhHLte4/HxyFBJoW7z/Slj9/b3bvP2nfQohd1e8/Xo/X1LkZ8D+othGoX0jwP92e+W6mdvA/QUfjW5Ok8D/swD06K9LwP8TLKVRy//A/BTTXWWws8T/EhOzRHFnxPxp7ScGGhfE/qWVF8Kyx8T9RPGrykd3xP/TonwQ4CfI/MPalW6E08j+ND90w0F/yP9aGH5fFivI/5oznZIO18j+rDVAXC+DyP3HcxiFeCvM/Nxb0y3008z8LXIpEa17zP93MOKUniPM/+Icl9LOx8z+y1b8mEdvzP7+f7CNABPQ/5TRBxkEt9D/zixLZFlb0P+JqChvAfvQ/NimrQz6n9D8nEgEDks/0P4yL0AG89/Q/kCbW1rwf9T9DzyoVlUf1Pw==\",\"dtype\":\"float64\",\"shape\":[101]},{\"__ndarray__\":\"OBs72WST5b+ceByFjp7lv/rUB4N3quW/k7HIMr+25b9+Iz6hPsPlv0b+L8Piz+W/W6RO8aDc5b8Ni+OmcunlvwYeDq1T9uW/vCVjEkED5r/OIqfIOBDmv8JmqkU5Hea/ukiFXUEq5r94zWExUDfmv1x0PhBlROa/8+PjaH9R5r//NazEnl7mv/5bMcPCa+a/jPf+IOt45r94qImWF4bmv1BrEvhHk+a/DpaQD3yg5r/+3zW/s63mv9teG+Huuua/FuKcUi3I5r8JdJACb9Xmv5u5092z4ua//qwl3vvv5r+IyYbnRv3mv3otOuuUCue/PrFK7uUX579wBTriOSXnvx1HWriQMue/XjlMdOo/57+rUPEQR03nv+0vPYWmWue/NLkjyAho57/eFZDUbXXnv/0jhq/Vgue/yOv8W0CQ57/lYFXTrZ3nv26q1B0eq+e/YXbNNZG457/s6mcWB8bnv6pYkr9/0+e/53EDNPvg579RE7R+ee7nvyjFJJ76++e/Xd9Yjn4J6L+aC9NOBRfovwwZheSOJOi/lEwd6omn6L+fNNM3Xizpv5MIuMRPrOm/hxRf8Mom6r/ZDKsn7Zzqv07h4zN/D+u/H4NoqxR/679f4mmNHezrv36Jqn7xVuy/bjtA6dW/7L/pzYiQAyftvwz5fLqojO2/VAmSPezw7b/tufl97lPuv3o1RhHLte6/CBeFBJoW77/QkT9/b3bvv37aQohd1e+/8YzX1LkZ8L9FtBGoX0jwv4Sc+W6mdvC/7kTjW5Ok8L+hvj06K9Lwv4HJKVRy//C/yTHXWWws8b+PguzRHFnxv+t4ScGGhfG/f2NF8Kyx8b8tOmrykd3xv9fmnwQ4CfK/GvSlW6E08r98Dd0w0F/yv8eEH5fFivK/24rnZIO18r+lC1AXC+Dyv3DaxiFeCvO/OxT0y300878TWopEa17zv+nKOKUniPO/CYYl9LOx87/H078mEdvzv9id7CNABPS/AjNBxkEt9L8UihLZFlb0vwdpChvAfvS/XierQz6n9L9TEAEDks/0v7yJ0AG89/S/wyTW1rwf9b95zSoVlUf1vw==\",\"dtype\":\"float64\",\"shape\":[101]},{\"__ndarray__\":\"GeNRwMeX5b8jNdDemablvwkZcq9ltuW/GI5YVKrG5b8/+nLPM9flv/q1DKzo5+W/0I9BnLr45b+iZpTzoAnmvwsgTe6VGua/fSOBn5Ur5r9slQcwnTzmv+9jxY+qTea/zjZSJbxe5r/q2+yZ0G/mvx0pGhHngOa/myS2wf6R5r+8twf2FqPmvwMl3zIvtOa/sG5oBUfF5r/L3Ev8Xdbmv47+x/Bz5+a/LSaueYj45r/OvFNrmwnnv74snpKsGue/9mtupLsr57/98ECuyDznv0lEM1TTTee/GrhNr9te578gDN154W/nv921g7vkgOe/FsOjTeWR57+Pch8o46Lnv2DV3Dbes+e/D3LIbdbE57+RKjm/y9XnvwOe7yK+5ue/NOsCi63357+5vq71mQjovwqN3Q6DGei/yhZs0Wgq6L9EH5nlSzvov8hYsAUsTOi/SBroCQld6L8RUF7u4m3ov+pOmLG5fui/sCvwUI2P6L+qPCLJXaDov543gBYrsei/BL27NPXB6L/tGjMhvNLov42JUt1/4+i/MJeZcUD06L/RK7V/YJTpvxadJOeRKeq/f2zXqni06r/hk+WyPDfrv+jEBrVYs+u/h1tqkd4p7L+fw+lbnJvsv6nKmv4xCe2/Y7Rmqx5z7b/vNVOdydntv+VLQs6HPe6/MRVQ+qCe7r+/rBp6Uf3uvx2BbAnNWe+/EHfhaUC07797PXZfaQbwv2gIvi7TMfC/Wy4symxc8L/jlsKeQ4bwv4fS7tpjr/C/ZmyfRNjX8L+tUBp5qv/wv9UXooLjJvG/2fcXZ4tN8b9ks8KOqXPxv7IKcr1EmfG/aJN3IGO+8b8BwslwCuPxv5fweOc/B/K/3PlIcAgr8r92qBmgaE7yvzyT8bNkcfK/vYMylgCU8r/8Of/uP7byv3vf+jkm2PK/4H2Hurb58r8iSn939Brzv4aIMUPiO/O/bYdpzIJc87/Y8RGl2Hzzv33F3DrmnPO/JwY/za28878ykkd6Mdzzv3uQIk5z+/O//gGFP3Ua9L+9hUsoOTn0v3mIFMPAV/S/oQGMtA129L8qcK2XIZT0vw==\",\"dtype\":\"float64\",\"shape\":[101]},{\"__ndarray__\":\"KJsyCkVn5b8uYjy/Rk3lvwIoM4+NMeW/nVJFpvoU5b9eVlbc6Pfkv2bVaamE2uS/5DBtC+e85L9kn1kpH5/kv22/Thk3geS/XE1JtTVj5L8ZHUb1H0XkvzyQ8Hf5JuS/8qygFMUI5L96Xt4Pherjv6IergE7zOO/YDg8V+it479IdFJGjo/jvziorq8tceO/kL2cW8dS4794KGD3WzTjvwDjUBzsFeO/vdkWXnj34r9IlMAlAdnivxR2h8KGuuK/fOPpjQmc4r9m/BfeiX3iv4sG6+0HX+K/q6ilDIRA4r9TxFpq/iHiv02Z8SB3A+K/hX8Icu7k4b/M1iCIZMbhv6q6D37Zp+G/T5NOgU2J4b8aKs20wGrhv4I5T0AzTOG/c4eWNKUt4b/hFC2lFg/hv33+NbiH8OC/4Jj8efjR4L+Ya6MPabPgvxqRI4rZlOC/mzLK/0l24L9l2MB4ulfgvyKfSAYrOeC/qFqCwpsa4L+/E3+EGfjfv1aIKTH8ut+/vVPhod99379ZZkjjw0DfvwRiJRupA9+/sT9Ibo/G3r+PQUNcdn3cv3ayu4I8XNq/gbfj++Un2r/77f906/PZv2zPwHRKwNm/i13m9wCN2b/IjUIYDVrZv3rpp9dsJ9m/mKlOWB712L8BHLHRH8PYv/9jpYtvkdi/afHD3Atg2L8PiOAo8y7YvwQYteEj/te/bMK8h5zN179ahhimW53XvySa3NJfbde/r205rqc917/j8TriMQ7Xv/3nXCf93ta/0vbfPQiw1r8Y18/tUYHWvwd+NgfZUta/D8h9YZwk1r+QBRremvbVvzQl+WfTyNW/7kGs7kSb1b9zLypo7m3Vv1AzWdDOQNW/NN2AKeUT1b+Y5pCAMOfUvyqCJ+avutS/AfPGb2KO1L8fThM4R2LUv9dug15dNtS/X03QCaQK1L+29m1mGt/Tv7ZrO6S/s9O/QWqV95KI079UNhyZk13Tv7kWJsbAMtO/K2yuwhkI07+VB6fVnd3Sv7P940lMs9K/ugEjbiSJ0r92WeqUJV/Sv6H0lhVPNdK/mrRWS6AL0r/YUJGUGOLRvw==\",\"dtype\":\"float64\",\"shape\":[101]}]},\"selected\":{\"id\":\"1103\"},\"selection_policy\":{\"id\":\"1104\"}},\"id\":\"1059\",\"type\":\"ColumnDataSource\"},{\"attributes\":{\"icon\":null,\"js_event_callbacks\":{\"button_click\":[{\"id\":\"1083\"}]},\"label\":\"Hide data points\"},\"id\":\"1082\",\"type\":\"Button\"},{\"attributes\":{\"fill_color\":{\"value\":null},\"line_color\":{\"value\":\"#e6550D\"},\"line_width\":{\"value\":3},\"size\":{\"units\":\"screen\",\"value\":10},\"x\":{\"field\":\"x\"},\"y\":{\"field\":\"y\"}},\"id\":\"1043\",\"type\":\"Circle\"},{\"attributes\":{\"fill_alpha\":{\"value\":0.1},\"fill_color\":{\"value\":\"#e6550D\"},\"line_alpha\":{\"value\":0.1},\"line_color\":{\"value\":\"#e6550D\"},\"line_width\":{\"value\":3},\"size\":{\"units\":\"screen\",\"value\":10},\"x\":{\"field\":\"x\"},\"y\":{\"field\":\"y\"}},\"id\":\"1051\",\"type\":\"X\"},{\"attributes\":{},\"id\":\"1005\",\"type\":\"PanTool\"},{\"attributes\":{\"icon\":null,\"js_event_callbacks\":{\"button_click\":[{\"id\":\"1079\"}]},\"label\":\"Redraw arrows\"},\"id\":\"1078\",\"type\":\"Button\"},{\"attributes\":{},\"id\":\"1097\",\"type\":\"Selection\"},{\"attributes\":{},\"id\":\"1099\",\"type\":\"Selection\"},{\"attributes\":{\"line_alpha\":{\"value\":0.1},\"line_color\":{\"field\":\"color\"},\"line_width\":{\"value\":1.5},\"xs\":{\"field\":\"xs\"},\"ys\":{\"field\":\"ys\"}},\"id\":\"1070\",\"type\":\"MultiLine\"},{\"attributes\":{\"fill_alpha\":{\"value\":0.1},\"fill_color\":{\"value\":null},\"line_alpha\":{\"value\":0.1},\"line_color\":{\"value\":\"#e6550D\"},\"line_width\":{\"value\":3},\"size\":{\"units\":\"screen\",\"value\":10},\"x\":{\"field\":\"x\"},\"y\":{\"field\":\"y\"}},\"id\":\"1044\",\"type\":\"Circle\"},{\"attributes\":{\"line_color\":{\"field\":\"color\"},\"line_width\":{\"value\":1.5},\"xs\":{\"field\":\"xs\"},\"ys\":{\"field\":\"ys\"}},\"id\":\"1069\",\"type\":\"MultiLine\"},{\"attributes\":{\"line_color\":{\"value\":\"gray\"},\"line_dash\":[6],\"line_width\":{\"value\":2},\"xs\":{\"field\":\"xs\"},\"ys\":{\"field\":\"ys\"}},\"id\":\"1055\",\"type\":\"MultiLine\"},{\"attributes\":{\"formatter\":{\"id\":\"1091\"},\"ticker\":{\"id\":\"1020\"}},\"id\":\"1019\",\"type\":\"LinearAxis\"},{\"attributes\":{\"data_source\":{\"id\":\"1059\"},\"glyph\":{\"id\":\"1069\"},\"hover_glyph\":null,\"muted_glyph\":null,\"nonselection_glyph\":{\"id\":\"1070\"},\"selection_glyph\":null,\"view\":{\"id\":\"1072\"}},\"id\":\"1071\",\"type\":\"GlyphRenderer\"},{\"attributes\":{\"data\":{\"color\":[],\"label\":[],\"root\":[],\"x\":[],\"y\":[]},\"selected\":{\"id\":\"1093\"},\"selection_policy\":{\"id\":\"1094\"}},\"id\":\"1035\",\"type\":\"ColumnDataSource\"},{\"attributes\":{\"data\":{\"label\":[\"branch point #0\",\"branch point #1\",\"branch point #2\",\"branch point #3\"],\"root\":[\"[1, -1, 0]\",\"[1, 0, -1]\",\"[0, 1, -1]\",\"[0, 1, -1]\"],\"x\":[-0.975922662037001,0.975922662037001,0.7868238106107701,-0.7868238106107701],\"y\":[-0.3450966660865519,0.3450966660865519,0.672625484409702,-0.672625484409702]},\"selected\":{\"id\":\"1097\"},\"selection_policy\":{\"id\":\"1098\"}},\"id\":\"1047\",\"type\":\"ColumnDataSource\"},{\"attributes\":{\"source\":{\"id\":\"1035\"}},\"id\":\"1040\",\"type\":\"CDSView\"},{\"attributes\":{\"fill_color\":{\"value\":\"#e6550D\"},\"line_color\":{\"value\":\"#e6550D\"},\"line_width\":{\"value\":3},\"size\":{\"units\":\"screen\",\"value\":10},\"x\":{\"field\":\"x\"},\"y\":{\"field\":\"y\"}},\"id\":\"1050\",\"type\":\"X\"},{\"attributes\":{\"overlay\":{\"id\":\"1105\"}},\"id\":\"1004\",\"type\":\"BoxZoomTool\"},{\"attributes\":{},\"id\":\"1102\",\"type\":\"UnionRenderers\"},{\"attributes\":{},\"id\":\"1100\",\"type\":\"UnionRenderers\"},{\"attributes\":{},\"id\":\"1089\",\"type\":\"BasicTickFormatter\"},{\"attributes\":{\"data\":{\"xs\":[[-0.975922662037001,-0.975922662037001],[0.975922662037001,0.975922662037001],[0.7868238106107701,0.7868238106107701],[-0.7868238106107701,-0.7868238106107701]],\"ys\":[[-0.3450966660865519,5.654903333913448],[0.3450966660865519,6.345096666086552],[0.672625484409702,6.672625484409702],[-0.672625484409702,5.327374515590298]]},\"selected\":{\"id\":\"1099\"},\"selection_policy\":{\"id\":\"1100\"}},\"id\":\"1048\",\"type\":\"ColumnDataSource\"},{\"attributes\":{\"callback\":null,\"tooltips\":[[\"name\",\"@label\"],[\"root\",\"@root\"]]},\"id\":\"1002\",\"type\":\"HoverTool\"},{\"attributes\":{\"line_alpha\":{\"value\":0.1},\"line_color\":{\"value\":\"gray\"},\"line_dash\":[6],\"line_width\":{\"value\":2},\"xs\":{\"field\":\"xs\"},\"ys\":{\"field\":\"ys\"}},\"id\":\"1056\",\"type\":\"MultiLine\"},{\"attributes\":{\"source\":{\"id\":\"1059\"}},\"id\":\"1072\",\"type\":\"CDSView\"},{\"attributes\":{\"axis\":{\"id\":\"1023\"},\"dimension\":1,\"grid_line_color\":null,\"ticker\":null},\"id\":\"1026\",\"type\":\"Grid\"},{\"attributes\":{\"source\":{\"id\":\"1048\"}},\"id\":\"1058\",\"type\":\"CDSView\"},{\"attributes\":{\"source\":{\"id\":\"1059\"}},\"id\":\"1077\",\"type\":\"CDSView\"},{\"attributes\":{\"args\":{\"cds\":{\"id\":\"1059\"},\"dpds\":{\"id\":\"1060\"},\"hover\":{\"id\":\"1002\"}},\"code\":\"function show_data_points(cds, dpds, hover) {\\n    var cd = cds.get('data');\\n    var dpd = dpds.get('data');\\n    dpd['x'] = [];\\n    dpd['y'] = [];\\n\\n    for (var i = 0, i_stop = cd['xs'].length; i < i_stop; i++) {\\n        dpd['x'] = dpd['x'].concat(cd['xs'][i]);\\n        dpd['y'] = dpd['y'].concat(cd['ys'][i]);\\n    }\\n    hover.attributes.tooltips = null;\\n    dpds.trigger('change');\\n}\\n\\nfunction hide_data_points(cds, dpds, hover) {\\n    var cd = cds.get('data');\\n    var dpd = dpds.get('data');\\n    dpd['x'] = [];\\n    dpd['y'] = [];\\n\\n    hover.attributes.tooltips = [['name', '@label'], ['root', '@root']];\\n    dpds.trigger('change');\\n}\\n\\nfunction sn_slider(\\n    cb_obj, cds, snds, sn_idx_ds, dpds, pds, hover,\\n    plot_options_ds, tree_idx_ds\\n) {\\n    var cd = cds.get('data');\\n    var snd = snds.get('data');\\n    var dpd = dpds.get('data');\\n    var pd = pds.get('data');\\n    var current_sn_idx = sn_idx_ds.get('data');\\n    var sn_idx = cb_obj.get('value');\\n    var plot_options = plot_options_ds.get('data');\\n    var notebook = plot_options['notebook'];\\n    var show_trees = plot_options['show_trees'];\\n    var tree_idx = tree_idx_ds.get('data');\\n    \\n    current_sn_idx['i'] = sn_idx;\\n    tree_idx['j'] = 0;\\n    if (show_trees == 'true') {\\n        document.getElementById(\\\"current_tree_idx\\\").innerHTML = 'All';\\n    }\\n\\n    for (var key in cd) {\\n        if (cd.hasOwnProperty(key)) {\\n            if (show_trees == 'false') {\\n                cd[key] = snd['spectral_networks'][sn_idx][key];\\n            } else {\\n                cd[key] = snd['spectral_networks'][sn_idx][0][key];\\n            }\\n        }\\n    }\\n    cds.trigger('change');\\n    sn_idx_ds.trigger('change');\\n    tree_idx_ds.trigger('change');\\n    hide_data_points(cds, dpds, hover);\\n    if (notebook == 'false') {\\n        document.getElementById(\\\"phase\\\").innerHTML = pd['phase'][sn_idx];\\n    }\\n}\\n\\nfunction change_soliton_tree(\\n    cds, snds, sn_idx_ds, tree_idx_ds, plot_options_ds, change\\n) {\\n    var cd = cds.get('data');\\n    var snd = snds.get('data');\\n    var sn_idx = sn_idx_ds.get('data');\\n    var tree_idx = tree_idx_ds.get('data');\\n    var plot_options = plot_options_ds.get('data');\\n    var notebook = plot_options['notebook'];\\n    var show_trees = plot_options['show_trees'];\\n\\n    var sn_i = sn_idx['i'];\\n    var tree_j = Number(tree_idx['j']) + change;\\n    var max_tree_j = snd['spectral_networks'][sn_i].length;\\n    if (tree_j > max_tree_j) {\\n        tree_j = max_tree_j;\\n    } else if (tree_j < 0) {\\n        tree_j = 0;\\n    }\\n    \\n    for (var key in cd) {\\n        if (cd.hasOwnProperty(key)) {\\n            cd[key] = snd['spectral_networks'][sn_i][tree_j][key];\\n        }\\n    }\\n\\n    if (notebook == 'false') {\\n        var tree_idx_label = document.getElementById(\\\"current_tree_idx\\\");\\n        if (tree_j == 0) {\\n            tree_idx_label.innerHTML = 'All';\\n        } else {\\n            tree_idx_label.innerHTML = tree_j - 1;\\n        }\\n    }\\n    \\n    cds.trigger('change');\\n    tree_idx['j'] = String(tree_j);\\n    tree_idx_ds.trigger('change');\\n}\\n\\nfunction show_prev_soliton_tree(\\n    cds, snds, sn_idx_ds, tree_idx_ds, plot_options_ds\\n) {\\n    change_soliton_tree(\\n        cds, snds, sn_idx_ds, tree_idx_ds, plot_options_ds, -1\\n    );\\n}\\n\\nfunction show_next_soliton_tree(\\n    cds, snds, sn_idx_ds, tree_idx_ds, plot_options_ds\\n) {\\n    change_soliton_tree(\\n        cds, snds, sn_idx_ds, tree_idx_ds, plot_options_ds, 1\\n    );   \\n}\\n\\nfunction redraw_arrows(cds, x_range, y_range) {\\n    var cd = cds.get('data');\\n    var x_s = x_range.get('start');\\n    var x_e = x_range.get('end');\\n    var y_s = y_range.get('start');\\n    var y_e = y_range.get('end');\\n\\n    for (var i = 0, i_stop = cd['arrow_x'].length; i < i_stop; i++) {\\n        // Domain of the segment.\\n        var range = cd['ranges'][i];\\n        var x_min = range[0];\\n        var x_max = range[1];\\n        var y_min = range[2];\\n        var y_max = range[3];\\n\\n        if ((x_max < x_s) || (x_min > x_e) || (y_max < y_s) || (y_min > y_e)) {\\n            // The segment is out of screen.\\n            continue;\\n        }\\n\\n        // Now find the new location for the arrow.\\n        var a_x;\\n        var a_y;\\n        var a_i;\\n        var x = cd['xs'][i];\\n        var y = cd['ys'][i];\\n        var x_length = x.length;\\n        var denom = 2;\\n        var found = false;\\n\\n        while ((Math.floor(x_length / denom) > 0) && !found) {\\n            for (var j = 1; j < denom; j += 2) {\\n                a_i = Math.floor(x_length * j / denom);\\n                a_x = x[a_i];\\n                a_y = y[a_i];\\n                if ((a_x >= x_s) && (a_x <= x_e) && \\n                    (a_y >= y_s) && (a_y <= y_e)) {\\n                    found = true;\\n                    break;\\n                }\\n            }\\n            denom *= 2;\\n        }\\n        cd['arrow_x'][i] = a_x;\\n        cd['arrow_y'][i] = a_y;\\n        var Dx = x[a_i] - x[a_i - 1];\\n        var Dy = y[a_i] - y[a_i - 1];\\n        cd['arrow_angle'][i] = Math.atan2(Dy, Dx) - (Math.PI / 2);\\n    }\\n    cds.trigger('change');\\n}\\n\\nfunction update_plot_range(x_range, y_range) {\\n    var x_s = x_range.get('start');\\n    var x_e = x_range.get('end');\\n    var y_s = y_range.get('start');\\n    var y_e = y_range.get('end');\\n\\n    var plot_range_input = document.getElementById(\\\"plot_range_input\\\");\\n    plot_range_input.value =\\n        \\\"[[\\\" + x_s + \\\",\\\" + x_e + \\\"],[\\\" + y_s + \\\",\\\" + y_e + \\\"]]\\\";\\n}\\n\\nhide_data_points(cds, dpds, hover);\"},\"id\":\"1083\",\"type\":\"CustomJS\"},{\"attributes\":{},\"id\":\"1015\",\"type\":\"LinearScale\"},{\"attributes\":{\"callback\":null},\"id\":\"1008\",\"type\":\"TapTool\"},{\"attributes\":{},\"id\":\"1017\",\"type\":\"LinearScale\"},{\"attributes\":{\"active_drag\":\"auto\",\"active_inspect\":\"auto\",\"active_multi\":null,\"active_scroll\":\"auto\",\"active_tap\":\"auto\",\"tools\":[{\"id\":\"1003\"},{\"id\":\"1004\"},{\"id\":\"1005\"},{\"id\":\"1006\"},{\"id\":\"1007\"},{\"id\":\"1008\"},{\"id\":\"1002\"}]},\"id\":\"1027\",\"type\":\"Toolbar\"},{\"attributes\":{},\"id\":\"1094\",\"type\":\"UnionRenderers\"},{\"attributes\":{\"data_source\":{\"id\":\"1041\"},\"glyph\":{\"id\":\"1043\"},\"hover_glyph\":null,\"muted_glyph\":null,\"nonselection_glyph\":{\"id\":\"1044\"},\"selection_glyph\":null,\"view\":{\"id\":\"1046\"}},\"id\":\"1045\",\"type\":\"GlyphRenderer\"},{\"attributes\":{},\"id\":\"1098\",\"type\":\"UnionRenderers\"},{\"attributes\":{},\"id\":\"1093\",\"type\":\"Selection\"},{\"attributes\":{},\"id\":\"1101\",\"type\":\"Selection\"},{\"attributes\":{\"end\":3,\"start\":-3},\"id\":\"1013\",\"type\":\"Range1d\"},{\"attributes\":{\"source\":{\"id\":\"1047\"}},\"id\":\"1053\",\"type\":\"CDSView\"},{\"attributes\":{\"end\":3,\"start\":-3},\"id\":\"1011\",\"type\":\"Range1d\"},{\"attributes\":{\"angle\":{\"field\":\"arrow_angle\",\"units\":\"rad\"},\"fill_color\":{\"field\":\"color\"},\"line_color\":{\"field\":\"color\"},\"size\":{\"units\":\"screen\",\"value\":8},\"x\":{\"field\":\"arrow_x\"},\"y\":{\"field\":\"arrow_y\"}},\"id\":\"1074\",\"type\":\"Triangle\"},{\"attributes\":{},\"id\":\"1104\",\"type\":\"UnionRenderers\"},{\"attributes\":{\"fill_alpha\":{\"value\":0.1},\"fill_color\":{\"field\":\"color\"},\"line_alpha\":{\"value\":0.1},\"line_color\":{\"field\":\"color\"},\"size\":{\"units\":\"screen\",\"value\":5},\"x\":{\"field\":\"x\"},\"y\":{\"field\":\"y\"}},\"id\":\"1038\",\"type\":\"Circle\"},{\"attributes\":{\"fill_alpha\":{\"value\":0.5},\"fill_color\":{\"value\":\"#1f77b4\"},\"line_alpha\":{\"value\":0.5},\"line_color\":{\"value\":\"#1f77b4\"},\"x\":{\"field\":\"x\"},\"y\":{\"field\":\"y\"}},\"id\":\"1064\",\"type\":\"Scatter\"},{\"attributes\":{\"fill_alpha\":{\"value\":0.1},\"fill_color\":{\"value\":\"#1f77b4\"},\"line_alpha\":{\"value\":0.1},\"line_color\":{\"value\":\"#1f77b4\"},\"x\":{\"field\":\"x\"},\"y\":{\"field\":\"y\"}},\"id\":\"1065\",\"type\":\"Scatter\"},{\"attributes\":{},\"id\":\"1024\",\"type\":\"BasicTicker\"},{\"attributes\":{\"below\":[{\"id\":\"1019\"}],\"center\":[{\"id\":\"1022\"},{\"id\":\"1026\"}],\"left\":[{\"id\":\"1023\"}],\"plot_height\":800,\"plot_width\":800,\"renderers\":[{\"id\":\"1039\"},{\"id\":\"1045\"},{\"id\":\"1052\"},{\"id\":\"1057\"},{\"id\":\"1066\"},{\"id\":\"1071\"},{\"id\":\"1076\"}],\"title\":null,\"toolbar\":{\"id\":\"1027\"},\"x_range\":{\"id\":\"1011\"},\"x_scale\":{\"id\":\"1015\"},\"y_range\":{\"id\":\"1013\"},\"y_scale\":{\"id\":\"1017\"}},\"id\":\"1009\",\"subtype\":\"Figure\",\"type\":\"Plot\"},{\"attributes\":{},\"id\":\"1006\",\"type\":\"WheelZoomTool\"},{\"attributes\":{\"formatter\":{\"id\":\"1089\"},\"ticker\":{\"id\":\"1024\"}},\"id\":\"1023\",\"type\":\"LinearAxis\"},{\"attributes\":{\"axis\":{\"id\":\"1019\"},\"grid_line_color\":null,\"ticker\":null},\"id\":\"1022\",\"type\":\"Grid\"},{\"attributes\":{\"args\":{\"cds\":{\"id\":\"1059\"},\"dpds\":{\"id\":\"1060\"},\"hover\":{\"id\":\"1002\"}},\"code\":\"function show_data_points(cds, dpds, hover) {\\n    var cd = cds.get('data');\\n    var dpd = dpds.get('data');\\n    dpd['x'] = [];\\n    dpd['y'] = [];\\n\\n    for (var i = 0, i_stop = cd['xs'].length; i < i_stop; i++) {\\n        dpd['x'] = dpd['x'].concat(cd['xs'][i]);\\n        dpd['y'] = dpd['y'].concat(cd['ys'][i]);\\n    }\\n    hover.attributes.tooltips = null;\\n    dpds.trigger('change');\\n}\\n\\nfunction hide_data_points(cds, dpds, hover) {\\n    var cd = cds.get('data');\\n    var dpd = dpds.get('data');\\n    dpd['x'] = [];\\n    dpd['y'] = [];\\n\\n    hover.attributes.tooltips = [['name', '@label'], ['root', '@root']];\\n    dpds.trigger('change');\\n}\\n\\nfunction sn_slider(\\n    cb_obj, cds, snds, sn_idx_ds, dpds, pds, hover,\\n    plot_options_ds, tree_idx_ds\\n) {\\n    var cd = cds.get('data');\\n    var snd = snds.get('data');\\n    var dpd = dpds.get('data');\\n    var pd = pds.get('data');\\n    var current_sn_idx = sn_idx_ds.get('data');\\n    var sn_idx = cb_obj.get('value');\\n    var plot_options = plot_options_ds.get('data');\\n    var notebook = plot_options['notebook'];\\n    var show_trees = plot_options['show_trees'];\\n    var tree_idx = tree_idx_ds.get('data');\\n    \\n    current_sn_idx['i'] = sn_idx;\\n    tree_idx['j'] = 0;\\n    if (show_trees == 'true') {\\n        document.getElementById(\\\"current_tree_idx\\\").innerHTML = 'All';\\n    }\\n\\n    for (var key in cd) {\\n        if (cd.hasOwnProperty(key)) {\\n            if (show_trees == 'false') {\\n                cd[key] = snd['spectral_networks'][sn_idx][key];\\n            } else {\\n                cd[key] = snd['spectral_networks'][sn_idx][0][key];\\n            }\\n        }\\n    }\\n    cds.trigger('change');\\n    sn_idx_ds.trigger('change');\\n    tree_idx_ds.trigger('change');\\n    hide_data_points(cds, dpds, hover);\\n    if (notebook == 'false') {\\n        document.getElementById(\\\"phase\\\").innerHTML = pd['phase'][sn_idx];\\n    }\\n}\\n\\nfunction change_soliton_tree(\\n    cds, snds, sn_idx_ds, tree_idx_ds, plot_options_ds, change\\n) {\\n    var cd = cds.get('data');\\n    var snd = snds.get('data');\\n    var sn_idx = sn_idx_ds.get('data');\\n    var tree_idx = tree_idx_ds.get('data');\\n    var plot_options = plot_options_ds.get('data');\\n    var notebook = plot_options['notebook'];\\n    var show_trees = plot_options['show_trees'];\\n\\n    var sn_i = sn_idx['i'];\\n    var tree_j = Number(tree_idx['j']) + change;\\n    var max_tree_j = snd['spectral_networks'][sn_i].length;\\n    if (tree_j > max_tree_j) {\\n        tree_j = max_tree_j;\\n    } else if (tree_j < 0) {\\n        tree_j = 0;\\n    }\\n    \\n    for (var key in cd) {\\n        if (cd.hasOwnProperty(key)) {\\n            cd[key] = snd['spectral_networks'][sn_i][tree_j][key];\\n        }\\n    }\\n\\n    if (notebook == 'false') {\\n        var tree_idx_label = document.getElementById(\\\"current_tree_idx\\\");\\n        if (tree_j == 0) {\\n            tree_idx_label.innerHTML = 'All';\\n        } else {\\n            tree_idx_label.innerHTML = tree_j - 1;\\n        }\\n    }\\n    \\n    cds.trigger('change');\\n    tree_idx['j'] = String(tree_j);\\n    tree_idx_ds.trigger('change');\\n}\\n\\nfunction show_prev_soliton_tree(\\n    cds, snds, sn_idx_ds, tree_idx_ds, plot_options_ds\\n) {\\n    change_soliton_tree(\\n        cds, snds, sn_idx_ds, tree_idx_ds, plot_options_ds, -1\\n    );\\n}\\n\\nfunction show_next_soliton_tree(\\n    cds, snds, sn_idx_ds, tree_idx_ds, plot_options_ds\\n) {\\n    change_soliton_tree(\\n        cds, snds, sn_idx_ds, tree_idx_ds, plot_options_ds, 1\\n    );   \\n}\\n\\nfunction redraw_arrows(cds, x_range, y_range) {\\n    var cd = cds.get('data');\\n    var x_s = x_range.get('start');\\n    var x_e = x_range.get('end');\\n    var y_s = y_range.get('start');\\n    var y_e = y_range.get('end');\\n\\n    for (var i = 0, i_stop = cd['arrow_x'].length; i < i_stop; i++) {\\n        // Domain of the segment.\\n        var range = cd['ranges'][i];\\n        var x_min = range[0];\\n        var x_max = range[1];\\n        var y_min = range[2];\\n        var y_max = range[3];\\n\\n        if ((x_max < x_s) || (x_min > x_e) || (y_max < y_s) || (y_min > y_e)) {\\n            // The segment is out of screen.\\n            continue;\\n        }\\n\\n        // Now find the new location for the arrow.\\n        var a_x;\\n        var a_y;\\n        var a_i;\\n        var x = cd['xs'][i];\\n        var y = cd['ys'][i];\\n        var x_length = x.length;\\n        var denom = 2;\\n        var found = false;\\n\\n        while ((Math.floor(x_length / denom) > 0) && !found) {\\n            for (var j = 1; j < denom; j += 2) {\\n                a_i = Math.floor(x_length * j / denom);\\n                a_x = x[a_i];\\n                a_y = y[a_i];\\n                if ((a_x >= x_s) && (a_x <= x_e) && \\n                    (a_y >= y_s) && (a_y <= y_e)) {\\n                    found = true;\\n                    break;\\n                }\\n            }\\n            denom *= 2;\\n        }\\n        cd['arrow_x'][i] = a_x;\\n        cd['arrow_y'][i] = a_y;\\n        var Dx = x[a_i] - x[a_i - 1];\\n        var Dy = y[a_i] - y[a_i - 1];\\n        cd['arrow_angle'][i] = Math.atan2(Dy, Dx) - (Math.PI / 2);\\n    }\\n    cds.trigger('change');\\n}\\n\\nfunction update_plot_range(x_range, y_range) {\\n    var x_s = x_range.get('start');\\n    var x_e = x_range.get('end');\\n    var y_s = y_range.get('start');\\n    var y_e = y_range.get('end');\\n\\n    var plot_range_input = document.getElementById(\\\"plot_range_input\\\");\\n    plot_range_input.value =\\n        \\\"[[\\\" + x_s + \\\",\\\" + x_e + \\\"],[\\\" + y_s + \\\",\\\" + y_e + \\\"]]\\\";\\n}\\n\\nshow_data_points(cds, dpds, hover);\"},\"id\":\"1081\",\"type\":\"CustomJS\"}],\"root_ids\":[\"1087\"]},\"title\":\"Bokeh Application\",\"version\":\"2.0.0\"}};\n",
       "  var render_items = [{\"docid\":\"ec4ecc88-e522-47ed-8687-e900238c43b5\",\"root_ids\":[\"1087\"],\"roots\":{\"1087\":\"76e22d8a-dc41-40d6-b5f4-f47abfcfe698\"}}];\n",
       "  root.Bokeh.embed.embed_items_notebook(docs_json, render_items);\n",
       "\n",
       "  }\n",
       "  if (root.Bokeh !== undefined) {\n",
       "    embed_document(root);\n",
       "  } else {\n",
       "    var attempts = 0;\n",
       "    var timer = setInterval(function(root) {\n",
       "      if (root.Bokeh !== undefined) {\n",
       "        clearInterval(timer);\n",
       "        embed_document(root);\n",
       "      } else {\n",
       "        attempts++;\n",
       "        if (attempts > 100) {\n",
       "          clearInterval(timer);\n",
       "          console.log(\"Bokeh: ERROR: Unable to run BokehJS code because BokehJS library is missing\");\n",
       "        }\n",
       "      }\n",
       "    }, 10, root)\n",
       "  }\n",
       "})(window);"
      ],
      "application/vnd.bokehjs_exec.v0+json": ""
     },
     "metadata": {
      "application/vnd.bokehjs_exec.v0+json": {
       "id": "1087"
      }
     },
     "output_type": "display_data"
    }
   ],
   "source": [
    "plot_range = [[-3, 3], [-3, 3]]\n",
    "\n",
    "f = get_spectral_network_bokeh_plot(d, plot_range=plot_range, notebook=True)\n",
    "\n",
    "show(f)"
   ]
  },
  {
   "cell_type": "markdown",
   "metadata": {},
   "source": [
    "Save spectral network data in files."
   ]
  },
  {
   "cell_type": "code",
   "execution_count": 9,
   "metadata": {},
   "outputs": [
    {
     "ename": "TypeError",
     "evalue": "a bytes-like object is required, not 'str'",
     "output_type": "error",
     "traceback": [
      "\u001b[0;31m---------------------------------------------------------------------------\u001b[0m",
      "\u001b[0;31mTypeError\u001b[0m                                 Traceback (most recent call last)",
      "\u001b[0;32m<ipython-input-9-399f55cc1b80>\u001b[0m in \u001b[0;36m<module>\u001b[0;34m\u001b[0m\n\u001b[0;32m----> 1\u001b[0;31m \u001b[0md\u001b[0m\u001b[0;34m.\u001b[0m\u001b[0msave\u001b[0m\u001b[0;34m(\u001b[0m\u001b[0mdata_dir\u001b[0m\u001b[0;34m=\u001b[0m\u001b[0;34m'data/example'\u001b[0m\u001b[0;34m)\u001b[0m\u001b[0;34m\u001b[0m\u001b[0;34m\u001b[0m\u001b[0m\n\u001b[0m",
      "\u001b[0;32m~/loom/loom/api.py\u001b[0m in \u001b[0;36msave\u001b[0;34m(self, data_dir, make_zipped_file, logger_name)\u001b[0m\n\u001b[1;32m    158\u001b[0m         \u001b[0msw_data_file_path\u001b[0m \u001b[0;34m=\u001b[0m \u001b[0mos\u001b[0m\u001b[0;34m.\u001b[0m\u001b[0mpath\u001b[0m\u001b[0;34m.\u001b[0m\u001b[0mjoin\u001b[0m\u001b[0;34m(\u001b[0m\u001b[0mdata_dir\u001b[0m\u001b[0;34m,\u001b[0m \u001b[0;34m'sw_data.json'\u001b[0m\u001b[0;34m)\u001b[0m\u001b[0;34m\u001b[0m\u001b[0;34m\u001b[0m\u001b[0m\n\u001b[1;32m    159\u001b[0m         \u001b[0mlogger\u001b[0m\u001b[0;34m.\u001b[0m\u001b[0minfo\u001b[0m\u001b[0;34m(\u001b[0m\u001b[0;34m'Saving data to {}.'\u001b[0m\u001b[0;34m.\u001b[0m\u001b[0mformat\u001b[0m\u001b[0;34m(\u001b[0m\u001b[0msw_data_file_path\u001b[0m\u001b[0;34m)\u001b[0m\u001b[0;34m)\u001b[0m\u001b[0;34m\u001b[0m\u001b[0;34m\u001b[0m\u001b[0m\n\u001b[0;32m--> 160\u001b[0;31m         \u001b[0msw_data\u001b[0m\u001b[0;34m.\u001b[0m\u001b[0msave\u001b[0m\u001b[0;34m(\u001b[0m\u001b[0msw_data_file_path\u001b[0m\u001b[0;34m)\u001b[0m\u001b[0;34m\u001b[0m\u001b[0;34m\u001b[0m\u001b[0m\n\u001b[0m\u001b[1;32m    161\u001b[0m \u001b[0;34m\u001b[0m\u001b[0m\n\u001b[1;32m    162\u001b[0m         \u001b[0;31m# Save spectral network data.\u001b[0m\u001b[0;34m\u001b[0m\u001b[0;34m\u001b[0m\u001b[0;34m\u001b[0m\u001b[0m\n",
      "\u001b[0;32m~/loom/loom/geometry.py\u001b[0m in \u001b[0;36msave\u001b[0;34m(self, file_path)\u001b[0m\n\u001b[1;32m    929\u001b[0m         \u001b[0;32mwith\u001b[0m \u001b[0mopen\u001b[0m\u001b[0;34m(\u001b[0m\u001b[0mfile_path\u001b[0m\u001b[0;34m,\u001b[0m \u001b[0;34m'wb'\u001b[0m\u001b[0;34m)\u001b[0m \u001b[0;32mas\u001b[0m \u001b[0mfp\u001b[0m\u001b[0;34m:\u001b[0m\u001b[0;34m\u001b[0m\u001b[0;34m\u001b[0m\u001b[0m\n\u001b[1;32m    930\u001b[0m             \u001b[0mjson_data\u001b[0m \u001b[0;34m=\u001b[0m \u001b[0mself\u001b[0m\u001b[0;34m.\u001b[0m\u001b[0mget_json_data\u001b[0m\u001b[0;34m(\u001b[0m\u001b[0;34m)\u001b[0m\u001b[0;34m\u001b[0m\u001b[0;34m\u001b[0m\u001b[0m\n\u001b[0;32m--> 931\u001b[0;31m             \u001b[0mjson\u001b[0m\u001b[0;34m.\u001b[0m\u001b[0mdump\u001b[0m\u001b[0;34m(\u001b[0m\u001b[0mjson_data\u001b[0m\u001b[0;34m,\u001b[0m \u001b[0mfp\u001b[0m\u001b[0;34m,\u001b[0m\u001b[0;34m)\u001b[0m\u001b[0;34m\u001b[0m\u001b[0;34m\u001b[0m\u001b[0m\n\u001b[0m\u001b[1;32m    932\u001b[0m \u001b[0;34m\u001b[0m\u001b[0m\n\u001b[1;32m    933\u001b[0m     \u001b[0;32mdef\u001b[0m \u001b[0mget_json_data\u001b[0m\u001b[0;34m(\u001b[0m\u001b[0mself\u001b[0m\u001b[0;34m)\u001b[0m\u001b[0;34m:\u001b[0m\u001b[0;34m\u001b[0m\u001b[0;34m\u001b[0m\u001b[0m\n",
      "\u001b[0;32m/usr/lib/python3.6/json/__init__.py\u001b[0m in \u001b[0;36mdump\u001b[0;34m(obj, fp, skipkeys, ensure_ascii, check_circular, allow_nan, cls, indent, separators, default, sort_keys, **kw)\u001b[0m\n\u001b[1;32m    178\u001b[0m     \u001b[0;31m# a debuggability cost\u001b[0m\u001b[0;34m\u001b[0m\u001b[0;34m\u001b[0m\u001b[0;34m\u001b[0m\u001b[0m\n\u001b[1;32m    179\u001b[0m     \u001b[0;32mfor\u001b[0m \u001b[0mchunk\u001b[0m \u001b[0;32min\u001b[0m \u001b[0miterable\u001b[0m\u001b[0;34m:\u001b[0m\u001b[0;34m\u001b[0m\u001b[0;34m\u001b[0m\u001b[0m\n\u001b[0;32m--> 180\u001b[0;31m         \u001b[0mfp\u001b[0m\u001b[0;34m.\u001b[0m\u001b[0mwrite\u001b[0m\u001b[0;34m(\u001b[0m\u001b[0mchunk\u001b[0m\u001b[0;34m)\u001b[0m\u001b[0;34m\u001b[0m\u001b[0;34m\u001b[0m\u001b[0m\n\u001b[0m\u001b[1;32m    181\u001b[0m \u001b[0;34m\u001b[0m\u001b[0m\n\u001b[1;32m    182\u001b[0m \u001b[0;34m\u001b[0m\u001b[0m\n",
      "\u001b[0;31mTypeError\u001b[0m: a bytes-like object is required, not 'str'"
     ]
    }
   ],
   "source": [
    "d.save(data_dir='data/example')"
   ]
  },
  {
   "cell_type": "markdown",
   "metadata": {},
   "source": [
    "Load spectral networks from saved data."
   ]
  },
  {
   "cell_type": "code",
   "execution_count": null,
   "metadata": {},
   "outputs": [],
   "source": [
    "d = loom.api.SpectralNetworkData(data_dir='data/example')"
   ]
  },
  {
   "cell_type": "markdown",
   "metadata": {},
   "source": [
    "Extend spectral networks by additional steps, iterations, a new mass limit, or additional phases. "
   ]
  },
  {
   "cell_type": "code",
   "execution_count": null,
   "metadata": {
    "scrolled": true
   },
   "outputs": [],
   "source": [
    "d.extend(additional_n_steps=1000, new_mass_limit=10, additional_iterations=2, additional_phases=[1.0, 3.0, 3])"
   ]
  },
  {
   "cell_type": "markdown",
   "metadata": {},
   "source": [
    "Use the slider bar to change between spectral networks of different phases."
   ]
  },
  {
   "cell_type": "code",
   "execution_count": null,
   "metadata": {},
   "outputs": [],
   "source": [
    "plot_range = [[-5, 5], [-5, 5]]\n",
    "f = get_spectral_network_bokeh_plot(d, plot_range=plot_range, notebook=True)\n",
    "show(f)"
   ]
  },
  {
   "cell_type": "markdown",
   "metadata": {},
   "source": [
    "Save the bokeh plot to an html file. (Ignore the warning message.)"
   ]
  },
  {
   "cell_type": "code",
   "execution_count": null,
   "metadata": {},
   "outputs": [],
   "source": [
    "from loom.bokeh_plot import get_spectral_network_bokeh_plot\n",
    "\n",
    "plot_range = [[-5, 5], [-5, 5]]\n",
    "p = get_spectral_network_bokeh_plot(d, plot_range=plot_range, notebook=True)\n",
    "save(\n",
    "    obj=p,\n",
    "    filename='data/example.html',\n",
    "    title='Spectral networks of an Argyres-Douglas theory',\n",
    ")"
   ]
  },
  {
   "cell_type": "markdown",
   "metadata": {},
   "source": [
    "Bokeh exports an plot only to a PNG format. To get a PDF plot of better quality, use matplotlib."
   ]
  },
  {
   "cell_type": "code",
   "execution_count": null,
   "metadata": {
    "scrolled": true
   },
   "outputs": [],
   "source": [
    "plot_range = [[-5, 5], [-5, 5]]\n",
    "p = loom.api.make_spectral_network_plot(d, plot_range=plot_range)\n",
    "p.figure"
   ]
  },
  {
   "cell_type": "code",
   "execution_count": null,
   "metadata": {
    "collapsed": true,
    "jupyter": {
     "outputs_hidden": true
    }
   },
   "outputs": [],
   "source": [
    "p.figure.savefig('data/example.pdf', bbox_inches='tight')"
   ]
  }
 ],
 "metadata": {
  "kernelspec": {
   "display_name": "Python 3",
   "language": "python",
   "name": "python3"
  },
  "language_info": {
   "codemirror_mode": {
    "name": "ipython",
    "version": 3
   },
   "file_extension": ".py",
   "mimetype": "text/x-python",
   "name": "python",
   "nbconvert_exporter": "python",
   "pygments_lexer": "ipython3",
   "version": "3.6.9"
  }
 },
 "nbformat": 4,
 "nbformat_minor": 4
}
